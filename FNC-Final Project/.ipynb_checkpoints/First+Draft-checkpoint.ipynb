{
 "cells": [
  {
   "cell_type": "markdown",
   "metadata": {},
   "source": [
    "# First Draft\n",
    "\n",
    "## Abstract\n",
    "\n",
    "* Try different methods on combing title vectors and text vectors.\n",
    "* Concatenate text vectors made from w2v and d2v methods as final feature vectors(600d).\n",
    "* Using an Ensemble classifier(composed of three tuned estimators) to train and make predictions on the feature vectors we get.\n",
    "* Reach an over 0.94 f-1 score in test."
   ]
  },
  {
   "cell_type": "markdown",
   "metadata": {},
   "source": [
    "## Data Ingestion\n",
    "\n",
    "First, we need to import the data. Since we plan to test if using the combination of title vectors and text vectors would yield a better result, we import title corpus and text corpus seperately."
   ]
  },
  {
   "cell_type": "code",
   "execution_count": 26,
   "metadata": {
    "collapsed": true
   },
   "outputs": [],
   "source": [
    "# MengZe Zhang 2018-9-23\n",
    "# import all the data and split all strings to words in it\n",
    "\n",
    "import numpy as np\n",
    "import pandas as pd\n",
    "from nltk.stem import WordNetLemmatizer\n",
    "from nltk.corpus import stopwords\n",
    "from string import punctuation\n",
    "from itertools import chain\n",
    "from gensim.models import Word2Vec\n",
    "from gensim.models import Doc2Vec\n",
    "from gensim.models.doc2vec import TaggedDocument\n",
    "import nltk\n",
    "from sklearn.model_selection import train_test_split as tts\n",
    "from sklearn.linear_model import LogisticRegression\n",
    "from sklearn.metrics import classification_report as cr\n",
    "from sklearn.ensemble import RandomForestClassifier\n",
    "from xgboost import XGBClassifier\n",
    "from sklearn.svm import SVC\n",
    "from sklearn import cross_validation\n",
    "from sklearn.model_selection import RandomizedSearchCV\n",
    "from numpy import linspace\n",
    "df=pd.read_csv('E:/github/FakeNewsTutorials/data/fake_or_real_news.csv')\n",
    "title=np.asarray(df.title)\n",
    "text=np.asarray(df.text)\n",
    "y=np.asarray(df.label)\n",
    "textandtitlearray=np.concatenate((title,text),axis=0)\n",
    "title=[titles.lower().split() for titles in title]\n",
    "text=[texts.lower().split() for texts in text]"
   ]
  },
  {
   "cell_type": "markdown",
   "metadata": {},
   "source": [
    "## Preprocessing\n",
    "\n",
    "After importing all the data we have, we preprocessed the dataset in order to filter unuseful noise and make our data more informative. In this process, we first removed all stopwords from both the title corpus and the text corpus, then lemmatized the rest."
   ]
  },
  {
   "cell_type": "code",
   "execution_count": 27,
   "metadata": {
    "collapsed": true
   },
   "outputs": [],
   "source": [
    "# MengZe Zhang 2018-9-23\n",
    "# Defining a preprocessing function that can lemmatize and remove stopwords from the corpus\n",
    "# preprocessing both title corpus and text corpus\n",
    "\n",
    "\n",
    "def cleanandlemmatize(tokenized,sw,punc,iflemmatize=False):\n",
    "    new_text=[]\n",
    "    lemmatizer=WordNetLemmatizer()\n",
    "    if(iflemmatize==True):\n",
    "        for review in tokenized:\n",
    "            new_text.append([lemmatizer.lemmatize(word)for word in review if word not in chain(sw,punc)])\n",
    "    else:\n",
    "        for review in tokenized:\n",
    "            new_text.append([word for word in review if word not in chain(sw,punc)]) \n",
    "    return new_text\n",
    "sw=stopwords.words('english')\n",
    "punc=punctuation\n",
    "clean_title=cleanandlemmatize(title,sw,punc,True)\n",
    "clean_text=cleanandlemmatize(text,sw,punc,True)"
   ]
  },
  {
   "cell_type": "markdown",
   "metadata": {},
   "source": [
    "## How to combine titles and texts\n",
    "\n",
    "### Concatenation\n",
    "Our first notion of this issue is that we can first get two vectors, one is generated from the title corpus and the other is from text corpus, then we will concatenate these two vectors into one long vector. And then we will see if the long vector can provide more information than a single vector. The vectorization method we used was Word2Vec"
   ]
  },
  {
   "cell_type": "code",
   "execution_count": 28,
   "metadata": {
    "collapsed": true
   },
   "outputs": [],
   "source": [
    "# MengZe Zhang 2018-9-23\n",
    "# train two w2v models, one trained on text corpus, the other trained on title corpus\n",
    "\n",
    "\n",
    "model1 = Word2Vec(clean_title,\n",
    "                       size = 300,\n",
    "                       window = 5,\n",
    "                       min_count = 0,\n",
    "                       sg = 0,\n",
    "                       alpha = 0.025,\n",
    "                       iter=10,\n",
    "                       batch_words = 10000)\n",
    "model2 = Word2Vec(clean_text,\n",
    "                        size = 300,\n",
    "                        window = 5,\n",
    "                        min_count = 1,\n",
    "                        sg = 0,\n",
    "                        alpha = 0.025,\n",
    "                        iter=10,\n",
    "                        batch_words = 10000)\n"
   ]
  },
  {
   "cell_type": "code",
   "execution_count": 29,
   "metadata": {
    "collapsed": true
   },
   "outputs": [],
   "source": [
    "# MengZe Zhang 2018-9-23\n",
    "# Develope doc vectors from word vectors by taking average of word vectors\n",
    "\n",
    "title_list=[]\n",
    "text_list=[]\n",
    "deleteindex=[]\n",
    "deletecount=0\n",
    "for title,text in zip(clean_title,clean_text):\n",
    "   count=0\n",
    "   init_vec=np.zeros([300,])\n",
    "   init_vec1=np.zeros([300,])\n",
    "   for tiword,teword in zip(title,text):\n",
    "       init_vec+=model1.wv[tiword]\n",
    "       init_vec1+=model2.wv[teword]\n",
    "       count+=1\n",
    "   if(count==0):\n",
    "       deleteindex.append(deletecount)\n",
    "   else:\n",
    "       init_vec/=count\n",
    "       init_vec1/=count\n",
    "       title_list.append(init_vec)\n",
    "       text_list.append(init_vec1)\n",
    "   deletecount+=1"
   ]
  },
  {
   "cell_type": "code",
   "execution_count": 30,
   "metadata": {},
   "outputs": [
    {
     "data": {
      "text/plain": [
       "(6298, 600)"
      ]
     },
     "execution_count": 30,
     "metadata": {},
     "output_type": "execute_result"
    }
   ],
   "source": [
    "# MengZe Zhang 2018-9-23\n",
    "# concatenate title vectors and text vectors\n",
    "\n",
    "final_y=np.delete(y,deleteindex)\n",
    "titleandtext_list=[]\n",
    "for title,text  in zip(title_list,text_list):\n",
    "    titleandtext_list.append([*list(title),*list(text)])\n",
    "titleandtext_array=np.asarray(titleandtext_list)\n",
    "titleandtext_array.shape"
   ]
  },
  {
   "cell_type": "markdown",
   "metadata": {},
   "source": [
    "Now we have the vector, the next step is to find an accurate classifier, in order to do so, we tried four different kinds of classification methods which are Logistic Regression, Random Forest, XGBoost and SVC( we also intended to try multinomial naive Bayesian model, however it seems that MNB model doesn't take negative inputs and some elements in our vectors are inevitably negative."
   ]
  },
  {
   "cell_type": "code",
   "execution_count": 31,
   "metadata": {},
   "outputs": [
    {
     "name": "stdout",
     "output_type": "stream",
     "text": [
      "text_f1_score: 0.83 (+/- 0.00) [LR]\n",
      "text_f1_score: 0.78 (+/- 0.00) [RF]\n"
     ]
    },
    {
     "name": "stderr",
     "output_type": "stream",
     "text": [
      "F:\\Anaconda\\lib\\site-packages\\sklearn\\preprocessing\\label.py:151: DeprecationWarning: The truth value of an empty array is ambiguous. Returning False, but in future this will result in an error. Use `array.size > 0` to check that an array is not empty.\n",
      "  if diff:\n",
      "F:\\Anaconda\\lib\\site-packages\\sklearn\\preprocessing\\label.py:151: DeprecationWarning: The truth value of an empty array is ambiguous. Returning False, but in future this will result in an error. Use `array.size > 0` to check that an array is not empty.\n",
      "  if diff:\n",
      "F:\\Anaconda\\lib\\site-packages\\sklearn\\preprocessing\\label.py:151: DeprecationWarning: The truth value of an empty array is ambiguous. Returning False, but in future this will result in an error. Use `array.size > 0` to check that an array is not empty.\n",
      "  if diff:\n"
     ]
    },
    {
     "name": "stdout",
     "output_type": "stream",
     "text": [
      "text_f1_score: 0.83 (+/- 0.01) [XGB]\n",
      "text_f1_score: 0.82 (+/- 0.00) [SVC]\n"
     ]
    }
   ],
   "source": [
    "# MengZe Zhang 2018-9-23\n",
    "# test the concatenated vectors on four different classifiers(using crossvalidation)\n",
    "# evaluate their mean value and std of f-1 values\n",
    "\n",
    "realnumber_y=[1]*6298\n",
    "count=0\n",
    "for word in final_y:\n",
    "    if(word=='FAKE'):\n",
    "        realnumber_y[count]=0\n",
    "    else:\n",
    "        realnumber_y[count]=1\n",
    "    count+=1\n",
    "clf1=LogisticRegression()\n",
    "clf2=RandomForestClassifier()\n",
    "clf3=XGBClassifier()\n",
    "clf4=SVC(probability=True)\n",
    "\n",
    "for clf,label in zip([clf1,clf2,clf3,clf4],['LR','RF','XGB','SVC']):\n",
    "    scores=cross_validation.cross_val_score(clf,titleandtext_array,realnumber_y,scoring='f1')\n",
    "    print(\"text_f1_score: %0.2f (+/- %0.2f) [%s]\" % (scores.mean(), scores.std(), label))"
   ]
  },
  {
   "cell_type": "markdown",
   "metadata": {},
   "source": [
    "However, from the results we got from the last two weeks we know that models that trained solely on the text vectors have a performance that can reach about 0.9 on f-1 score. So we trained all four vectors we used above again, but this time the training provess only used text vectors."
   ]
  },
  {
   "cell_type": "code",
   "execution_count": 32,
   "metadata": {},
   "outputs": [
    {
     "name": "stdout",
     "output_type": "stream",
     "text": [
      "text_f1_score: 0.90 (+/- 0.00) [LR]\n",
      "text_f1_score: 0.88 (+/- 0.01) [RF]\n"
     ]
    },
    {
     "name": "stderr",
     "output_type": "stream",
     "text": [
      "F:\\Anaconda\\lib\\site-packages\\sklearn\\preprocessing\\label.py:151: DeprecationWarning: The truth value of an empty array is ambiguous. Returning False, but in future this will result in an error. Use `array.size > 0` to check that an array is not empty.\n",
      "  if diff:\n",
      "F:\\Anaconda\\lib\\site-packages\\sklearn\\preprocessing\\label.py:151: DeprecationWarning: The truth value of an empty array is ambiguous. Returning False, but in future this will result in an error. Use `array.size > 0` to check that an array is not empty.\n",
      "  if diff:\n",
      "F:\\Anaconda\\lib\\site-packages\\sklearn\\preprocessing\\label.py:151: DeprecationWarning: The truth value of an empty array is ambiguous. Returning False, but in future this will result in an error. Use `array.size > 0` to check that an array is not empty.\n",
      "  if diff:\n"
     ]
    },
    {
     "name": "stdout",
     "output_type": "stream",
     "text": [
      "text_f1_score: 0.90 (+/- 0.00) [XGB]\n",
      "text_f1_score: 0.88 (+/- 0.00) [SVC]\n"
     ]
    }
   ],
   "source": [
    "# MengZe Zhang 2018-9-23\n",
    "# test the text vectors on four different classifiers(using crossvalidation)\n",
    "# evaluate their mean value and std of f-1 values\n",
    "\n",
    "\n",
    "number_list=[]\n",
    "deleteindex=[]\n",
    "deletecount=0\n",
    "for review in clean_text:\n",
    "    count=0\n",
    "    init_vec=np.zeros([300,])\n",
    "    for word in review:\n",
    "        init_vec+=model2.wv[word]\n",
    "        count+=1\n",
    "    if(count==0):\n",
    "        deleteindex.append(deletecount)\n",
    "    else:\n",
    "        init_vec/=count\n",
    "        number_list.append(init_vec)\n",
    "    deletecount+=1\n",
    "w_text_array=np.asarray(number_list)\n",
    "final_y=np.delete(y,deleteindex)\n",
    "realnumber_y=[1]*6299\n",
    "count=0\n",
    "for word in final_y:\n",
    "    if(word=='FAKE'):\n",
    "        realnumber_y[count]=0\n",
    "    else:\n",
    "        realnumber_y[count]=1\n",
    "    count+=1\n",
    "for clf,label in zip([clf1,clf2,clf3,clf4],['LR','RF','XGB','SVC']):\n",
    "    scores=cross_validation.cross_val_score(clf,w_text_array,realnumber_y,scoring='f1')\n",
    "    print(\"text_f1_score: %0.2f (+/- %0.2f) [%s]\" % (scores.mean(), scores.std(), label))"
   ]
  },
  {
   "cell_type": "markdown",
   "metadata": {},
   "source": [
    "It is very frustrating that the concatenated vector's performance is even worse than the text vector, which means that the concatenation we did on the vectors is not a good way of improving the overall performance."
   ]
  },
  {
   "cell_type": "markdown",
   "metadata": {},
   "source": [
    "###  Weighted Average\n",
    "\n",
    "Our second solution to this issue is that first we can seperately build two models, one is trained on the text corpus and the other is trained on title corpus, then we take the weighted average of these two different models' results. The weights of different models will be decided based on their classification performance."
   ]
  },
  {
   "cell_type": "markdown",
   "metadata": {},
   "source": [
    "Since we already have the performance of text corpus based model, now we only need to evaluate the model trained on title corpus."
   ]
  },
  {
   "cell_type": "code",
   "execution_count": 33,
   "metadata": {},
   "outputs": [
    {
     "name": "stdout",
     "output_type": "stream",
     "text": [
      "text_f1_score: 0.57 (+/- 0.01) [LR]\n",
      "text_f1_score: 0.60 (+/- 0.00) [RF]\n"
     ]
    },
    {
     "name": "stderr",
     "output_type": "stream",
     "text": [
      "F:\\Anaconda\\lib\\site-packages\\sklearn\\preprocessing\\label.py:151: DeprecationWarning: The truth value of an empty array is ambiguous. Returning False, but in future this will result in an error. Use `array.size > 0` to check that an array is not empty.\n",
      "  if diff:\n",
      "F:\\Anaconda\\lib\\site-packages\\sklearn\\preprocessing\\label.py:151: DeprecationWarning: The truth value of an empty array is ambiguous. Returning False, but in future this will result in an error. Use `array.size > 0` to check that an array is not empty.\n",
      "  if diff:\n",
      "F:\\Anaconda\\lib\\site-packages\\sklearn\\preprocessing\\label.py:151: DeprecationWarning: The truth value of an empty array is ambiguous. Returning False, but in future this will result in an error. Use `array.size > 0` to check that an array is not empty.\n",
      "  if diff:\n"
     ]
    },
    {
     "name": "stdout",
     "output_type": "stream",
     "text": [
      "text_f1_score: 0.65 (+/- 0.01) [XGB]\n",
      "text_f1_score: 0.52 (+/- 0.00) [SVC]\n"
     ]
    }
   ],
   "source": [
    "# MengZe Zhang 2018-9-23\n",
    "# test the title vectors on four different classifiers(using crossvalidation)\n",
    "# evaluate their mean value and std of f-1 values\n",
    "\n",
    "\n",
    "number_list=[]\n",
    "deleteindex=[]\n",
    "deletecount=0\n",
    "for review in clean_title:\n",
    "    count=0\n",
    "    init_vec=np.zeros([300,])\n",
    "    for word in review:\n",
    "        init_vec+=model1.wv[word]\n",
    "        count+=1\n",
    "    if(count==0):\n",
    "        deleteindex.append(deletecount)\n",
    "    else:\n",
    "        init_vec/=count\n",
    "        number_list.append(init_vec)\n",
    "    deletecount+=1\n",
    "w_title_array=np.asarray(number_list)\n",
    "final_y=np.delete(y,deleteindex)\n",
    "realnumber_y=[1]*6334\n",
    "count=0\n",
    "for word in final_y:\n",
    "    if(word=='FAKE'):\n",
    "        realnumber_y[count]=0\n",
    "    else:\n",
    "        realnumber_y[count]=1\n",
    "    count+=1\n",
    "for clf,label in zip([clf1,clf2,clf3,clf4],['LR','RF','XGB','SVC']):\n",
    "    scores=cross_validation.cross_val_score(clf,w_title_array,realnumber_y,scoring='f1')\n",
    "    print(\"text_f1_score: %0.2f (+/- %0.2f) [%s]\" % (scores.mean(), scores.std(), label))"
   ]
  },
  {
   "cell_type": "markdown",
   "metadata": {},
   "source": [
    "To combine results from different models, we built an ensemble classifier to calculate the weighted average of different models'results, the class of EnsembleClassifier we built shows as follows:"
   ]
  },
  {
   "cell_type": "code",
   "execution_count": 34,
   "metadata": {
    "collapsed": true
   },
   "outputs": [],
   "source": [
    "# MengZe Zhang 2018-9-23\n",
    "# Define the EnsembleClassifier class\n",
    "\n",
    "class EnsembleClassifier():\n",
    "    \n",
    "    def __init__(self,textclfs,titleclfs,weights):\n",
    "        self.textclfs=textclfs\n",
    "        self.titleclfs=titleclfs\n",
    "        self.weights=weights\n",
    "\n",
    "    def fit(self,doc_vec,title_vec, y):\n",
    "        for text_clf in self.textclfs:\n",
    "            text_clf.fit(doc_vec,y)\n",
    "        for title_clf in self.titleclfs:\n",
    "            title_clf.fit(title_vec,y)\n",
    "        #print(\"fitting process is over\")\n",
    "    def predict(self, title_vec,doc_vec):\n",
    "        \n",
    "        print(\"predict process begins\")\n",
    "        avg=self.predict_proba(doc_vec,title_vec)\n",
    "        results=[]\n",
    "        for item in avg:\n",
    "          if(item[0]>item[1]):\n",
    "              results.append('FAKE')\n",
    "          else:\n",
    "              results.append('REAL')\n",
    "        print(\"predict process is over\")\n",
    "        return np.asarray(results)\n",
    "\n",
    "    def predict_proba(self, doc_vec, title_vec):\n",
    "        self.probas_ = [np.array(text_clf.predict_proba(doc_vec),dtype='float') for text_clf in self.textclfs]\n",
    "        for title_clf in self.titleclfs:\n",
    "            self.probas_.append(title_clf.predict_proba(title_vec))\n",
    "        avg = np.average(self.probas_, axis=0, weights=self.weights)\n",
    "#        for result,weight in zip(self.probas_,self.weights):\n",
    "#            sumresult+=result*weight\n",
    "#            sumweight+=weight\n",
    "#        avg=sumresult/sumweight\n",
    "        print(avg)\n",
    "        return avg  "
   ]
  },
  {
   "cell_type": "markdown",
   "metadata": {},
   "source": [
    "The initiation of this EnsembleClassifier takes three parameters, the first is the list of classifiers we want to train with text corpus, the second is the list of models we want to train with title corpus, the third is the list of weights for all classifiers we provided in the first two parameters. From the result of our previous tests, we can see that the best classifier for text corpus and title corpus is Logistic Regression and XGBoost respectively. So we used these two classifiers to build our Ensemble Classifier, and since the f-1  score of title corpus based model is fairly low, we set its weight to 0.5."
   ]
  },
  {
   "cell_type": "code",
   "execution_count": 35,
   "metadata": {
    "collapsed": true
   },
   "outputs": [],
   "source": [
    "# MengZe Zhang 2018-9-23\n",
    "# divide title corpus, text corpus and labels into training set and testing set\n",
    "\n",
    "\n",
    "title_list=[]\n",
    "text_list=[]\n",
    "deleteindex=[]\n",
    "deletecount=0\n",
    "for title,text in zip(clean_title,clean_text):\n",
    "   count=0\n",
    "   init_vec=np.zeros([300,])\n",
    "   init_vec1=np.zeros([300,])\n",
    "   for tiword,teword in zip(title,text):\n",
    "       init_vec+=model1.wv[tiword]\n",
    "       init_vec1+=model2.wv[teword]\n",
    "       count+=1\n",
    "   if(count==0):\n",
    "       deleteindex.append(deletecount)\n",
    "   else:\n",
    "       init_vec/=count\n",
    "       init_vec1/=count\n",
    "       title_list.append(init_vec)\n",
    "       text_list.append(init_vec1)\n",
    "   deletecount+=1\n",
    "final_y=np.delete(y,deleteindex)\n",
    "titleandtext_list=[]\n",
    "for title,text  in zip(title_list,text_list):\n",
    "    titleandtext_list.append([*list(title),*list(text)])\n",
    "teandti_train,teandti_test,y_train,y_test=tts(titleandtext_list,final_y,test_size=0.33,random_state=22)\n",
    "ultraclf=EnsembleClassifier(textclfs=[clf1],titleclfs=[clf3],weights=[1,0.5])\n",
    "text_train=[]\n",
    "title_train=[]\n",
    "text_test=[]\n",
    "title_test=[]\n",
    "for train in teandti_train:\n",
    "    title_train.append(train[0:300])\n",
    "    text_train.append(train[300:])\n",
    "for test in teandti_test:\n",
    "    title_test.append(test[0:300])\n",
    "    text_test.append(test[300:])"
   ]
  },
  {
   "cell_type": "code",
   "execution_count": 36,
   "metadata": {},
   "outputs": [
    {
     "name": "stdout",
     "output_type": "stream",
     "text": [
      "predict process begins\n",
      "[[0.23497969 0.7650203 ]\n",
      " [0.84014488 0.15985512]\n",
      " [0.34926832 0.65073168]\n",
      " ...\n",
      " [0.06299413 0.93700587]\n",
      " [0.6407512  0.3592488 ]\n",
      " [0.19392919 0.80607081]]\n",
      "predict process is over\n",
      "             precision    recall  f1-score   support\n",
      "\n",
      "       FAKE     0.8373    0.8332    0.8352      1025\n",
      "       REAL     0.8385    0.8425    0.8405      1054\n",
      "\n",
      "avg / total     0.8379    0.8379    0.8379      2079\n",
      "\n"
     ]
    }
   ],
   "source": [
    "# MengZe Zhang 2018-9-23\n",
    "# using the ensemble classifier to trian on title train corpus and text train corpus\n",
    "# make predicitons on title test corpus and text test corpus\n",
    "# evaluate its performance\n",
    "\n",
    "text_train=np.asarray(text_train)\n",
    "text_test=np.asarray(text_test)\n",
    "title_train=np.asarray(title_train)\n",
    "title_test=np.asarray(title_test)\n",
    "ultraclf.fit(text_train,title_train,y_train)\n",
    "prediction=ultraclf.predict(title_test,text_test)\n",
    "target_names=['FAKE','REAL']\n",
    "print(cr(y_test,prediction,target_names=target_names,digits=4))"
   ]
  },
  {
   "cell_type": "markdown",
   "metadata": {},
   "source": [
    "Again, the combination of title and text yields no better performance than solely using text. We also repeated this same experiment on the TFIDF vectors of text and titles, and the result shows no difference than this one. So we decided to give up on using title vectors and try different ways of making more informative feature vectors."
   ]
  },
  {
   "cell_type": "markdown",
   "metadata": {},
   "source": [
    "##  How to combine results of different vectorization method\n",
    "### Concatenation\n",
    "We think the reason why using the combinations of text vectors and title vectors shows no better performance is that the information provided by titles is either too few to influence the final resullt or too conflicting with those provided by the text. So we think maybe using the combinations of different text vectors made by differetn vectorization methods would show more information, and the first way of combination we tried was still concatenation."
   ]
  },
  {
   "cell_type": "code",
   "execution_count": 46,
   "metadata": {
    "collapsed": true
   },
   "outputs": [],
   "source": [
    "# MengZe Zhang 2018-9-23\n",
    "# Develope doc vectors from word vectors by taking average of word vectors\n",
    "\n",
    "number_list=[]\n",
    "deleteindex=[]\n",
    "deletecount=0\n",
    "for review in clean_text:\n",
    "    count=0\n",
    "    init_vec=np.zeros([300,])\n",
    "    for word in review:\n",
    "        init_vec+=model2.wv[word]\n",
    "        count+=1\n",
    "    if(count==0):\n",
    "        deleteindex.append(deletecount)\n",
    "    else:\n",
    "        init_vec/=count\n",
    "        number_list.append(init_vec)\n",
    "    deletecount+=1\n",
    "w_text_array=np.asarray(number_list)"
   ]
  },
  {
   "cell_type": "code",
   "execution_count": 47,
   "metadata": {},
   "outputs": [
    {
     "name": "stderr",
     "output_type": "stream",
     "text": [
      "F:\\Anaconda\\lib\\site-packages\\gensim\\models\\doc2vec.py:531: UserWarning: The parameter `iter` is deprecated, will be removed in 4.0.0, use `epochs` instead.\n",
      "  warnings.warn(\"The parameter `iter` is deprecated, will be removed in 4.0.0, use `epochs` instead.\")\n",
      "F:\\Anaconda\\lib\\site-packages\\gensim\\models\\doc2vec.py:535: UserWarning: The parameter `size` is deprecated, will be removed in 4.0.0, use `vector_size` instead.\n",
      "  warnings.warn(\"The parameter `size` is deprecated, will be removed in 4.0.0, use `vector_size` instead.\")\n"
     ]
    }
   ],
   "source": [
    "# MengZe Zhang 2018-9-23\n",
    "# take doc vectors by using d2v method\n",
    "\n",
    "tagged_docs = [TaggedDocument(doc, tags=[idx]) for idx, doc in enumerate(clean_text)]\n",
    "# model built on text area\n",
    "doc2vec1 = Doc2Vec(tagged_docs,size=300, window=5, min_count=5, dm = 0.5, iter=10)\n",
    "doc2vec1.train(tagged_docs, epochs=50, total_examples=doc2vec1.corpus_count)\n",
    "new_list2=[]\n",
    "for i in range(doc2vec1.docvecs.count):\n",
    "    new_list2.append(doc2vec1.docvecs[i])\n",
    "text_array=np.asarray(new_list2)"
   ]
  },
  {
   "cell_type": "code",
   "execution_count": 48,
   "metadata": {
    "collapsed": true
   },
   "outputs": [],
   "source": [
    "# MengZe Zhang 2018-9-23\n",
    "# process the lael array and doc array made from d2v, so that all three arrays can have the same shape.\n",
    "\n",
    "final_y=np.delete(y,deleteindex)\n",
    "d_text_array=np.delete(text_array,deleteindex,axis=0)\n",
    "wordanddoc_list=[]\n",
    "for word,doc  in zip(w_text_array,d_text_array):\n",
    "    wordanddoc_list.append([*list(word),*list(doc)])\n",
    "    \n",
    "wordanddoc_array=np.asarray(wordanddoc_list)\n",
    "\n",
    "realnumber_y=[1]*6299\n",
    "count=0\n",
    "for word in final_y:\n",
    "    if(word=='FAKE'):\n",
    "        realnumber_y[count]=0\n",
    "    else:\n",
    "        realnumber_y[count]=1\n",
    "    count+=1"
   ]
  },
  {
   "cell_type": "code",
   "execution_count": 49,
   "metadata": {},
   "outputs": [
    {
     "name": "stdout",
     "output_type": "stream",
     "text": [
      "text_f1_score: 0.93 (+/- 0.00) [LR]\n",
      "text_f1_score: 0.87 (+/- 0.01) [RF]\n"
     ]
    },
    {
     "name": "stderr",
     "output_type": "stream",
     "text": [
      "F:\\Anaconda\\lib\\site-packages\\sklearn\\preprocessing\\label.py:151: DeprecationWarning: The truth value of an empty array is ambiguous. Returning False, but in future this will result in an error. Use `array.size > 0` to check that an array is not empty.\n",
      "  if diff:\n",
      "F:\\Anaconda\\lib\\site-packages\\sklearn\\preprocessing\\label.py:151: DeprecationWarning: The truth value of an empty array is ambiguous. Returning False, but in future this will result in an error. Use `array.size > 0` to check that an array is not empty.\n",
      "  if diff:\n",
      "F:\\Anaconda\\lib\\site-packages\\sklearn\\preprocessing\\label.py:151: DeprecationWarning: The truth value of an empty array is ambiguous. Returning False, but in future this will result in an error. Use `array.size > 0` to check that an array is not empty.\n",
      "  if diff:\n"
     ]
    },
    {
     "name": "stdout",
     "output_type": "stream",
     "text": [
      "text_f1_score: 0.91 (+/- 0.01) [XGB]\n",
      "text_f1_score: 0.93 (+/- 0.00) [SVC]\n"
     ]
    }
   ],
   "source": [
    "# MengZe Zhang 2018-9-23\n",
    "# test the concatenate vectors on four classifiers.\n",
    "\n",
    "clf1=LogisticRegression()\n",
    "clf2=RandomForestClassifier()\n",
    "clf3=XGBClassifier()\n",
    "clf4=SVC(probability=True)\n",
    "\n",
    "for clf,label in zip([clf1,clf2,clf3,clf4],['LR','RF','XGB','SVC']):\n",
    "    scores=cross_validation.cross_val_score(clf,wordanddoc_array,realnumber_y,scoring='f1')\n",
    "    print(\"text_f1_score: %0.2f (+/- %0.2f) [%s]\" % (scores.mean(), scores.std(), label))"
   ]
  },
  {
   "cell_type": "markdown",
   "metadata": {},
   "source": [
    "As we can see the results are so much better than only using text vectors, all the four classifiers we tested got a considerable amount of improvement which means this kind of combination is actually working."
   ]
  },
  {
   "cell_type": "markdown",
   "metadata": {},
   "source": [
    "## Using the Ensemble Voting Classifier\n",
    "Now we have our desired vectors, we need to consider which classifier we need to use. Then  we realized in stead of just using one classifier, maybe using a voting classifier which can actually take several different classifiers' results into account and then give a final classification would be our best choice. And luckily we found that with some small tunes on the parameters, the Ensemble Classifier class we just created can do the trick."
   ]
  },
  {
   "cell_type": "markdown",
   "metadata": {},
   "source": [
    "We decided to take those classifiers whose performance are in the top three list, by the previous result, these classifiers are clf1(Logistic Regression), clf3(XGBoost) and clf4(SVC). Since we only use vectors build from text, we passed all these three models as the first parameter to the EnsembleClassifier, and set all their weights to be 1. But Before that, we plan to use random grid search on each classifier to tune their hyperparameters."
   ]
  },
  {
   "cell_type": "code",
   "execution_count": 51,
   "metadata": {
    "collapsed": true
   },
   "outputs": [],
   "source": [
    "# MengZe Zhang 2018-9-23\n",
    "# setting three sets of parameters for random grid search\n",
    "# random_grid1 for clf1,random_grid3 for clf3,random_grid4 for clf4\n",
    "\n",
    "c=np.linspace(1,50,200)\n",
    "random_grid1={'C':c}\n",
    "\n",
    "\n",
    "random_grid3 = {\n",
    "        'min_child_weight': [1, 5, 10],\n",
    "        'gamma': np.linspace(0.1,5,100),\n",
    "        'max_depth': list(range(1,9,1)),\n",
    "        'n_estimators': list(range(200,2000,10))\n",
    "        }\n",
    "\n",
    "\n",
    "random_grid4= {'C':linspace(1,50,200),'gamma':linspace(0.001,1,200), 'kernel':['linear','rbf']}\n",
    "n_iter_search=100\n",
    "random_search1=RandomizedSearchCV(clf1,cv=5,param_distributions=random_grid1,n_iter=n_iter_search,return_train_score=True,n_jobs=6)\n",
    "random_search3=RandomizedSearchCV(clf3,cv=5,param_distributions=random_grid3,n_iter=n_iter_search,return_train_score=True,n_jobs=6)\n",
    "random_search4=RandomizedSearchCV(clf4,cv=5,param_distributions=random_grid4,n_iter=n_iter_search,return_train_score=True,n_jobs=6)"
   ]
  },
  {
   "cell_type": "code",
   "execution_count": 52,
   "metadata": {
    "collapsed": true
   },
   "outputs": [],
   "source": [
    "# MengZe Zhang 2018-9-23\n",
    "# divide the whole corpus into three parts: validation set(25%), test set(25%) and training set(25%)\n",
    "test_size=0.25\n",
    "validation_size=0.25\n",
    "test_validation_size=test_size+validation_size\n",
    "test_size1=test_size/test_validation_size\n",
    "x_train,x_testandvalid,y_train,y_testandvalid=tts(wordanddoc_array,final_y,test_size=test_validation_size,random_state=22)\n",
    "x_valid,x_test,y_valid,y_test=tts(x_testandvalid,y_testandvalid,test_size=test_size1,random_state=22)"
   ]
  },
  {
   "cell_type": "code",
   "execution_count": 17,
   "metadata": {},
   "outputs": [
    {
     "data": {
      "text/plain": [
       "RandomizedSearchCV(cv=5, error_score='raise',\n",
       "          estimator=LogisticRegression(C=1.0, class_weight=None, dual=False, fit_intercept=True,\n",
       "          intercept_scaling=1, max_iter=100, multi_class='ovr', n_jobs=1,\n",
       "          penalty='l2', random_state=None, solver='liblinear', tol=0.0001,\n",
       "          verbose=0, warm_start=False),\n",
       "          fit_params=None, iid=True, n_iter=10, n_jobs=6,\n",
       "          param_distributions={'C': array([ 1.     ,  1.24623, ..., 49.75377, 50.     ])},\n",
       "          pre_dispatch='2*n_jobs', random_state=None, refit=True,\n",
       "          return_train_score=True, scoring=None, verbose=0)"
      ]
     },
     "execution_count": 17,
     "metadata": {},
     "output_type": "execute_result"
    }
   ],
   "source": [
    "random_search1.fit(x_valid,y_valid)"
   ]
  },
  {
   "cell_type": "code",
   "execution_count": 18,
   "metadata": {},
   "outputs": [
    {
     "data": {
      "text/plain": [
       "RandomizedSearchCV(cv=5, error_score='raise',\n",
       "          estimator=XGBClassifier(base_score=0.5, booster='gbtree', colsample_bylevel=1,\n",
       "       colsample_bytree=1, gamma=0, learning_rate=0.1, max_delta_step=0,\n",
       "       max_depth=3, min_child_weight=1, missing=None, n_estimators=100,\n",
       "       n_jobs=1, nthread=None, objective='binary:logistic', random_state=0,\n",
       "       reg_alpha=0, reg_lambda=1, scale_pos_weight=1, seed=None,\n",
       "       silent=True, subsample=1),\n",
       "          fit_params=None, iid=True, n_iter=10, n_jobs=6,\n",
       "          param_distributions={'min_child_weight': [1, 5, 10], 'gamma': array([0.1    , 0.14949, ..., 4.95051, 5.     ]), 'max_depth': [1, 2, 3, 4, 5, 6, 7, 8], 'n_estimators': [200, 210, 220, 230, 240, 250, 260, 270, 280, 290, 300, 310, 320, 330, 340, 350, 360, 370, 380, 390, 400, 410, 420, 430, 440, 450, 46...30, 1840, 1850, 1860, 1870, 1880, 1890, 1900, 1910, 1920, 1930, 1940, 1950, 1960, 1970, 1980, 1990]},\n",
       "          pre_dispatch='2*n_jobs', random_state=None, refit=True,\n",
       "          return_train_score=True, scoring=None, verbose=0)"
      ]
     },
     "execution_count": 18,
     "metadata": {},
     "output_type": "execute_result"
    }
   ],
   "source": [
    "random_search3.fit(x_valid,y_valid)"
   ]
  },
  {
   "cell_type": "code",
   "execution_count": 19,
   "metadata": {},
   "outputs": [
    {
     "data": {
      "text/plain": [
       "RandomizedSearchCV(cv=5, error_score='raise',\n",
       "          estimator=SVC(C=1.0, cache_size=200, class_weight=None, coef0=0.0,\n",
       "  decision_function_shape='ovr', degree=3, gamma='auto', kernel='rbf',\n",
       "  max_iter=-1, probability=True, random_state=None, shrinking=True,\n",
       "  tol=0.001, verbose=False),\n",
       "          fit_params=None, iid=True, n_iter=10, n_jobs=6,\n",
       "          param_distributions={'C': array([ 1.     ,  1.24623, ..., 49.75377, 50.     ]), 'gamma': array([0.001  , 0.00602, ..., 0.99498, 1.     ]), 'kernel': ['linear', 'rbf']},\n",
       "          pre_dispatch='2*n_jobs', random_state=None, refit=True,\n",
       "          return_train_score=True, scoring=None, verbose=0)"
      ]
     },
     "execution_count": 19,
     "metadata": {},
     "output_type": "execute_result"
    }
   ],
   "source": [
    "random_search4.fit(x_valid,y_valid)"
   ]
  },
  {
   "cell_type": "code",
   "execution_count": 53,
   "metadata": {},
   "outputs": [
    {
     "name": "stdout",
     "output_type": "stream",
     "text": [
      "predict process begins\n",
      "[[0.57315296 0.42684704]\n",
      " [0.46745261 0.53254738]\n",
      " [0.02940278 0.97059722]\n",
      " ...\n",
      " [0.23963596 0.76036404]\n",
      " [0.15133448 0.84866552]\n",
      " [0.24705431 0.75294569]]\n",
      "predict process is over\n",
      "             precision    recall  f1-score   support\n",
      "\n",
      "       FAKE     0.9345    0.9513    0.9428       780\n",
      "       REAL     0.9513    0.9346    0.9429       795\n",
      "\n",
      "avg / total     0.9430    0.9429    0.9429      1575\n",
      "\n"
     ]
    }
   ],
   "source": [
    "# MengZe Zhang 2018-9-23\n",
    "# assign all three best estimators of three random gridsearch to clf1, clf3 and clf4\n",
    "# use the ensemble classifier to train and test on the training set and test set.\n",
    "# evaluate its performance.\n",
    "\n",
    "clf1=random_search1.best_estimator_\n",
    "clf3=random_search3.best_estimator_\n",
    "clf4=random_search4.best_estimator_\n",
    "ultraclf=EnsembleClassifier(textclfs=[clf1,clf3,clf4],titleclfs=[],weights=[1,1,1])\n",
    "ultraclf.fit(x_train,x_train,y_train)\n",
    "prediction=ultraclf.predict(x_test,x_test)\n",
    "target_names=['FAKE','REAL']\n",
    "print(cr(y_test,prediction,target_names=target_names,digits=4))"
   ]
  },
  {
   "cell_type": "markdown",
   "metadata": {},
   "source": [
    "The final result given by the voting classifier is even better than every single one of its component classifier, it reaches an f-1 score of over 0.94 as shown above. Now as always, we'll present the confusion matrix of the result from our best classifier"
   ]
  },
  {
   "cell_type": "code",
   "execution_count": 54,
   "metadata": {
    "collapsed": true
   },
   "outputs": [],
   "source": [
    "# MengZe Zhang 2018-9-23\n",
    "# make a function that can plot cofusion matrix\n",
    "#This is a compact version of the orginal function(The original function is here:http://scikit-learn.org/stable/auto_examples/model_selection/plot_confusion_matrix.html)\n",
    "\n",
    "import matplotlib.pyplot as plt\n",
    "from sklearn import metrics\n",
    "import itertools\n",
    "def plot_confusion_matrix(cm,classes,title='Confusion Matrix',cmap=plt.cm.Blues):\n",
    "    plt.imshow(cm,interpolation='nearest',cmap=cmap)\n",
    "    plt.title(title)\n",
    "    plt.colorbar()\n",
    "    tick_marks = np.arange(len(classes))\n",
    "    plt.xticks(tick_marks, classes, rotation=45)\n",
    "    plt.yticks(tick_marks, classes)\n",
    "    thresh = cm.max() / 2.\n",
    "    for i, j in itertools.product(range(cm.shape[0]),range(cm.shape[1])):\n",
    "        plt.text(j, i, cm[i, j],\n",
    "                 horizontalalignment=\"center\",\n",
    "                 color=\"white\" if cm[i, j] > thresh else \"black\")\n",
    "    plt.tight_layout()\n",
    "    plt.ylabel('True label')\n",
    "    plt.xlabel('Predicted label')"
   ]
  },
  {
   "cell_type": "code",
   "execution_count": 55,
   "metadata": {},
   "outputs": [
    {
     "data": {
      "image/png": "[encoded data removed]",
      "text/plain": [
       "<matplotlib.figure.Figure at 0x1a1bb9e0128>"
      ]
     },
     "metadata": {},
     "output_type": "display_data"
    }
   ],
   "source": [
    "# MengZe Zhang 2018-9-23\n",
    "# plot the confusion matrix\n",
    "\n",
    "%matplotlib inline\n",
    "cm=metrics.confusion_matrix(y_test,prediction,target_names)\n",
    "plot_confusion_matrix(cm,classes=target_names)"
   ]
  }
 ],
 "metadata": {
  "kernelspec": {
   "display_name": "Python 3",
   "language": "python",
   "name": "python3"
  },
  "language_info": {
   "codemirror_mode": {
    "name": "ipython",
    "version": 3
   },
   "file_extension": ".py",
   "mimetype": "text/x-python",
   "name": "python",
   "nbconvert_exporter": "python",
   "pygments_lexer": "ipython3",
   "version": "3.6.2"
  }
 },
 "nbformat": 4,
 "nbformat_minor": 2
}
