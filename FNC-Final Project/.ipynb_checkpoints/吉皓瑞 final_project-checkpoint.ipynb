{
 "cells": [
  {
   "cell_type": "code",
   "execution_count": 1,
   "metadata": {},
   "outputs": [
    {
     "data": {
      "text/html": [
       "<div>\n",
       "<style>\n",
       "    .dataframe thead tr:only-child th {\n",
       "        text-align: right;\n",
       "    }\n",
       "\n",
       "    .dataframe thead th {\n",
       "        text-align: left;\n",
       "    }\n",
       "\n",
       "    .dataframe tbody tr th {\n",
       "        vertical-align: top;\n",
       "    }\n",
       "</style>\n",
       "<table border=\"1\" class=\"dataframe\">\n",
       "  <thead>\n",
       "    <tr style=\"text-align: right;\">\n",
       "      <th></th>\n",
       "      <th>Unnamed: 0</th>\n",
       "      <th>title</th>\n",
       "      <th>text</th>\n",
       "      <th>label</th>\n",
       "      <th>title_vectors</th>\n",
       "    </tr>\n",
       "  </thead>\n",
       "  <tbody>\n",
       "    <tr>\n",
       "      <th>0</th>\n",
       "      <td>8476</td>\n",
       "      <td>You Can Smell Hillary’s Fear</td>\n",
       "      <td>Daniel Greenfield, a Shillman Journalism Fello...</td>\n",
       "      <td>0</td>\n",
       "      <td>[ 1.1533764e-02  4.2144405e-03  1.9692603e-02 ...</td>\n",
       "    </tr>\n",
       "    <tr>\n",
       "      <th>1</th>\n",
       "      <td>10294</td>\n",
       "      <td>Watch The Exact Moment Paul Ryan Committed Pol...</td>\n",
       "      <td>Google Pinterest Digg Linkedin Reddit Stumbleu...</td>\n",
       "      <td>0</td>\n",
       "      <td>[ 0.11267698  0.02518966 -0.00212591  0.021095...</td>\n",
       "    </tr>\n",
       "    <tr>\n",
       "      <th>2</th>\n",
       "      <td>3608</td>\n",
       "      <td>Kerry to go to Paris in gesture of sympathy</td>\n",
       "      <td>U.S. Secretary of State John F. Kerry said Mon...</td>\n",
       "      <td>1</td>\n",
       "      <td>[ 0.04253004  0.04300297  0.01848392  0.048672...</td>\n",
       "    </tr>\n",
       "    <tr>\n",
       "      <th>3</th>\n",
       "      <td>10142</td>\n",
       "      <td>Bernie supporters on Twitter erupt in anger ag...</td>\n",
       "      <td>— Kaydee King (@KaydeeKing) November 9, 2016 T...</td>\n",
       "      <td>0</td>\n",
       "      <td>[ 0.10801624  0.11583211  0.02874823  0.061732...</td>\n",
       "    </tr>\n",
       "    <tr>\n",
       "      <th>4</th>\n",
       "      <td>875</td>\n",
       "      <td>The Battle of New York: Why This Primary Matters</td>\n",
       "      <td>It's primary day in New York and front-runners...</td>\n",
       "      <td>1</td>\n",
       "      <td>[ 1.69016439e-02  7.13498285e-03 -7.81233795e-...</td>\n",
       "    </tr>\n",
       "  </tbody>\n",
       "</table>\n",
       "</div>"
      ],
      "text/plain": [
       "   Unnamed: 0                                              title  \\\n",
       "0        8476                       You Can Smell Hillary’s Fear   \n",
       "1       10294  Watch The Exact Moment Paul Ryan Committed Pol...   \n",
       "2        3608        Kerry to go to Paris in gesture of sympathy   \n",
       "3       10142  Bernie supporters on Twitter erupt in anger ag...   \n",
       "4         875   The Battle of New York: Why This Primary Matters   \n",
       "\n",
       "                                                text label  \\\n",
       "0  Daniel Greenfield, a Shillman Journalism Fello...     0   \n",
       "1  Google Pinterest Digg Linkedin Reddit Stumbleu...     0   \n",
       "2  U.S. Secretary of State John F. Kerry said Mon...     1   \n",
       "3  — Kaydee King (@KaydeeKing) November 9, 2016 T...     0   \n",
       "4  It's primary day in New York and front-runners...     1   \n",
       "\n",
       "                                       title_vectors  \n",
       "0  [ 1.1533764e-02  4.2144405e-03  1.9692603e-02 ...  \n",
       "1  [ 0.11267698  0.02518966 -0.00212591  0.021095...  \n",
       "2  [ 0.04253004  0.04300297  0.01848392  0.048672...  \n",
       "3  [ 0.10801624  0.11583211  0.02874823  0.061732...  \n",
       "4  [ 1.69016439e-02  7.13498285e-03 -7.81233795e-...  "
      ]
     },
     "execution_count": 1,
     "metadata": {},
     "output_type": "execute_result"
    }
   ],
   "source": [
    "import numpy as np\n",
    "import pandas as pd\n",
    "\n",
    "df = pd.read_csv('../data/fake_or_real_news.csv')\n",
    "texts = df.text.values #pd.Series -> np.ndarray\n",
    "#titles = df.title.values #pd.Series -> np.ndarray\n",
    "labels = df.label.values #pd.Series -> np.ndarray\n",
    "for i in range(len(labels)):\n",
    "    labels[i] = 1 if labels[i] == 'REAL' else 0\n",
    "labels = labels.astype(int)\n",
    "# view the first 5 rows \n",
    "df.head()"
   ]
  },
  {
   "cell_type": "markdown",
   "metadata": {},
   "source": [
    "# Remove news with no text"
   ]
  },
  {
   "cell_type": "code",
   "execution_count": 2,
   "metadata": {},
   "outputs": [
    {
     "name": "stdout",
     "output_type": "stream",
     "text": [
      "There are 36 texts been removed.\n"
     ]
    }
   ],
   "source": [
    "text_list = texts.tolist()\n",
    "label_list = labels.tolist()\n",
    "idx = -1\n",
    "count = 0\n",
    "for text in texts:\n",
    "    idx = idx + 1\n",
    "    if len(text) == 1:\n",
    "        count = count + 1\n",
    "        text_list.remove(text)\n",
    "        label_list.remove(label_list[idx])\n",
    "        idx = idx - 1\n",
    "labels = np.array(label_list)\n",
    "texts = np.array(text_list)\n",
    "\n",
    "print(\"There are {} texts been removed.\".format(count))"
   ]
  },
  {
   "cell_type": "code",
   "execution_count": 3,
   "metadata": {},
   "outputs": [
    {
     "name": "stdout",
     "output_type": "stream",
     "text": [
      "0\n"
     ]
    }
   ],
   "source": [
    "text_list = texts.tolist()\n",
    "label_list = labels.tolist()\n",
    "idx = -1\n",
    "count = 0\n",
    "for text in texts:\n",
    "    idx = idx + 1\n",
    "    if len(text) == 1:\n",
    "        count = count + 1\n",
    "\n",
    "print(count)"
   ]
  },
  {
   "cell_type": "markdown",
   "metadata": {},
   "source": [
    "# Preprocess Data"
   ]
  },
  {
   "cell_type": "code",
   "execution_count": 4,
   "metadata": {},
   "outputs": [
    {
     "name": "stdout",
     "output_type": "stream",
     "text": [
      "5708383\n",
      "217376\n",
      "Example review:\n",
      "   Raw: Daniel Greenfield, a Shillman Journalism Fellow at the Freedom Center, is a New York writer focusing on radical Islam. \n",
      "In the final stretch of the election, Hillary Rodham Clinton has gone to war with the FBI. \n",
      "The word “unprecedented” has been thrown around so often this election that it ought to be retired. But it’s still unprecedented for the nominee of a major political party to go war with the FBI. \n",
      "But that’s exactly what Hillary and her people have done. Coma patients just waking up now and watching an hour of CNN from their hospital beds would assume that FBI Director James Comey is Hillary’s opponent in this election. \n",
      "The FBI is under attack by everyone from Obama to CNN. Hillary’s people have circulated a letter attacking Comey. There are currently more media hit pieces lambasting him than targeting Trump. It wouldn’t be too surprising if the Clintons or their allies were to start running attack ads against the FBI. \n",
      "The FBI’s leadership is being warned that the entire left-wing establishment will form a lynch mob if they continue going after Hillary. And the FBI’s credibility is being attacked by the media and the Democrats to preemptively head off the results of the investigation of the Clinton Foundation and Hillary Clinton. \n",
      "The covert struggle between FBI agents and Obama’s DOJ people has gone explosively public. \n",
      "The New York Times has compared Comey to J. Edgar Hoover. Its bizarre headline, “James Comey Role Recalls Hoover’s FBI, Fairly or Not” practically admits up front that it’s spouting nonsense. The Boston Globe has published a column calling for Comey’s resignation. Not to be outdone, Time has an editorial claiming that the scandal is really an attack on all women. \n",
      "James Carville appeared on MSNBC to remind everyone that he was still alive and insane. He accused Comey of coordinating with House Republicans and the KGB. And you thought the “vast right wing conspiracy” was a stretch. \n",
      "Countless media stories charge Comey with violating procedure. Do you know what’s a procedural violation? Emailing classified information stored on your bathroom server. \n",
      "Senator Harry Reid has sent Comey a letter accusing him of violating the Hatch Act. The Hatch Act is a nice idea that has as much relevance in the age of Obama as the Tenth Amendment. But the cable news spectrum quickly filled with media hacks glancing at the Wikipedia article on the Hatch Act under the table while accusing the FBI director of one of the most awkward conspiracies against Hillary ever. \n",
      "If James Comey is really out to hurt Hillary, he picked one hell of a strange way to do it. \n",
      "Not too long ago Democrats were breathing a sigh of relief when he gave Hillary Clinton a pass in a prominent public statement. If he really were out to elect Trump by keeping the email scandal going, why did he trash the investigation? Was he on the payroll of House Republicans and the KGB back then and playing it coy or was it a sudden development where Vladimir Putin and Paul Ryan talked him into taking a look at Anthony Weiner’s computer? \n",
      "Either Comey is the most cunning FBI director that ever lived or he’s just awkwardly trying to navigate a political mess that has trapped him between a DOJ leadership whose political futures are tied to Hillary’s victory and his own bureau whose apolitical agents just want to be allowed to do their jobs. \n",
      "The only truly mysterious thing is why Hillary and her associates decided to go to war with a respected Federal agency. Most Americans like the FBI while Hillary Clinton enjoys a 60% unfavorable rating. \n",
      "And it’s an interesting question. \n",
      "Hillary’s old strategy was to lie and deny that the FBI even had a criminal investigation underway. Instead her associates insisted that it was a security review. The FBI corrected her and she shrugged it off. But the old breezy denial approach has given way to a savage assault on the FBI. \n",
      "Pretending that nothing was wrong was a bad strategy, but it was a better one that picking a fight with the FBI while lunatic Clinton associates try to claim that the FBI is really the KGB. \n",
      "There are two possible explanations. \n",
      "Hillary Clinton might be arrogant enough to lash out at the FBI now that she believes that victory is near. The same kind of hubris that led her to plan her victory fireworks display could lead her to declare a war on the FBI for irritating her during the final miles of her campaign. \n",
      "But the other explanation is that her people panicked. \n",
      "Going to war with the FBI is not the behavior of a smart and focused presidential campaign. It’s an act of desperation. When a presidential candidate decides that her only option is to try and destroy the credibility of the FBI, that’s not hubris, it’s fear of what the FBI might be about to reveal about her. \n",
      "During the original FBI investigation, Hillary Clinton was confident that she could ride it out. And she had good reason for believing that. But that Hillary Clinton is gone. In her place is a paranoid wreck. Within a short space of time the “positive” Clinton campaign promising to unite the country has been replaced by a desperate and flailing operation that has focused all its energy on fighting the FBI. \n",
      "There’s only one reason for such bizarre behavior. \n",
      "The Clinton campaign has decided that an FBI investigation of the latest batch of emails poses a threat to its survival. And so it’s gone all in on fighting the FBI. It’s an unprecedented step born of fear. It’s hard to know whether that fear is justified. But the existence of that fear already tells us a whole lot. \n",
      "Clinton loyalists rigged the old investigation. They knew the outcome ahead of time as well as they knew the debate questions. Now suddenly they are no longer in control. And they are afraid. \n",
      "You can smell the fear. \n",
      "The FBI has wiretaps from the investigation of the Clinton Foundation. It’s finding new emails all the time. And Clintonworld panicked. The spinmeisters of Clintonworld have claimed that the email scandal is just so much smoke without fire. All that’s here is the appearance of impropriety without any of the substance. But this isn’t how you react to smoke. It’s how you respond to a fire. \n",
      "The misguided assault on the FBI tells us that Hillary Clinton and her allies are afraid of a revelation bigger than the fundamental illegality of her email setup. The email setup was a preemptive cover up. The Clinton campaign has panicked badly out of the belief, right or wrong, that whatever crime the illegal setup was meant to cover up is at risk of being exposed. \n",
      "The Clintons have weathered countless scandals over the years. Whatever they are protecting this time around is bigger than the usual corruption, bribery, sexual assaults and abuses of power that have followed them around throughout the years. This is bigger and more damaging than any of the allegations that have already come out. And they don’t want FBI investigators anywhere near it. \n",
      "The campaign against Comey is pure intimidation. It’s also a warning. Any senior FBI people who value their careers are being warned to stay away. The Democrats are closing ranks around their nominee against the FBI. It’s an ugly and unprecedented scene. It may also be their last stand. \n",
      "Hillary Clinton has awkwardly wound her way through numerous scandals in just this election cycle. But she’s never shown fear or desperation before. Now that has changed. Whatever she is afraid of, it lies buried in her emails with Huma Abedin. And it can bring her down like nothing else has.   \n",
      "\n",
      "   Tokenized: ['Daniel', 'Greenfield', ',', 'a', 'Shillman', 'Journalism', 'Fellow', 'at', 'the', 'Freedom', 'Center', ',', 'is', 'a', 'New', 'York', 'writer', 'focusing', 'on', 'radical', 'Islam', '.', 'In', 'the', 'final', 'stretch', 'of', 'the', 'election', ',', 'Hillary', 'Rodham', 'Clinton', 'has', 'gone', 'to', 'war', 'with', 'the', 'FBI', '.', 'The', 'word', '“', 'unprecedented', '”', 'has', 'been', 'thrown', 'around', 'so', 'often', 'this', 'election', 'that', 'it', 'ought', 'to', 'be', 'retired', '.', 'But', 'it', '’', 's', 'still', 'unprecedented', 'for', 'the', 'nominee', 'of', 'a', 'major', 'political', 'party', 'to', 'go', 'war', 'with', 'the', 'FBI', '.', 'But', 'that', '’', 's', 'exactly', 'what', 'Hillary', 'and', 'her', 'people', 'have', 'done', '.', 'Coma', 'patients', 'just', 'waking', 'up', 'now', 'and', 'watching', 'an', 'hour', 'of', 'CNN', 'from', 'their', 'hospital', 'beds', 'would', 'assume', 'that', 'FBI', 'Director', 'James', 'Comey', 'is', 'Hillary', '’', 's', 'opponent', 'in', 'this', 'election', '.', 'The', 'FBI', 'is', 'under', 'attack', 'by', 'everyone', 'from', 'Obama', 'to', 'CNN', '.', 'Hillary', '’', 's', 'people', 'have', 'circulated', 'a', 'letter', 'attacking', 'Comey', '.', 'There', 'are', 'currently', 'more', 'media', 'hit', 'pieces', 'lambasting', 'him', 'than', 'targeting', 'Trump', '.', 'It', 'wouldn', '’', 't', 'be', 'too', 'surprising', 'if', 'the', 'Clintons', 'or', 'their', 'allies', 'were', 'to', 'start', 'running', 'attack', 'ads', 'against', 'the', 'FBI', '.', 'The', 'FBI', '’', 's', 'leadership', 'is', 'being', 'warned', 'that', 'the', 'entire', 'left-wing', 'establishment', 'will', 'form', 'a', 'lynch', 'mob', 'if', 'they', 'continue', 'going', 'after', 'Hillary', '.', 'And', 'the', 'FBI', '’', 's', 'credibility', 'is', 'being', 'attacked', 'by', 'the', 'media', 'and', 'the', 'Democrats', 'to', 'preemptively', 'head', 'off', 'the', 'results', 'of', 'the', 'investigation', 'of', 'the', 'Clinton', 'Foundation', 'and', 'Hillary', 'Clinton', '.', 'The', 'covert', 'struggle', 'between', 'FBI', 'agents', 'and', 'Obama', '’', 's', 'DOJ', 'people', 'has', 'gone', 'explosively', 'public', '.', 'The', 'New', 'York', 'Times', 'has', 'compared', 'Comey', 'to', 'J.', 'Edgar', 'Hoover', '.', 'Its', 'bizarre', 'headline', ',', '“', 'James', 'Comey', 'Role', 'Recalls', 'Hoover', '’', 's', 'FBI', ',', 'Fairly', 'or', 'Not', '”', 'practically', 'admits', 'up', 'front', 'that', 'it', '’', 's', 'spouting', 'nonsense', '.', 'The', 'Boston', 'Globe', 'has', 'published', 'a', 'column', 'calling', 'for', 'Comey', '’', 's', 'resignation', '.', 'Not', 'to', 'be', 'outdone', ',', 'Time', 'has', 'an', 'editorial', 'claiming', 'that', 'the', 'scandal', 'is', 'really', 'an', 'attack', 'on', 'all', 'women', '.', 'James', 'Carville', 'appeared', 'on', 'MSNBC', 'to', 'remind', 'everyone', 'that', 'he', 'was', 'still', 'alive', 'and', 'insane', '.', 'He', 'accused', 'Comey', 'of', 'coordinating', 'with', 'House', 'Republicans', 'and', 'the', 'KGB', '.', 'And', 'you', 'thought', 'the', '“', 'vast', 'right', 'wing', 'conspiracy', '”', 'was', 'a', 'stretch', '.', 'Countless', 'media', 'stories', 'charge', 'Comey', 'with', 'violating', 'procedure', '.', 'Do', 'you', 'know', 'what', '’', 's', 'a', 'procedural', 'violation', '?', 'Emailing', 'classified', 'information', 'stored', 'on', 'your', 'bathroom', 'server', '.', 'Senator', 'Harry', 'Reid', 'has', 'sent', 'Comey', 'a', 'letter', 'accusing', 'him', 'of', 'violating', 'the', 'Hatch', 'Act', '.', 'The', 'Hatch', 'Act', 'is', 'a', 'nice', 'idea', 'that', 'has', 'as', 'much', 'relevance', 'in', 'the', 'age', 'of', 'Obama', 'as', 'the', 'Tenth', 'Amendment', '.', 'But', 'the', 'cable', 'news', 'spectrum', 'quickly', 'filled', 'with', 'media', 'hacks', 'glancing', 'at', 'the', 'Wikipedia', 'article', 'on', 'the', 'Hatch', 'Act', 'under', 'the', 'table', 'while', 'accusing', 'the', 'FBI', 'director', 'of', 'one', 'of', 'the', 'most', 'awkward', 'conspiracies', 'against', 'Hillary', 'ever', '.', 'If', 'James', 'Comey', 'is', 'really', 'out', 'to', 'hurt', 'Hillary', ',', 'he', 'picked', 'one', 'hell', 'of', 'a', 'strange', 'way', 'to', 'do', 'it', '.', 'Not', 'too', 'long', 'ago', 'Democrats', 'were', 'breathing', 'a', 'sigh', 'of', 'relief', 'when', 'he', 'gave', 'Hillary', 'Clinton', 'a', 'pass', 'in', 'a', 'prominent', 'public', 'statement', '.', 'If', 'he', 'really', 'were', 'out', 'to', 'elect', 'Trump', 'by', 'keeping', 'the', 'email', 'scandal', 'going', ',', 'why', 'did', 'he', 'trash', 'the', 'investigation', '?', 'Was', 'he', 'on', 'the', 'payroll', 'of', 'House', 'Republicans', 'and', 'the', 'KGB', 'back', 'then', 'and', 'playing', 'it', 'coy', 'or', 'was', 'it', 'a', 'sudden', 'development', 'where', 'Vladimir', 'Putin', 'and', 'Paul', 'Ryan', 'talked', 'him', 'into', 'taking', 'a', 'look', 'at', 'Anthony', 'Weiner', '’', 's', 'computer', '?', 'Either', 'Comey', 'is', 'the', 'most', 'cunning', 'FBI', 'director', 'that', 'ever', 'lived', 'or', 'he', '’', 's', 'just', 'awkwardly', 'trying', 'to', 'navigate', 'a', 'political', 'mess', 'that', 'has', 'trapped', 'him', 'between', 'a', 'DOJ', 'leadership', 'whose', 'political', 'futures', 'are', 'tied', 'to', 'Hillary', '’', 's', 'victory', 'and', 'his', 'own', 'bureau', 'whose', 'apolitical', 'agents', 'just', 'want', 'to', 'be', 'allowed', 'to', 'do', 'their', 'jobs', '.', 'The', 'only', 'truly', 'mysterious', 'thing', 'is', 'why', 'Hillary', 'and', 'her', 'associates', 'decided', 'to', 'go', 'to', 'war', 'with', 'a', 'respected', 'Federal', 'agency', '.', 'Most', 'Americans', 'like', 'the', 'FBI', 'while', 'Hillary', 'Clinton', 'enjoys', 'a', '60', '%', 'unfavorable', 'rating', '.', 'And', 'it', '’', 's', 'an', 'interesting', 'question', '.', 'Hillary', '’', 's', 'old', 'strategy', 'was', 'to', 'lie', 'and', 'deny', 'that', 'the', 'FBI', 'even', 'had', 'a', 'criminal', 'investigation', 'underway', '.', 'Instead', 'her', 'associates', 'insisted', 'that', 'it', 'was', 'a', 'security', 'review', '.', 'The', 'FBI', 'corrected', 'her', 'and', 'she', 'shrugged', 'it', 'off', '.', 'But', 'the', 'old', 'breezy', 'denial', 'approach', 'has', 'given', 'way', 'to', 'a', 'savage', 'assault', 'on', 'the', 'FBI', '.', 'Pretending', 'that', 'nothing', 'was', 'wrong', 'was', 'a', 'bad', 'strategy', ',', 'but', 'it', 'was', 'a', 'better', 'one', 'that', 'picking', 'a', 'fight', 'with', 'the', 'FBI', 'while', 'lunatic', 'Clinton', 'associates', 'try', 'to', 'claim', 'that', 'the', 'FBI', 'is', 'really', 'the', 'KGB', '.', 'There', 'are', 'two', 'possible', 'explanations', '.', 'Hillary', 'Clinton', 'might', 'be', 'arrogant', 'enough', 'to', 'lash', 'out', 'at', 'the', 'FBI', 'now', 'that', 'she', 'believes', 'that', 'victory', 'is', 'near', '.', 'The', 'same', 'kind', 'of', 'hubris', 'that', 'led', 'her', 'to', 'plan', 'her', 'victory', 'fireworks', 'display', 'could', 'lead', 'her', 'to', 'declare', 'a', 'war', 'on', 'the', 'FBI', 'for', 'irritating', 'her', 'during', 'the', 'final', 'miles', 'of', 'her', 'campaign', '.', 'But', 'the', 'other', 'explanation', 'is', 'that', 'her', 'people', 'panicked', '.', 'Going', 'to', 'war', 'with', 'the', 'FBI', 'is', 'not', 'the', 'behavior', 'of', 'a', 'smart', 'and', 'focused', 'presidential', 'campaign', '.', 'It', '’', 's', 'an', 'act', 'of', 'desperation', '.', 'When', 'a', 'presidential', 'candidate', 'decides', 'that', 'her', 'only', 'option', 'is', 'to', 'try', 'and', 'destroy', 'the', 'credibility', 'of', 'the', 'FBI', ',', 'that', '’', 's', 'not', 'hubris', ',', 'it', '’', 's', 'fear', 'of', 'what', 'the', 'FBI', 'might', 'be', 'about', 'to', 'reveal', 'about', 'her', '.', 'During', 'the', 'original', 'FBI', 'investigation', ',', 'Hillary', 'Clinton', 'was', 'confident', 'that', 'she', 'could', 'ride', 'it', 'out', '.', 'And', 'she', 'had', 'good', 'reason', 'for', 'believing', 'that', '.', 'But', 'that', 'Hillary', 'Clinton', 'is', 'gone', '.', 'In', 'her', 'place', 'is', 'a', 'paranoid', 'wreck', '.', 'Within', 'a', 'short', 'space', 'of', 'time', 'the', '“', 'positive', '”', 'Clinton', 'campaign', 'promising', 'to', 'unite', 'the', 'country', 'has', 'been', 'replaced', 'by', 'a', 'desperate', 'and', 'flailing', 'operation', 'that', 'has', 'focused', 'all', 'its', 'energy', 'on', 'fighting', 'the', 'FBI', '.', 'There', '’', 's', 'only', 'one', 'reason', 'for', 'such', 'bizarre', 'behavior', '.', 'The', 'Clinton', 'campaign', 'has', 'decided', 'that', 'an', 'FBI', 'investigation', 'of', 'the', 'latest', 'batch', 'of', 'emails', 'poses', 'a', 'threat', 'to', 'its', 'survival', '.', 'And', 'so', 'it', '’', 's', 'gone', 'all', 'in', 'on', 'fighting', 'the', 'FBI', '.', 'It', '’', 's', 'an', 'unprecedented', 'step', 'born', 'of', 'fear', '.', 'It', '’', 's', 'hard', 'to', 'know', 'whether', 'that', 'fear', 'is', 'justified', '.', 'But', 'the', 'existence', 'of', 'that', 'fear', 'already', 'tells', 'us', 'a', 'whole', 'lot', '.', 'Clinton', 'loyalists', 'rigged', 'the', 'old', 'investigation', '.', 'They', 'knew', 'the', 'outcome', 'ahead', 'of', 'time', 'as', 'well', 'as', 'they', 'knew', 'the', 'debate', 'questions', '.', 'Now', 'suddenly', 'they', 'are', 'no', 'longer', 'in', 'control', '.', 'And', 'they', 'are', 'afraid', '.', 'You', 'can', 'smell', 'the', 'fear', '.', 'The', 'FBI', 'has', 'wiretaps', 'from', 'the', 'investigation', 'of', 'the', 'Clinton', 'Foundation', '.', 'It', '’', 's', 'finding', 'new', 'emails', 'all', 'the', 'time', '.', 'And', 'Clintonworld', 'panicked', '.', 'The', 'spinmeisters', 'of', 'Clintonworld', 'have', 'claimed', 'that', 'the', 'email', 'scandal', 'is', 'just', 'so', 'much', 'smoke', 'without', 'fire', '.', 'All', 'that', '’', 's', 'here', 'is', 'the', 'appearance', 'of', 'impropriety', 'without', 'any', 'of', 'the', 'substance', '.', 'But', 'this', 'isn', '’', 't', 'how', 'you', 'react', 'to', 'smoke', '.', 'It', '’', 's', 'how', 'you', 'respond', 'to', 'a', 'fire', '.', 'The', 'misguided', 'assault', 'on', 'the', 'FBI', 'tells', 'us', 'that', 'Hillary', 'Clinton', 'and', 'her', 'allies', 'are', 'afraid', 'of', 'a', 'revelation', 'bigger', 'than', 'the', 'fundamental', 'illegality', 'of', 'her', 'email', 'setup', '.', 'The', 'email', 'setup', 'was', 'a', 'preemptive', 'cover', 'up', '.', 'The', 'Clinton', 'campaign', 'has', 'panicked', 'badly', 'out', 'of', 'the', 'belief', ',', 'right', 'or', 'wrong', ',', 'that', 'whatever', 'crime', 'the', 'illegal', 'setup', 'was', 'meant', 'to', 'cover', 'up', 'is', 'at', 'risk', 'of', 'being', 'exposed', '.', 'The', 'Clintons', 'have', 'weathered', 'countless', 'scandals', 'over', 'the', 'years', '.', 'Whatever', 'they', 'are', 'protecting', 'this', 'time', 'around', 'is', 'bigger', 'than', 'the', 'usual', 'corruption', ',', 'bribery', ',', 'sexual', 'assaults', 'and', 'abuses', 'of', 'power', 'that', 'have', 'followed', 'them', 'around', 'throughout', 'the', 'years', '.', 'This', 'is', 'bigger', 'and', 'more', 'damaging', 'than', 'any', 'of', 'the', 'allegations', 'that', 'have', 'already', 'come', 'out', '.', 'And', 'they', 'don', '’', 't', 'want', 'FBI', 'investigators', 'anywhere', 'near', 'it', '.', 'The', 'campaign', 'against', 'Comey', 'is', 'pure', 'intimidation', '.', 'It', '’', 's', 'also', 'a', 'warning', '.', 'Any', 'senior', 'FBI', 'people', 'who', 'value', 'their', 'careers', 'are', 'being', 'warned', 'to', 'stay', 'away', '.', 'The', 'Democrats', 'are', 'closing', 'ranks', 'around', 'their', 'nominee', 'against', 'the', 'FBI', '.', 'It', '’', 's', 'an', 'ugly', 'and', 'unprecedented', 'scene', '.', 'It', 'may', 'also', 'be', 'their', 'last', 'stand', '.', 'Hillary', 'Clinton', 'has', 'awkwardly', 'wound', 'her', 'way', 'through', 'numerous', 'scandals', 'in', 'just', 'this', 'election', 'cycle', '.', 'But', 'she', '’', 's', 'never', 'shown', 'fear', 'or', 'desperation', 'before', '.', 'Now', 'that', 'has', 'changed', '.', 'Whatever', 'she', 'is', 'afraid', 'of', ',', 'it', 'lies', 'buried', 'in', 'her', 'emails', 'with', 'Huma', 'Abedin', '.', 'And', 'it', 'can', 'bring', 'her', 'down', 'like', 'nothing', 'else', 'has', '.']\n"
     ]
    }
   ],
   "source": [
    "from preprocess_data import *\n",
    "\n",
    "# “_token”is divided by text, “_token_corpus”combines all the texts,so that it only has one dimension\n",
    "word_token = [nltk.word_tokenize(text) for text in texts]\n",
    "word_token_corpus = []\n",
    "for i in range(len(word_token)):\n",
    "    word_token_corpus.extend(word_token[i])\n",
    "print(len(word_token_corpus))\n",
    "\n",
    "sentence_token = [nltk.sent_tokenize(text) for text in texts]\n",
    "sentence_token_corpus = []\n",
    "for i in range(len(sentence_token)):\n",
    "    sentence_token_corpus.extend(sentence_token[i])\n",
    "print(len(sentence_token_corpus))\n",
    "\n",
    "#title_token = tokenize(titles)\n",
    "\n",
    "n = 0 #arbitrary pick\n",
    "#print('Example review:\\n   Raw: {} \\n\\n   Tokenized: {}'.format(titles[n], [i for i in title_token[n]]))\n",
    "print('Example review:\\n   Raw: {} \\n\\n   Tokenized: {}'.format(texts[n], [i for i in word_token[n]]))\n"
   ]
  },
  {
   "cell_type": "code",
   "execution_count": 5,
   "metadata": {},
   "outputs": [
    {
     "name": "stdout",
     "output_type": "stream",
     "text": [
      "6299\n",
      "6299\n",
      "6299\n",
      "['Daniel Greenfield, a Shillman Journalism Fellow at the Freedom Center, is a New York writer focusing on radical Islam.', 'In the final stretch of the election, Hillary Rodham Clinton has gone to war with the FBI.', 'The word “unprecedented” has been thrown around so often this election that it ought to be retired.', 'But it’s still unprecedented for the nominee of a major political party to go war with the FBI.', 'But that’s exactly what Hillary and her people have done.', 'Coma patients just waking up now and watching an hour of CNN from their hospital beds would assume that FBI Director James Comey is Hillary’s opponent in this election.', 'The FBI is under attack by everyone from Obama to CNN.', 'Hillary’s people have circulated a letter attacking Comey.', 'There are currently more media hit pieces lambasting him than targeting Trump.', 'It wouldn’t be too surprising if the Clintons or their allies were to start running attack ads against the FBI.', 'The FBI’s leadership is being warned that the entire left-wing establishment will form a lynch mob if they continue going after Hillary.', 'And the FBI’s credibility is being attacked by the media and the Democrats to preemptively head off the results of the investigation of the Clinton Foundation and Hillary Clinton.', 'The covert struggle between FBI agents and Obama’s DOJ people has gone explosively public.', 'The New York Times has compared Comey to J. Edgar Hoover.', 'Its bizarre headline, “James Comey Role Recalls Hoover’s FBI, Fairly or Not” practically admits up front that it’s spouting nonsense.', 'The Boston Globe has published a column calling for Comey’s resignation.', 'Not to be outdone, Time has an editorial claiming that the scandal is really an attack on all women.', 'James Carville appeared on MSNBC to remind everyone that he was still alive and insane.', 'He accused Comey of coordinating with House Republicans and the KGB.', 'And you thought the “vast right wing conspiracy” was a stretch.', 'Countless media stories charge Comey with violating procedure.', 'Do you know what’s a procedural violation?', 'Emailing classified information stored on your bathroom server.', 'Senator Harry Reid has sent Comey a letter accusing him of violating the Hatch Act.', 'The Hatch Act is a nice idea that has as much relevance in the age of Obama as the Tenth Amendment.', 'But the cable news spectrum quickly filled with media hacks glancing at the Wikipedia article on the Hatch Act under the table while accusing the FBI director of one of the most awkward conspiracies against Hillary ever.', 'If James Comey is really out to hurt Hillary, he picked one hell of a strange way to do it.', 'Not too long ago Democrats were breathing a sigh of relief when he gave Hillary Clinton a pass in a prominent public statement.', 'If he really were out to elect Trump by keeping the email scandal going, why did he trash the investigation?', 'Was he on the payroll of House Republicans and the KGB back then and playing it coy or was it a sudden development where Vladimir Putin and Paul Ryan talked him into taking a look at Anthony Weiner’s computer?', 'Either Comey is the most cunning FBI director that ever lived or he’s just awkwardly trying to navigate a political mess that has trapped him between a DOJ leadership whose political futures are tied to Hillary’s victory and his own bureau whose apolitical agents just want to be allowed to do their jobs.', 'The only truly mysterious thing is why Hillary and her associates decided to go to war with a respected Federal agency.', 'Most Americans like the FBI while Hillary Clinton enjoys a 60% unfavorable rating.', 'And it’s an interesting question.', 'Hillary’s old strategy was to lie and deny that the FBI even had a criminal investigation underway.', 'Instead her associates insisted that it was a security review.', 'The FBI corrected her and she shrugged it off.', 'But the old breezy denial approach has given way to a savage assault on the FBI.', 'Pretending that nothing was wrong was a bad strategy, but it was a better one that picking a fight with the FBI while lunatic Clinton associates try to claim that the FBI is really the KGB.', 'There are two possible explanations.', 'Hillary Clinton might be arrogant enough to lash out at the FBI now that she believes that victory is near.', 'The same kind of hubris that led her to plan her victory fireworks display could lead her to declare a war on the FBI for irritating her during the final miles of her campaign.', 'But the other explanation is that her people panicked.', 'Going to war with the FBI is not the behavior of a smart and focused presidential campaign.', 'It’s an act of desperation.', 'When a presidential candidate decides that her only option is to try and destroy the credibility of the FBI, that’s not hubris, it’s fear of what the FBI might be about to reveal about her.', 'During the original FBI investigation, Hillary Clinton was confident that she could ride it out.', 'And she had good reason for believing that.', 'But that Hillary Clinton is gone.', 'In her place is a paranoid wreck.', 'Within a short space of time the “positive” Clinton campaign promising to unite the country has been replaced by a desperate and flailing operation that has focused all its energy on fighting the FBI.', 'There’s only one reason for such bizarre behavior.', 'The Clinton campaign has decided that an FBI investigation of the latest batch of emails poses a threat to its survival.', 'And so it’s gone all in on fighting the FBI.', 'It’s an unprecedented step born of fear.', 'It’s hard to know whether that fear is justified.', 'But the existence of that fear already tells us a whole lot.', 'Clinton loyalists rigged the old investigation.', 'They knew the outcome ahead of time as well as they knew the debate questions.', 'Now suddenly they are no longer in control.', 'And they are afraid.', 'You can smell the fear.', 'The FBI has wiretaps from the investigation of the Clinton Foundation.', 'It’s finding new emails all the time.', 'And Clintonworld panicked.', 'The spinmeisters of Clintonworld have claimed that the email scandal is just so much smoke without fire.', 'All that’s here is the appearance of impropriety without any of the substance.', 'But this isn’t how you react to smoke.', 'It’s how you respond to a fire.', 'The misguided assault on the FBI tells us that Hillary Clinton and her allies are afraid of a revelation bigger than the fundamental illegality of her email setup.', 'The email setup was a preemptive cover up.', 'The Clinton campaign has panicked badly out of the belief, right or wrong, that whatever crime the illegal setup was meant to cover up is at risk of being exposed.', 'The Clintons have weathered countless scandals over the years.', 'Whatever they are protecting this time around is bigger than the usual corruption, bribery, sexual assaults and abuses of power that have followed them around throughout the years.', 'This is bigger and more damaging than any of the allegations that have already come out.', 'And they don’t want FBI investigators anywhere near it.', 'The campaign against Comey is pure intimidation.', 'It’s also a warning.', 'Any senior FBI people who value their careers are being warned to stay away.', 'The Democrats are closing ranks around their nominee against the FBI.', 'It’s an ugly and unprecedented scene.', 'It may also be their last stand.', 'Hillary Clinton has awkwardly wound her way through numerous scandals in just this election cycle.', 'But she’s never shown fear or desperation before.', 'Now that has changed.', 'Whatever she is afraid of, it lies buried in her emails with Huma Abedin.', 'And it can bring her down like nothing else has.']\n"
     ]
    }
   ],
   "source": [
    "print(len(word_token))\n",
    "print(len(sentence_token))\n",
    "print(len(labels))\n",
    "print(sentence_token[0])\n"
   ]
  },
  {
   "cell_type": "code",
   "execution_count": 6,
   "metadata": {},
   "outputs": [
    {
     "name": "stdout",
     "output_type": "stream",
     "text": [
      " 1.  the  freq:  290192\n",
      " 2.    ,  freq:  255957\n",
      " 3.    .  freq:  204416\n",
      " 4.   to  freq:  139223\n",
      " 5.   of  freq:  129553\n",
      " 6.  and  freq:  119235\n",
      " 7.    a  freq:  107808\n",
      " 8.   in  freq:   97993\n",
      " 9. that  freq:   72278\n",
      "10.    ’  freq:   58461\n"
     ]
    }
   ],
   "source": [
    "from collections import Counter\n",
    "\n",
    "#Note that we convert all tokens to lower case, otherwise words like *The* and *the* are different tokens.\n",
    "text_counter = Counter(token.lower() for sentence in word_token for token in sentence)\n",
    "top10 = text_counter.most_common()[:10]\n",
    "for i, t in enumerate(top10):\n",
    "    print('{:>2}.{:>5}  freq: {:>7}'.format(i+1, t[0], t[1]))"
   ]
  },
  {
   "cell_type": "markdown",
   "metadata": {},
   "source": [
    "## Remove punctuations and stopwords, lower-case text, implement stemming and lemmatization"
   ]
  },
  {
   "cell_type": "code",
   "execution_count": 7,
   "metadata": {
    "collapsed": true
   },
   "outputs": [],
   "source": [
    "import nltk\n",
    "from nltk.corpus import stopwords\n",
    "from string import punctuation\n",
    "from itertools import chain\n",
    "\n",
    "english_stemmer = nltk.stem.SnowballStemmer('english')\n",
    "english_lemmatizer = nltk.stem.WordNetLemmatizer()\n",
    "stopwords = nltk.corpus.stopwords.words('english')\n",
    "punct = punctuation\n",
    "\n",
    "def lemmatize_tokens(tokens, lemmatizer):\n",
    "    lemmatized = []\n",
    "    for doc in tokens:\n",
    "        lemmatized.append([lemmatizer.lemmatize(token) for token in doc])\n",
    "    return lemmatized\n",
    "\n",
    "def stem_tokens(tokens, stemmer):\n",
    "    stemmed = []\n",
    "    for doc in tokens:\n",
    "        stemmed.append([stemmer.stem(token) for token in doc])\n",
    "    return stemmed\n",
    "\n",
    "def clean_text(tokenized_list,lemmatize=True,stem=True):\n",
    "    tokens = []\n",
    "    for doc in tokenized_list:\n",
    "        tokens.append([token.lower() for token in doc if token.lower() not in chain(punct, stopwords)])\n",
    "    tokens_cleaned = tokens\n",
    "    if lemmatize:\n",
    "        tokens_cleaned = lemmatize_tokens(tokens_cleaned, english_lemmatizer)\n",
    "    if stem:\n",
    "        tokens_cleaned = stem_tokens(tokens_cleaned, english_stemmer)\n",
    "      \n",
    "    return tokens_cleaned\n",
    "\n",
    "text_cleaned = clean_text(word_token)"
   ]
  },
  {
   "cell_type": "code",
   "execution_count": 8,
   "metadata": {},
   "outputs": [
    {
     "name": "stdout",
     "output_type": "stream",
     "text": [
      "6299\n",
      "['daniel', 'greenfield', 'shillman', 'journal', 'fellow', 'freedom', 'center', 'new', 'york', 'writer', 'focus', 'radic', 'islam', 'final', 'stretch', 'elect', 'hillari', 'rodham', 'clinton', 'gone', 'war', 'fbi', 'word', '“', 'unpreced', '”', 'thrown', 'around', 'often', 'elect', 'ought', 'retir', '’', 'still', 'unpreced', 'nomine', 'major', 'polit', 'parti', 'go', 'war', 'fbi', '’', 'exact', 'hillari', 'peopl', 'done', 'coma', 'patient', 'wake', 'watch', 'hour', 'cnn', 'hospit', 'bed', 'would', 'assum', 'fbi', 'director', 'jame', 'comey', 'hillari', '’', 'oppon', 'elect', 'fbi', 'attack', 'everyon', 'obama', 'cnn', 'hillari', '’', 'peopl', 'circul', 'letter', 'attack', 'comey', 'current', 'medium', 'hit', 'piec', 'lambast', 'target', 'trump', '’', 'surpris', 'clinton', 'alli', 'start', 'run', 'attack', 'ad', 'fbi', 'fbi', '’', 'leadership', 'warn', 'entir', 'left-w', 'establish', 'form', 'lynch', 'mob', 'continu', 'go', 'hillari', 'fbi', '’', 'credibl', 'attack', 'medium', 'democrat', 'preemptiv', 'head', 'result', 'investig', 'clinton', 'foundat', 'hillari', 'clinton', 'covert', 'struggl', 'fbi', 'agent', 'obama', '’', 'doj', 'peopl', 'gone', 'explos', 'public', 'new', 'york', 'time', 'compar', 'comey', 'j.', 'edgar', 'hoover', 'bizarr', 'headlin', '“', 'jame', 'comey', 'role', 'recal', 'hoover', '’', 'fbi', 'fair', '”', 'practic', 'admit', 'front', '’', 'spout', 'nonsens', 'boston', 'globe', 'publish', 'column', 'call', 'comey', '’', 'resign', 'outdon', 'time', 'editori', 'claim', 'scandal', 'realli', 'attack', 'woman', 'jame', 'carvill', 'appear', 'msnbc', 'remind', 'everyon', 'still', 'aliv', 'insan', 'accus', 'comey', 'coordin', 'hous', 'republican', 'kgb', 'thought', '“', 'vast', 'right', 'wing', 'conspiraci', '”', 'stretch', 'countless', 'medium', 'stori', 'charg', 'comey', 'violat', 'procedur', 'know', '’', 'procedur', 'violat', 'email', 'classifi', 'inform', 'store', 'bathroom', 'server', 'senat', 'harri', 'reid', 'sent', 'comey', 'letter', 'accus', 'violat', 'hatch', 'act', 'hatch', 'act', 'nice', 'idea', 'much', 'relev', 'age', 'obama', 'tenth', 'amend', 'cabl', 'news', 'spectrum', 'quick', 'fill', 'medium', 'hack', 'glanc', 'wikipedia', 'articl', 'hatch', 'act', 'tabl', 'accus', 'fbi', 'director', 'one', 'awkward', 'conspiraci', 'hillari', 'ever', 'jame', 'comey', 'realli', 'hurt', 'hillari', 'pick', 'one', 'hell', 'strang', 'way', 'long', 'ago', 'democrat', 'breath', 'sigh', 'relief', 'gave', 'hillari', 'clinton', 'pas', 'promin', 'public', 'statement', 'realli', 'elect', 'trump', 'keep', 'email', 'scandal', 'go', 'trash', 'investig', 'payrol', 'hous', 'republican', 'kgb', 'back', 'play', 'coy', 'sudden', 'develop', 'vladimir', 'putin', 'paul', 'ryan', 'talk', 'take', 'look', 'anthoni', 'weiner', '’', 'comput', 'either', 'comey', 'cun', 'fbi', 'director', 'ever', 'live', '’', 'awkward', 'tri', 'navig', 'polit', 'mess', 'trap', 'doj', 'leadership', 'whose', 'polit', 'futur', 'tie', 'hillari', '’', 'victori', 'bureau', 'whose', 'apolit', 'agent', 'want', 'allow', 'job', 'truli', 'mysteri', 'thing', 'hillari', 'associ', 'decid', 'go', 'war', 'respect', 'feder', 'agenc', 'american', 'like', 'fbi', 'hillari', 'clinton', 'enjoy', '60', 'unfavor', 'rate', '’', 'interest', 'question', 'hillari', '’', 'old', 'strategi', 'lie', 'deni', 'fbi', 'even', 'crimin', 'investig', 'underway', 'instead', 'associ', 'insist', 'secur', 'review', 'fbi', 'correct', 'shrug', 'old', 'breezi', 'denial', 'approach', 'given', 'way', 'savag', 'assault', 'fbi', 'pretend', 'noth', 'wrong', 'bad', 'strategi', 'better', 'one', 'pick', 'fight', 'fbi', 'lunat', 'clinton', 'associ', 'tri', 'claim', 'fbi', 'realli', 'kgb', 'two', 'possibl', 'explan', 'hillari', 'clinton', 'might', 'arrog', 'enough', 'lash', 'fbi', 'belief', 'victori', 'near', 'kind', 'hubri', 'led', 'plan', 'victori', 'firework', 'display', 'could', 'lead', 'declar', 'war', 'fbi', 'irrit', 'final', 'mile', 'campaign', 'explan', 'peopl', 'panick', 'go', 'war', 'fbi', 'behavior', 'smart', 'focus', 'presidenti', 'campaign', '’', 'act', 'desper', 'presidenti', 'candid', 'decid', 'option', 'tri', 'destroy', 'credibl', 'fbi', '’', 'hubri', '’', 'fear', 'fbi', 'might', 'reveal', 'origin', 'fbi', 'investig', 'hillari', 'clinton', 'confid', 'could', 'ride', 'good', 'reason', 'believ', 'hillari', 'clinton', 'gone', 'place', 'paranoid', 'wreck', 'within', 'short', 'space', 'time', '“', 'posit', '”', 'clinton', 'campaign', 'promis', 'unit', 'countri', 'replac', 'desper', 'flail', 'oper', 'focus', 'energi', 'fight', 'fbi', '’', 'one', 'reason', 'bizarr', 'behavior', 'clinton', 'campaign', 'decid', 'fbi', 'investig', 'latest', 'batch', 'email', 'pose', 'threat', 'surviv', '’', 'gone', 'fight', 'fbi', '’', 'unpreced', 'step', 'born', 'fear', '’', 'hard', 'know', 'whether', 'fear', 'justifi', 'exist', 'fear', 'alreadi', 'tell', 'u', 'whole', 'lot', 'clinton', 'loyalist', 'rig', 'old', 'investig', 'knew', 'outcom', 'ahead', 'time', 'well', 'knew', 'debat', 'question', 'sudden', 'longer', 'control', 'afraid', 'smell', 'fear', 'fbi', 'wiretap', 'investig', 'clinton', 'foundat', '’', 'find', 'new', 'email', 'time', 'clintonworld', 'panick', 'spinmeist', 'clintonworld', 'claim', 'email', 'scandal', 'much', 'smoke', 'without', 'fire', '’', 'appear', 'improprieti', 'without', 'substanc', '’', 'react', 'smoke', '’', 'respond', 'fire', 'misguid', 'assault', 'fbi', 'tell', 'u', 'hillari', 'clinton', 'alli', 'afraid', 'revel', 'bigger', 'fundament', 'illeg', 'email', 'setup', 'email', 'setup', 'preemptiv', 'cover', 'clinton', 'campaign', 'panick', 'bad', 'belief', 'right', 'wrong', 'whatev', 'crime', 'illeg', 'setup', 'meant', 'cover', 'risk', 'expos', 'clinton', 'weather', 'countless', 'scandal', 'year', 'whatev', 'protect', 'time', 'around', 'bigger', 'usual', 'corrupt', 'briberi', 'sexual', 'assault', 'abus', 'power', 'follow', 'around', 'throughout', 'year', 'bigger', 'damag', 'alleg', 'alreadi', 'come', '’', 'want', 'fbi', 'investig', 'anywher', 'near', 'campaign', 'comey', 'pure', 'intimid', '’', 'also', 'warn', 'senior', 'fbi', 'peopl', 'valu', 'career', 'warn', 'stay', 'away', 'democrat', 'close', 'rank', 'around', 'nomine', 'fbi', '’', 'ugli', 'unpreced', 'scene', 'may', 'also', 'last', 'stand', 'hillari', 'clinton', 'awkward', 'wound', 'way', 'numer', 'scandal', 'elect', 'cycl', '’', 'never', 'shown', 'fear', 'desper', 'chang', 'whatev', 'afraid', 'lie', 'buri', 'email', 'huma', 'abedin', 'bring', 'like', 'noth', 'els']\n"
     ]
    }
   ],
   "source": [
    "print(len(text_cleaned))\n",
    "print(text_cleaned[0])"
   ]
  },
  {
   "cell_type": "code",
   "execution_count": 9,
   "metadata": {},
   "outputs": [
    {
     "name": "stdout",
     "output_type": "stream",
     "text": [
      " 1.    ’  freq:   58461\n",
      " 2.    “  freq:   34978\n",
      " 3.    ”  freq:   34368\n",
      " 4.trump  freq:   21993\n",
      " 5. said  freq:   21162\n",
      " 6.   ''  freq:   19960\n",
      " 7.   's  freq:   19813\n",
      " 8.   ``  freq:   19684\n",
      " 9.clinton  freq:   17788\n",
      "10.state  freq:   15374\n"
     ]
    }
   ],
   "source": [
    "#Note that we convert all tokens to lower case, otherwise words like *The* and *the* are different tokens.\n",
    "text_counter = Counter(token.lower() for sentence in text_cleaned for token in sentence)\n",
    "top10 = text_counter.most_common()[:10]\n",
    "for i, t in enumerate(top10):\n",
    "    print('{:>2}.{:>5}  freq: {:>7}'.format(i+1, t[0], t[1]))"
   ]
  },
  {
   "cell_type": "markdown",
   "metadata": {},
   "source": [
    "## Uni-grams, bi-grams and tri-grams are created out of the list of tokens"
   ]
  },
  {
   "cell_type": "code",
   "execution_count": 41,
   "metadata": {},
   "outputs": [
    {
     "name": "stdout",
     "output_type": "stream",
     "text": [
      "['daniel', 'greenfield', 'shillman', 'journal', 'fellow', 'freedom', 'center', 'new', 'york', 'writer', 'focus', 'radic', 'islam', 'final', 'stretch', 'elect', 'hillari', 'rodham', 'clinton', 'gone', 'war', 'fbi', 'word', '“', 'unpreced', '”', 'thrown', 'around', 'often', 'elect', 'ought', 'retir', '’', 'still', 'unpreced', 'nomine', 'major', 'polit', 'parti', 'go', 'war', 'fbi', '’', 'exact', 'hillari', 'peopl', 'done', 'coma', 'patient', 'wake', 'watch', 'hour', 'cnn', 'hospit', 'bed', 'would', 'assum', 'fbi', 'director', 'jame', 'comey', 'hillari', '’', 'oppon', 'elect', 'fbi', 'attack', 'everyon', 'obama', 'cnn', 'hillari', '’', 'peopl', 'circul', 'letter', 'attack', 'comey', 'current', 'media', 'hit', 'piec', 'lambast', 'target', 'trump', '’', 'surpris', 'clinton', 'alli', 'start', 'run', 'attack', 'ad', 'fbi', 'fbi', '’', 'leadership', 'warn', 'entir', 'left-w', 'establish', 'form', 'lynch', 'mob', 'continu', 'go', 'hillari', 'fbi', '’', 'credibl', 'attack', 'media', 'democrat', 'preemptiv', 'head', 'result', 'investig', 'clinton', 'foundat', 'hillari', 'clinton', 'covert', 'struggl', 'fbi', 'agent', 'obama', '’', 'doj', 'peopl', 'gone', 'explos', 'public', 'new', 'york', 'time', 'compar', 'comey', 'j.', 'edgar', 'hoover', 'bizarr', 'headlin', '“', 'jame', 'comey', 'role', 'recal', 'hoover', '’', 'fbi', 'fair', '”', 'practic', 'admit', 'front', '’', 'spout', 'nonsens', 'boston', 'globe', 'publish', 'column', 'call', 'comey', '’', 'resign', 'outdon', 'time', 'editori', 'claim', 'scandal', 'realli', 'attack', 'women', 'jame', 'carvill', 'appear', 'msnbc', 'remind', 'everyon', 'still', 'aliv', 'insan', 'accus', 'comey', 'coordin', 'hous', 'republican', 'kgb', 'thought', '“', 'vast', 'right', 'wing', 'conspiraci', '”', 'stretch', 'countless', 'media', 'stori', 'charg', 'comey', 'violat', 'procedur', 'know', '’', 'procedur', 'violat', 'email', 'classifi', 'inform', 'store', 'bathroom', 'server', 'senat', 'harri', 'reid', 'sent', 'comey', 'letter', 'accus', 'violat', 'hatch', 'act', 'hatch', 'act', 'nice', 'idea', 'much', 'relev', 'age', 'obama', 'tenth', 'amend', 'cabl', 'news', 'spectrum', 'quick', 'fill', 'media', 'hack', 'glanc', 'wikipedia', 'articl', 'hatch', 'act', 'tabl', 'accus', 'fbi', 'director', 'one', 'awkward', 'conspiraci', 'hillari', 'ever', 'jame', 'comey', 'realli', 'hurt', 'hillari', 'pick', 'one', 'hell', 'strang', 'way', 'long', 'ago', 'democrat', 'breath', 'sigh', 'relief', 'gave', 'hillari', 'clinton', 'pass', 'promin', 'public', 'statement', 'realli', 'elect', 'trump', 'keep', 'email', 'scandal', 'go', 'trash', 'investig', 'payrol', 'hous', 'republican', 'kgb', 'back', 'play', 'coy', 'sudden', 'develop', 'vladimir', 'putin', 'paul', 'ryan', 'talk', 'take', 'look', 'anthoni', 'weiner', '’', 'comput', 'either', 'comey', 'cun', 'fbi', 'director', 'ever', 'live', '’', 'awkward', 'tri', 'navig', 'polit', 'mess', 'trap', 'doj', 'leadership', 'whose', 'polit', 'futur', 'tie', 'hillari', '’', 'victori', 'bureau', 'whose', 'apolit', 'agent', 'want', 'allow', 'job', 'truli', 'mysteri', 'thing', 'hillari', 'associ', 'decid', 'go', 'war', 'respect', 'feder', 'agenc', 'american', 'like', 'fbi', 'hillari', 'clinton', 'enjoy', '60', 'unfavor', 'rate', '’', 'interest', 'question', 'hillari', '’', 'old', 'strategi', 'lie', 'deni', 'fbi', 'even', 'crimin', 'investig', 'underway', 'instead', 'associ', 'insist', 'secur', 'review', 'fbi', 'correct', 'shrug', 'old', 'breezi', 'denial', 'approach', 'given', 'way', 'savag', 'assault', 'fbi', 'pretend', 'noth', 'wrong', 'bad', 'strategi', 'better', 'one', 'pick', 'fight', 'fbi', 'lunat', 'clinton', 'associ', 'tri', 'claim', 'fbi', 'realli', 'kgb', 'two', 'possibl', 'explan', 'hillari', 'clinton', 'might', 'arrog', 'enough', 'lash', 'fbi', 'believ', 'victori', 'near', 'kind', 'hubri', 'led', 'plan', 'victori', 'firework', 'display', 'could', 'lead', 'declar', 'war', 'fbi', 'irrit', 'final', 'mile', 'campaign', 'explan', 'peopl', 'panick', 'go', 'war', 'fbi', 'behavior', 'smart', 'focus', 'presidenti', 'campaign', '’', 'act', 'desper', 'presidenti', 'candid', 'decid', 'option', 'tri', 'destroy', 'credibl', 'fbi', '’', 'hubri', '’', 'fear', 'fbi', 'might', 'reveal', 'origin', 'fbi', 'investig', 'hillari', 'clinton', 'confid', 'could', 'ride', 'good', 'reason', 'believ', 'hillari', 'clinton', 'gone', 'place', 'paranoid', 'wreck', 'within', 'short', 'space', 'time', '“', 'posit', '”', 'clinton', 'campaign', 'promis', 'unit', 'countri', 'replac', 'desper', 'flail', 'oper', 'focus', 'energi', 'fight', 'fbi', '’', 'one', 'reason', 'bizarr', 'behavior', 'clinton', 'campaign', 'decid', 'fbi', 'investig', 'latest', 'batch', 'email', 'pose', 'threat', 'surviv', '’', 'gone', 'fight', 'fbi', '’', 'unpreced', 'step', 'born', 'fear', '’', 'hard', 'know', 'whether', 'fear', 'justifi', 'exist', 'fear', 'alreadi', 'tell', 'us', 'whole', 'lot', 'clinton', 'loyalist', 'rig', 'old', 'investig', 'knew', 'outcom', 'ahead', 'time', 'well', 'knew', 'debat', 'question', 'sudden', 'longer', 'control', 'afraid', 'smell', 'fear', 'fbi', 'wiretap', 'investig', 'clinton', 'foundat', '’', 'find', 'new', 'email', 'time', 'clintonworld', 'panick', 'spinmeist', 'clintonworld', 'claim', 'email', 'scandal', 'much', 'smoke', 'without', 'fire', '’', 'appear', 'improprieti', 'without', 'substanc', '’', 'react', 'smoke', '’', 'respond', 'fire', 'misguid', 'assault', 'fbi', 'tell', 'us', 'hillari', 'clinton', 'alli', 'afraid', 'revel', 'bigger', 'fundament', 'illeg', 'email', 'setup', 'email', 'setup', 'preemptiv', 'cover', 'clinton', 'campaign', 'panick', 'bad', 'belief', 'right', 'wrong', 'whatev', 'crime', 'illeg', 'setup', 'meant', 'cover', 'risk', 'expos', 'clinton', 'weather', 'countless', 'scandal', 'year', 'whatev', 'protect', 'time', 'around', 'bigger', 'usual', 'corrupt', 'briberi', 'sexual', 'assault', 'abus', 'power', 'follow', 'around', 'throughout', 'year', 'bigger', 'damag', 'alleg', 'alreadi', 'come', '’', 'want', 'fbi', 'investig', 'anywher', 'near', 'campaign', 'comey', 'pure', 'intimid', '’', 'also', 'warn', 'senior', 'fbi', 'peopl', 'valu', 'career', 'warn', 'stay', 'away', 'democrat', 'close', 'rank', 'around', 'nomine', 'fbi', '’', 'ugli', 'unpreced', 'scene', 'may', 'also', 'last', 'stand', 'hillari', 'clinton', 'awkward', 'wound', 'way', 'numer', 'scandal', 'elect', 'cycl', '’', 'never', 'shown', 'fear', 'desper', 'chang', 'whatev', 'afraid', 'lie', 'buri', 'email', 'huma', 'abedin', 'bring', 'like', 'noth', 'els']\n",
      "['daniel_greenfield', 'greenfield_shillman', 'shillman_journal', 'journal_fellow', 'fellow_freedom', 'freedom_center', 'center_new', 'new_york', 'york_writer', 'writer_focus', 'focus_radic', 'radic_islam', 'islam_final', 'final_stretch', 'stretch_elect', 'elect_hillari', 'hillari_rodham', 'rodham_clinton', 'clinton_gone', 'gone_war', 'war_fbi', 'fbi_word', 'word_“', '“_unpreced', 'unpreced_”', '”_thrown', 'thrown_around', 'around_often', 'often_elect', 'elect_ought', 'ought_retir', 'retir_’', '’_still', 'still_unpreced', 'unpreced_nomine', 'nomine_major', 'major_polit', 'polit_parti', 'parti_go', 'go_war', 'war_fbi', 'fbi_’', '’_exact', 'exact_hillari', 'hillari_peopl', 'peopl_done', 'done_coma', 'coma_patient', 'patient_wake', 'wake_watch', 'watch_hour', 'hour_cnn', 'cnn_hospit', 'hospit_bed', 'bed_would', 'would_assum', 'assum_fbi', 'fbi_director', 'director_jame', 'jame_comey', 'comey_hillari', 'hillari_’', '’_oppon', 'oppon_elect', 'elect_fbi', 'fbi_attack', 'attack_everyon', 'everyon_obama', 'obama_cnn', 'cnn_hillari', 'hillari_’', '’_peopl', 'peopl_circul', 'circul_letter', 'letter_attack', 'attack_comey', 'comey_current', 'current_media', 'media_hit', 'hit_piec', 'piec_lambast', 'lambast_target', 'target_trump', 'trump_’', '’_surpris', 'surpris_clinton', 'clinton_alli', 'alli_start', 'start_run', 'run_attack', 'attack_ad', 'ad_fbi', 'fbi_fbi', 'fbi_’', '’_leadership', 'leadership_warn', 'warn_entir', 'entir_left-w', 'left-w_establish', 'establish_form', 'form_lynch', 'lynch_mob', 'mob_continu', 'continu_go', 'go_hillari', 'hillari_fbi', 'fbi_’', '’_credibl', 'credibl_attack', 'attack_media', 'media_democrat', 'democrat_preemptiv', 'preemptiv_head', 'head_result', 'result_investig', 'investig_clinton', 'clinton_foundat', 'foundat_hillari', 'hillari_clinton', 'clinton_covert', 'covert_struggl', 'struggl_fbi', 'fbi_agent', 'agent_obama', 'obama_’', '’_doj', 'doj_peopl', 'peopl_gone', 'gone_explos', 'explos_public', 'public_new', 'new_york', 'york_time', 'time_compar', 'compar_comey', 'comey_j.', 'j._edgar', 'edgar_hoover', 'hoover_bizarr', 'bizarr_headlin', 'headlin_“', '“_jame', 'jame_comey', 'comey_role', 'role_recal', 'recal_hoover', 'hoover_’', '’_fbi', 'fbi_fair', 'fair_”', '”_practic', 'practic_admit', 'admit_front', 'front_’', '’_spout', 'spout_nonsens', 'nonsens_boston', 'boston_globe', 'globe_publish', 'publish_column', 'column_call', 'call_comey', 'comey_’', '’_resign', 'resign_outdon', 'outdon_time', 'time_editori', 'editori_claim', 'claim_scandal', 'scandal_realli', 'realli_attack', 'attack_women', 'women_jame', 'jame_carvill', 'carvill_appear', 'appear_msnbc', 'msnbc_remind', 'remind_everyon', 'everyon_still', 'still_aliv', 'aliv_insan', 'insan_accus', 'accus_comey', 'comey_coordin', 'coordin_hous', 'hous_republican', 'republican_kgb', 'kgb_thought', 'thought_“', '“_vast', 'vast_right', 'right_wing', 'wing_conspiraci', 'conspiraci_”', '”_stretch', 'stretch_countless', 'countless_media', 'media_stori', 'stori_charg', 'charg_comey', 'comey_violat', 'violat_procedur', 'procedur_know', 'know_’', '’_procedur', 'procedur_violat', 'violat_email', 'email_classifi', 'classifi_inform', 'inform_store', 'store_bathroom', 'bathroom_server', 'server_senat', 'senat_harri', 'harri_reid', 'reid_sent', 'sent_comey', 'comey_letter', 'letter_accus', 'accus_violat', 'violat_hatch', 'hatch_act', 'act_hatch', 'hatch_act', 'act_nice', 'nice_idea', 'idea_much', 'much_relev', 'relev_age', 'age_obama', 'obama_tenth', 'tenth_amend', 'amend_cabl', 'cabl_news', 'news_spectrum', 'spectrum_quick', 'quick_fill', 'fill_media', 'media_hack', 'hack_glanc', 'glanc_wikipedia', 'wikipedia_articl', 'articl_hatch', 'hatch_act', 'act_tabl', 'tabl_accus', 'accus_fbi', 'fbi_director', 'director_one', 'one_awkward', 'awkward_conspiraci', 'conspiraci_hillari', 'hillari_ever', 'ever_jame', 'jame_comey', 'comey_realli', 'realli_hurt', 'hurt_hillari', 'hillari_pick', 'pick_one', 'one_hell', 'hell_strang', 'strang_way', 'way_long', 'long_ago', 'ago_democrat', 'democrat_breath', 'breath_sigh', 'sigh_relief', 'relief_gave', 'gave_hillari', 'hillari_clinton', 'clinton_pass', 'pass_promin', 'promin_public', 'public_statement', 'statement_realli', 'realli_elect', 'elect_trump', 'trump_keep', 'keep_email', 'email_scandal', 'scandal_go', 'go_trash', 'trash_investig', 'investig_payrol', 'payrol_hous', 'hous_republican', 'republican_kgb', 'kgb_back', 'back_play', 'play_coy', 'coy_sudden', 'sudden_develop', 'develop_vladimir', 'vladimir_putin', 'putin_paul', 'paul_ryan', 'ryan_talk', 'talk_take', 'take_look', 'look_anthoni', 'anthoni_weiner', 'weiner_’', '’_comput', 'comput_either', 'either_comey', 'comey_cun', 'cun_fbi', 'fbi_director', 'director_ever', 'ever_live', 'live_’', '’_awkward', 'awkward_tri', 'tri_navig', 'navig_polit', 'polit_mess', 'mess_trap', 'trap_doj', 'doj_leadership', 'leadership_whose', 'whose_polit', 'polit_futur', 'futur_tie', 'tie_hillari', 'hillari_’', '’_victori', 'victori_bureau', 'bureau_whose', 'whose_apolit', 'apolit_agent', 'agent_want', 'want_allow', 'allow_job', 'job_truli', 'truli_mysteri', 'mysteri_thing', 'thing_hillari', 'hillari_associ', 'associ_decid', 'decid_go', 'go_war', 'war_respect', 'respect_feder', 'feder_agenc', 'agenc_american', 'american_like', 'like_fbi', 'fbi_hillari', 'hillari_clinton', 'clinton_enjoy', 'enjoy_60', '60_unfavor', 'unfavor_rate', 'rate_’', '’_interest', 'interest_question', 'question_hillari', 'hillari_’', '’_old', 'old_strategi', 'strategi_lie', 'lie_deni', 'deni_fbi', 'fbi_even', 'even_crimin', 'crimin_investig', 'investig_underway', 'underway_instead', 'instead_associ', 'associ_insist', 'insist_secur', 'secur_review', 'review_fbi', 'fbi_correct', 'correct_shrug', 'shrug_old', 'old_breezi', 'breezi_denial', 'denial_approach', 'approach_given', 'given_way', 'way_savag', 'savag_assault', 'assault_fbi', 'fbi_pretend', 'pretend_noth', 'noth_wrong', 'wrong_bad', 'bad_strategi', 'strategi_better', 'better_one', 'one_pick', 'pick_fight', 'fight_fbi', 'fbi_lunat', 'lunat_clinton', 'clinton_associ', 'associ_tri', 'tri_claim', 'claim_fbi', 'fbi_realli', 'realli_kgb', 'kgb_two', 'two_possibl', 'possibl_explan', 'explan_hillari', 'hillari_clinton', 'clinton_might', 'might_arrog', 'arrog_enough', 'enough_lash', 'lash_fbi', 'fbi_believ', 'believ_victori', 'victori_near', 'near_kind', 'kind_hubri', 'hubri_led', 'led_plan', 'plan_victori', 'victori_firework', 'firework_display', 'display_could', 'could_lead', 'lead_declar', 'declar_war', 'war_fbi', 'fbi_irrit', 'irrit_final', 'final_mile', 'mile_campaign', 'campaign_explan', 'explan_peopl', 'peopl_panick', 'panick_go', 'go_war', 'war_fbi', 'fbi_behavior', 'behavior_smart', 'smart_focus', 'focus_presidenti', 'presidenti_campaign', 'campaign_’', '’_act', 'act_desper', 'desper_presidenti', 'presidenti_candid', 'candid_decid', 'decid_option', 'option_tri', 'tri_destroy', 'destroy_credibl', 'credibl_fbi', 'fbi_’', '’_hubri', 'hubri_’', '’_fear', 'fear_fbi', 'fbi_might', 'might_reveal', 'reveal_origin', 'origin_fbi', 'fbi_investig', 'investig_hillari', 'hillari_clinton', 'clinton_confid', 'confid_could', 'could_ride', 'ride_good', 'good_reason', 'reason_believ', 'believ_hillari', 'hillari_clinton', 'clinton_gone', 'gone_place', 'place_paranoid', 'paranoid_wreck', 'wreck_within', 'within_short', 'short_space', 'space_time', 'time_“', '“_posit', 'posit_”', '”_clinton', 'clinton_campaign', 'campaign_promis', 'promis_unit', 'unit_countri', 'countri_replac', 'replac_desper', 'desper_flail', 'flail_oper', 'oper_focus', 'focus_energi', 'energi_fight', 'fight_fbi', 'fbi_’', '’_one', 'one_reason', 'reason_bizarr', 'bizarr_behavior', 'behavior_clinton', 'clinton_campaign', 'campaign_decid', 'decid_fbi', 'fbi_investig', 'investig_latest', 'latest_batch', 'batch_email', 'email_pose', 'pose_threat', 'threat_surviv', 'surviv_’', '’_gone', 'gone_fight', 'fight_fbi', 'fbi_’', '’_unpreced', 'unpreced_step', 'step_born', 'born_fear', 'fear_’', '’_hard', 'hard_know', 'know_whether', 'whether_fear', 'fear_justifi', 'justifi_exist', 'exist_fear', 'fear_alreadi', 'alreadi_tell', 'tell_us', 'us_whole', 'whole_lot', 'lot_clinton', 'clinton_loyalist', 'loyalist_rig', 'rig_old', 'old_investig', 'investig_knew', 'knew_outcom', 'outcom_ahead', 'ahead_time', 'time_well', 'well_knew', 'knew_debat', 'debat_question', 'question_sudden', 'sudden_longer', 'longer_control', 'control_afraid', 'afraid_smell', 'smell_fear', 'fear_fbi', 'fbi_wiretap', 'wiretap_investig', 'investig_clinton', 'clinton_foundat', 'foundat_’', '’_find', 'find_new', 'new_email', 'email_time', 'time_clintonworld', 'clintonworld_panick', 'panick_spinmeist', 'spinmeist_clintonworld', 'clintonworld_claim', 'claim_email', 'email_scandal', 'scandal_much', 'much_smoke', 'smoke_without', 'without_fire', 'fire_’', '’_appear', 'appear_improprieti', 'improprieti_without', 'without_substanc', 'substanc_’', '’_react', 'react_smoke', 'smoke_’', '’_respond', 'respond_fire', 'fire_misguid', 'misguid_assault', 'assault_fbi', 'fbi_tell', 'tell_us', 'us_hillari', 'hillari_clinton', 'clinton_alli', 'alli_afraid', 'afraid_revel', 'revel_bigger', 'bigger_fundament', 'fundament_illeg', 'illeg_email', 'email_setup', 'setup_email', 'email_setup', 'setup_preemptiv', 'preemptiv_cover', 'cover_clinton', 'clinton_campaign', 'campaign_panick', 'panick_bad', 'bad_belief', 'belief_right', 'right_wrong', 'wrong_whatev', 'whatev_crime', 'crime_illeg', 'illeg_setup', 'setup_meant', 'meant_cover', 'cover_risk', 'risk_expos', 'expos_clinton', 'clinton_weather', 'weather_countless', 'countless_scandal', 'scandal_year', 'year_whatev', 'whatev_protect', 'protect_time', 'time_around', 'around_bigger', 'bigger_usual', 'usual_corrupt', 'corrupt_briberi', 'briberi_sexual', 'sexual_assault', 'assault_abus', 'abus_power', 'power_follow', 'follow_around', 'around_throughout', 'throughout_year', 'year_bigger', 'bigger_damag', 'damag_alleg', 'alleg_alreadi', 'alreadi_come', 'come_’', '’_want', 'want_fbi', 'fbi_investig', 'investig_anywher', 'anywher_near', 'near_campaign', 'campaign_comey', 'comey_pure', 'pure_intimid', 'intimid_’', '’_also', 'also_warn', 'warn_senior', 'senior_fbi', 'fbi_peopl', 'peopl_valu', 'valu_career', 'career_warn', 'warn_stay', 'stay_away', 'away_democrat', 'democrat_close', 'close_rank', 'rank_around', 'around_nomine', 'nomine_fbi', 'fbi_’', '’_ugli', 'ugli_unpreced', 'unpreced_scene', 'scene_may', 'may_also', 'also_last', 'last_stand', 'stand_hillari', 'hillari_clinton', 'clinton_awkward', 'awkward_wound', 'wound_way', 'way_numer', 'numer_scandal', 'scandal_elect', 'elect_cycl', 'cycl_’', '’_never', 'never_shown', 'shown_fear', 'fear_desper', 'desper_chang', 'chang_whatev', 'whatev_afraid', 'afraid_lie', 'lie_buri', 'buri_email', 'email_huma', 'huma_abedin', 'abedin_bring', 'bring_like', 'like_noth', 'noth_els']\n",
      "['daniel_greenfield_shillman', 'greenfield_shillman_journal', 'shillman_journal_fellow', 'journal_fellow_freedom', 'fellow_freedom_center', 'freedom_center_new', 'center_new_york', 'new_york_writer', 'york_writer_focus', 'writer_focus_radic', 'focus_radic_islam', 'radic_islam_final', 'islam_final_stretch', 'final_stretch_elect', 'stretch_elect_hillari', 'elect_hillari_rodham', 'hillari_rodham_clinton', 'rodham_clinton_gone', 'clinton_gone_war', 'gone_war_fbi', 'war_fbi_word', 'fbi_word_“', 'word_“_unpreced', '“_unpreced_”', 'unpreced_”_thrown', '”_thrown_around', 'thrown_around_often', 'around_often_elect', 'often_elect_ought', 'elect_ought_retir', 'ought_retir_’', 'retir_’_still', '’_still_unpreced', 'still_unpreced_nomine', 'unpreced_nomine_major', 'nomine_major_polit', 'major_polit_parti', 'polit_parti_go', 'parti_go_war', 'go_war_fbi', 'war_fbi_’', 'fbi_’_exact', '’_exact_hillari', 'exact_hillari_peopl', 'hillari_peopl_done', 'peopl_done_coma', 'done_coma_patient', 'coma_patient_wake', 'patient_wake_watch', 'wake_watch_hour', 'watch_hour_cnn', 'hour_cnn_hospit', 'cnn_hospit_bed', 'hospit_bed_would', 'bed_would_assum', 'would_assum_fbi', 'assum_fbi_director', 'fbi_director_jame', 'director_jame_comey', 'jame_comey_hillari', 'comey_hillari_’', 'hillari_’_oppon', '’_oppon_elect', 'oppon_elect_fbi', 'elect_fbi_attack', 'fbi_attack_everyon', 'attack_everyon_obama', 'everyon_obama_cnn', 'obama_cnn_hillari', 'cnn_hillari_’', 'hillari_’_peopl', '’_peopl_circul', 'peopl_circul_letter', 'circul_letter_attack', 'letter_attack_comey', 'attack_comey_current', 'comey_current_media', 'current_media_hit', 'media_hit_piec', 'hit_piec_lambast', 'piec_lambast_target', 'lambast_target_trump', 'target_trump_’', 'trump_’_surpris', '’_surpris_clinton', 'surpris_clinton_alli', 'clinton_alli_start', 'alli_start_run', 'start_run_attack', 'run_attack_ad', 'attack_ad_fbi', 'ad_fbi_fbi', 'fbi_fbi_’', 'fbi_’_leadership', '’_leadership_warn', 'leadership_warn_entir', 'warn_entir_left-w', 'entir_left-w_establish', 'left-w_establish_form', 'establish_form_lynch', 'form_lynch_mob', 'lynch_mob_continu', 'mob_continu_go', 'continu_go_hillari', 'go_hillari_fbi', 'hillari_fbi_’', 'fbi_’_credibl', '’_credibl_attack', 'credibl_attack_media', 'attack_media_democrat', 'media_democrat_preemptiv', 'democrat_preemptiv_head', 'preemptiv_head_result', 'head_result_investig', 'result_investig_clinton', 'investig_clinton_foundat', 'clinton_foundat_hillari', 'foundat_hillari_clinton', 'hillari_clinton_covert', 'clinton_covert_struggl', 'covert_struggl_fbi', 'struggl_fbi_agent', 'fbi_agent_obama', 'agent_obama_’', 'obama_’_doj', '’_doj_peopl', 'doj_peopl_gone', 'peopl_gone_explos', 'gone_explos_public', 'explos_public_new', 'public_new_york', 'new_york_time', 'york_time_compar', 'time_compar_comey', 'compar_comey_j.', 'comey_j._edgar', 'j._edgar_hoover', 'edgar_hoover_bizarr', 'hoover_bizarr_headlin', 'bizarr_headlin_“', 'headlin_“_jame', '“_jame_comey', 'jame_comey_role', 'comey_role_recal', 'role_recal_hoover', 'recal_hoover_’', 'hoover_’_fbi', '’_fbi_fair', 'fbi_fair_”', 'fair_”_practic', '”_practic_admit', 'practic_admit_front', 'admit_front_’', 'front_’_spout', '’_spout_nonsens', 'spout_nonsens_boston', 'nonsens_boston_globe', 'boston_globe_publish', 'globe_publish_column', 'publish_column_call', 'column_call_comey', 'call_comey_’', 'comey_’_resign', '’_resign_outdon', 'resign_outdon_time', 'outdon_time_editori', 'time_editori_claim', 'editori_claim_scandal', 'claim_scandal_realli', 'scandal_realli_attack', 'realli_attack_women', 'attack_women_jame', 'women_jame_carvill', 'jame_carvill_appear', 'carvill_appear_msnbc', 'appear_msnbc_remind', 'msnbc_remind_everyon', 'remind_everyon_still', 'everyon_still_aliv', 'still_aliv_insan', 'aliv_insan_accus', 'insan_accus_comey', 'accus_comey_coordin', 'comey_coordin_hous', 'coordin_hous_republican', 'hous_republican_kgb', 'republican_kgb_thought', 'kgb_thought_“', 'thought_“_vast', '“_vast_right', 'vast_right_wing', 'right_wing_conspiraci', 'wing_conspiraci_”', 'conspiraci_”_stretch', '”_stretch_countless', 'stretch_countless_media', 'countless_media_stori', 'media_stori_charg', 'stori_charg_comey', 'charg_comey_violat', 'comey_violat_procedur', 'violat_procedur_know', 'procedur_know_’', 'know_’_procedur', '’_procedur_violat', 'procedur_violat_email', 'violat_email_classifi', 'email_classifi_inform', 'classifi_inform_store', 'inform_store_bathroom', 'store_bathroom_server', 'bathroom_server_senat', 'server_senat_harri', 'senat_harri_reid', 'harri_reid_sent', 'reid_sent_comey', 'sent_comey_letter', 'comey_letter_accus', 'letter_accus_violat', 'accus_violat_hatch', 'violat_hatch_act', 'hatch_act_hatch', 'act_hatch_act', 'hatch_act_nice', 'act_nice_idea', 'nice_idea_much', 'idea_much_relev', 'much_relev_age', 'relev_age_obama', 'age_obama_tenth', 'obama_tenth_amend', 'tenth_amend_cabl', 'amend_cabl_news', 'cabl_news_spectrum', 'news_spectrum_quick', 'spectrum_quick_fill', 'quick_fill_media', 'fill_media_hack', 'media_hack_glanc', 'hack_glanc_wikipedia', 'glanc_wikipedia_articl', 'wikipedia_articl_hatch', 'articl_hatch_act', 'hatch_act_tabl', 'act_tabl_accus', 'tabl_accus_fbi', 'accus_fbi_director', 'fbi_director_one', 'director_one_awkward', 'one_awkward_conspiraci', 'awkward_conspiraci_hillari', 'conspiraci_hillari_ever', 'hillari_ever_jame', 'ever_jame_comey', 'jame_comey_realli', 'comey_realli_hurt', 'realli_hurt_hillari', 'hurt_hillari_pick', 'hillari_pick_one', 'pick_one_hell', 'one_hell_strang', 'hell_strang_way', 'strang_way_long', 'way_long_ago', 'long_ago_democrat', 'ago_democrat_breath', 'democrat_breath_sigh', 'breath_sigh_relief', 'sigh_relief_gave', 'relief_gave_hillari', 'gave_hillari_clinton', 'hillari_clinton_pass', 'clinton_pass_promin', 'pass_promin_public', 'promin_public_statement', 'public_statement_realli', 'statement_realli_elect', 'realli_elect_trump', 'elect_trump_keep', 'trump_keep_email', 'keep_email_scandal', 'email_scandal_go', 'scandal_go_trash', 'go_trash_investig', 'trash_investig_payrol', 'investig_payrol_hous', 'payrol_hous_republican', 'hous_republican_kgb', 'republican_kgb_back', 'kgb_back_play', 'back_play_coy', 'play_coy_sudden', 'coy_sudden_develop', 'sudden_develop_vladimir', 'develop_vladimir_putin', 'vladimir_putin_paul', 'putin_paul_ryan', 'paul_ryan_talk', 'ryan_talk_take', 'talk_take_look', 'take_look_anthoni', 'look_anthoni_weiner', 'anthoni_weiner_’', 'weiner_’_comput', '’_comput_either', 'comput_either_comey', 'either_comey_cun', 'comey_cun_fbi', 'cun_fbi_director', 'fbi_director_ever', 'director_ever_live', 'ever_live_’', 'live_’_awkward', '’_awkward_tri', 'awkward_tri_navig', 'tri_navig_polit', 'navig_polit_mess', 'polit_mess_trap', 'mess_trap_doj', 'trap_doj_leadership', 'doj_leadership_whose', 'leadership_whose_polit', 'whose_polit_futur', 'polit_futur_tie', 'futur_tie_hillari', 'tie_hillari_’', 'hillari_’_victori', '’_victori_bureau', 'victori_bureau_whose', 'bureau_whose_apolit', 'whose_apolit_agent', 'apolit_agent_want', 'agent_want_allow', 'want_allow_job', 'allow_job_truli', 'job_truli_mysteri', 'truli_mysteri_thing', 'mysteri_thing_hillari', 'thing_hillari_associ', 'hillari_associ_decid', 'associ_decid_go', 'decid_go_war', 'go_war_respect', 'war_respect_feder', 'respect_feder_agenc', 'feder_agenc_american', 'agenc_american_like', 'american_like_fbi', 'like_fbi_hillari', 'fbi_hillari_clinton', 'hillari_clinton_enjoy', 'clinton_enjoy_60', 'enjoy_60_unfavor', '60_unfavor_rate', 'unfavor_rate_’', 'rate_’_interest', '’_interest_question', 'interest_question_hillari', 'question_hillari_’', 'hillari_’_old', '’_old_strategi', 'old_strategi_lie', 'strategi_lie_deni', 'lie_deni_fbi', 'deni_fbi_even', 'fbi_even_crimin', 'even_crimin_investig', 'crimin_investig_underway', 'investig_underway_instead', 'underway_instead_associ', 'instead_associ_insist', 'associ_insist_secur', 'insist_secur_review', 'secur_review_fbi', 'review_fbi_correct', 'fbi_correct_shrug', 'correct_shrug_old', 'shrug_old_breezi', 'old_breezi_denial', 'breezi_denial_approach', 'denial_approach_given', 'approach_given_way', 'given_way_savag', 'way_savag_assault', 'savag_assault_fbi', 'assault_fbi_pretend', 'fbi_pretend_noth', 'pretend_noth_wrong', 'noth_wrong_bad', 'wrong_bad_strategi', 'bad_strategi_better', 'strategi_better_one', 'better_one_pick', 'one_pick_fight', 'pick_fight_fbi', 'fight_fbi_lunat', 'fbi_lunat_clinton', 'lunat_clinton_associ', 'clinton_associ_tri', 'associ_tri_claim', 'tri_claim_fbi', 'claim_fbi_realli', 'fbi_realli_kgb', 'realli_kgb_two', 'kgb_two_possibl', 'two_possibl_explan', 'possibl_explan_hillari', 'explan_hillari_clinton', 'hillari_clinton_might', 'clinton_might_arrog', 'might_arrog_enough', 'arrog_enough_lash', 'enough_lash_fbi', 'lash_fbi_believ', 'fbi_believ_victori', 'believ_victori_near', 'victori_near_kind', 'near_kind_hubri', 'kind_hubri_led', 'hubri_led_plan', 'led_plan_victori', 'plan_victori_firework', 'victori_firework_display', 'firework_display_could', 'display_could_lead', 'could_lead_declar', 'lead_declar_war', 'declar_war_fbi', 'war_fbi_irrit', 'fbi_irrit_final', 'irrit_final_mile', 'final_mile_campaign', 'mile_campaign_explan', 'campaign_explan_peopl', 'explan_peopl_panick', 'peopl_panick_go', 'panick_go_war', 'go_war_fbi', 'war_fbi_behavior', 'fbi_behavior_smart', 'behavior_smart_focus', 'smart_focus_presidenti', 'focus_presidenti_campaign', 'presidenti_campaign_’', 'campaign_’_act', '’_act_desper', 'act_desper_presidenti', 'desper_presidenti_candid', 'presidenti_candid_decid', 'candid_decid_option', 'decid_option_tri', 'option_tri_destroy', 'tri_destroy_credibl', 'destroy_credibl_fbi', 'credibl_fbi_’', 'fbi_’_hubri', '’_hubri_’', 'hubri_’_fear', '’_fear_fbi', 'fear_fbi_might', 'fbi_might_reveal', 'might_reveal_origin', 'reveal_origin_fbi', 'origin_fbi_investig', 'fbi_investig_hillari', 'investig_hillari_clinton', 'hillari_clinton_confid', 'clinton_confid_could', 'confid_could_ride', 'could_ride_good', 'ride_good_reason', 'good_reason_believ', 'reason_believ_hillari', 'believ_hillari_clinton', 'hillari_clinton_gone', 'clinton_gone_place', 'gone_place_paranoid', 'place_paranoid_wreck', 'paranoid_wreck_within', 'wreck_within_short', 'within_short_space', 'short_space_time', 'space_time_“', 'time_“_posit', '“_posit_”', 'posit_”_clinton', '”_clinton_campaign', 'clinton_campaign_promis', 'campaign_promis_unit', 'promis_unit_countri', 'unit_countri_replac', 'countri_replac_desper', 'replac_desper_flail', 'desper_flail_oper', 'flail_oper_focus', 'oper_focus_energi', 'focus_energi_fight', 'energi_fight_fbi', 'fight_fbi_’', 'fbi_’_one', '’_one_reason', 'one_reason_bizarr', 'reason_bizarr_behavior', 'bizarr_behavior_clinton', 'behavior_clinton_campaign', 'clinton_campaign_decid', 'campaign_decid_fbi', 'decid_fbi_investig', 'fbi_investig_latest', 'investig_latest_batch', 'latest_batch_email', 'batch_email_pose', 'email_pose_threat', 'pose_threat_surviv', 'threat_surviv_’', 'surviv_’_gone', '’_gone_fight', 'gone_fight_fbi', 'fight_fbi_’', 'fbi_’_unpreced', '’_unpreced_step', 'unpreced_step_born', 'step_born_fear', 'born_fear_’', 'fear_’_hard', '’_hard_know', 'hard_know_whether', 'know_whether_fear', 'whether_fear_justifi', 'fear_justifi_exist', 'justifi_exist_fear', 'exist_fear_alreadi', 'fear_alreadi_tell', 'alreadi_tell_us', 'tell_us_whole', 'us_whole_lot', 'whole_lot_clinton', 'lot_clinton_loyalist', 'clinton_loyalist_rig', 'loyalist_rig_old', 'rig_old_investig', 'old_investig_knew', 'investig_knew_outcom', 'knew_outcom_ahead', 'outcom_ahead_time', 'ahead_time_well', 'time_well_knew', 'well_knew_debat', 'knew_debat_question', 'debat_question_sudden', 'question_sudden_longer', 'sudden_longer_control', 'longer_control_afraid', 'control_afraid_smell', 'afraid_smell_fear', 'smell_fear_fbi', 'fear_fbi_wiretap', 'fbi_wiretap_investig', 'wiretap_investig_clinton', 'investig_clinton_foundat', 'clinton_foundat_’', 'foundat_’_find', '’_find_new', 'find_new_email', 'new_email_time', 'email_time_clintonworld', 'time_clintonworld_panick', 'clintonworld_panick_spinmeist', 'panick_spinmeist_clintonworld', 'spinmeist_clintonworld_claim', 'clintonworld_claim_email', 'claim_email_scandal', 'email_scandal_much', 'scandal_much_smoke', 'much_smoke_without', 'smoke_without_fire', 'without_fire_’', 'fire_’_appear', '’_appear_improprieti', 'appear_improprieti_without', 'improprieti_without_substanc', 'without_substanc_’', 'substanc_’_react', '’_react_smoke', 'react_smoke_’', 'smoke_’_respond', '’_respond_fire', 'respond_fire_misguid', 'fire_misguid_assault', 'misguid_assault_fbi', 'assault_fbi_tell', 'fbi_tell_us', 'tell_us_hillari', 'us_hillari_clinton', 'hillari_clinton_alli', 'clinton_alli_afraid', 'alli_afraid_revel', 'afraid_revel_bigger', 'revel_bigger_fundament', 'bigger_fundament_illeg', 'fundament_illeg_email', 'illeg_email_setup', 'email_setup_email', 'setup_email_setup', 'email_setup_preemptiv', 'setup_preemptiv_cover', 'preemptiv_cover_clinton', 'cover_clinton_campaign', 'clinton_campaign_panick', 'campaign_panick_bad', 'panick_bad_belief', 'bad_belief_right', 'belief_right_wrong', 'right_wrong_whatev', 'wrong_whatev_crime', 'whatev_crime_illeg', 'crime_illeg_setup', 'illeg_setup_meant', 'setup_meant_cover', 'meant_cover_risk', 'cover_risk_expos', 'risk_expos_clinton', 'expos_clinton_weather', 'clinton_weather_countless', 'weather_countless_scandal', 'countless_scandal_year', 'scandal_year_whatev', 'year_whatev_protect', 'whatev_protect_time', 'protect_time_around', 'time_around_bigger', 'around_bigger_usual', 'bigger_usual_corrupt', 'usual_corrupt_briberi', 'corrupt_briberi_sexual', 'briberi_sexual_assault', 'sexual_assault_abus', 'assault_abus_power', 'abus_power_follow', 'power_follow_around', 'follow_around_throughout', 'around_throughout_year', 'throughout_year_bigger', 'year_bigger_damag', 'bigger_damag_alleg', 'damag_alleg_alreadi', 'alleg_alreadi_come', 'alreadi_come_’', 'come_’_want', '’_want_fbi', 'want_fbi_investig', 'fbi_investig_anywher', 'investig_anywher_near', 'anywher_near_campaign', 'near_campaign_comey', 'campaign_comey_pure', 'comey_pure_intimid', 'pure_intimid_’', 'intimid_’_also', '’_also_warn', 'also_warn_senior', 'warn_senior_fbi', 'senior_fbi_peopl', 'fbi_peopl_valu', 'peopl_valu_career', 'valu_career_warn', 'career_warn_stay', 'warn_stay_away', 'stay_away_democrat', 'away_democrat_close', 'democrat_close_rank', 'close_rank_around', 'rank_around_nomine', 'around_nomine_fbi', 'nomine_fbi_’', 'fbi_’_ugli', '’_ugli_unpreced', 'ugli_unpreced_scene', 'unpreced_scene_may', 'scene_may_also', 'may_also_last', 'also_last_stand', 'last_stand_hillari', 'stand_hillari_clinton', 'hillari_clinton_awkward', 'clinton_awkward_wound', 'awkward_wound_way', 'wound_way_numer', 'way_numer_scandal', 'numer_scandal_elect', 'scandal_elect_cycl', 'elect_cycl_’', 'cycl_’_never', '’_never_shown', 'never_shown_fear', 'shown_fear_desper', 'fear_desper_chang', 'desper_chang_whatev', 'chang_whatev_afraid', 'whatev_afraid_lie', 'afraid_lie_buri', 'lie_buri_email', 'buri_email_huma', 'email_huma_abedin', 'huma_abedin_bring', 'abedin_bring_like', 'bring_like_noth', 'like_noth_els']\n"
     ]
    }
   ],
   "source": [
    "# \"_corpus\" combines all the articles together so this list only has one dimension \n",
    "\n",
    "from ngram import *\n",
    "\n",
    "join_str = \"_\"\n",
    "unigram = []\n",
    "unigram_corpus = []\n",
    "bigram = []\n",
    "bigram_corpus = []\n",
    "trigram = []\n",
    "trigram_corpus = []\n",
    "for doc in text_cleaned:\n",
    "    unigram.append(getUnigram(doc))\n",
    "    unigram_corpus.extend(getUnigram(doc))\n",
    "    bigram.append(getBigram(doc, join_str))\n",
    "    bigram_corpus.extend(getBigram(doc, join_str))\n",
    "    trigram.append(getTrigram(doc, join_str))\n",
    "    trigram_corpus.extend(getTrigram(doc, join_str))\n",
    "\n",
    "print(unigram[0])\n",
    "print(bigram[0])\n",
    "print(trigram[0])"
   ]
  },
  {
   "cell_type": "markdown",
   "metadata": {},
   "source": [
    "# Count Feature Generater"
   ]
  },
  {
   "cell_type": "code",
   "execution_count": null,
   "metadata": {
    "collapsed": true
   },
   "outputs": [],
   "source": []
  },
  {
   "cell_type": "markdown",
   "metadata": {},
   "source": [
    "# TF-IDF Feature Generater"
   ]
  },
  {
   "cell_type": "code",
   "execution_count": 32,
   "metadata": {},
   "outputs": [
    {
     "name": "stdout",
     "output_type": "stream",
     "text": [
      "Counter({'’': 32, 'fbi': 31, 'hillari': 18, 'clinton': 18, 'comey': 11, 'investig': 8, 'email': 8, 'time': 6, 'campaign': 6, 'fear': 6, 'elect': 5, 'war': 5, 'go': 5, 'peopl': 5, 'attack': 5, 'scandal': 5, 'gone': 4, '“': 4, 'unpreced': 4, '”': 4, 'around': 4, 'jame': 4, 'media': 4, 'realli': 4, 'act': 4, 'one': 4, 'new': 3, 'focus': 3, 'polit': 3, 'director': 3, 'obama': 3, 'warn': 3, 'democrat': 3, 'claim': 3, 'accus': 3, 'kgb': 3, 'violat': 3, 'hatch': 3, 'awkward': 3, 'way': 3, 'tri': 3, 'victori': 3, 'associ': 3, 'decid': 3, 'old': 3, 'assault': 3, 'fight': 3, 'panick': 3, 'desper': 3, 'afraid': 3, 'bigger': 3, 'setup': 3, 'whatev': 3, 'york': 2, 'final': 2, 'stretch': 2, 'still': 2, 'nomine': 2, 'cnn': 2, 'everyon': 2, 'letter': 2, 'trump': 2, 'alli': 2, 'leadership': 2, 'credibl': 2, 'preemptiv': 2, 'foundat': 2, 'agent': 2, 'doj': 2, 'public': 2, 'hoover': 2, 'bizarr': 2, 'appear': 2, 'hous': 2, 'republican': 2, 'right': 2, 'conspiraci': 2, 'countless': 2, 'procedur': 2, 'know': 2, 'much': 2, 'ever': 2, 'pick': 2, 'sudden': 2, 'whose': 2, 'want': 2, 'like': 2, 'question': 2, 'strategi': 2, 'lie': 2, 'noth': 2, 'wrong': 2, 'bad': 2, 'explan': 2, 'might': 2, 'believ': 2, 'near': 2, 'hubri': 2, 'could': 2, 'behavior': 2, 'presidenti': 2, 'reason': 2, 'alreadi': 2, 'tell': 2, 'us': 2, 'knew': 2, 'clintonworld': 2, 'smoke': 2, 'without': 2, 'fire': 2, 'illeg': 2, 'cover': 2, 'year': 2, 'also': 2, 'daniel': 1, 'greenfield': 1, 'shillman': 1, 'journal': 1, 'fellow': 1, 'freedom': 1, 'center': 1, 'writer': 1, 'radic': 1, 'islam': 1, 'rodham': 1, 'word': 1, 'thrown': 1, 'often': 1, 'ought': 1, 'retir': 1, 'major': 1, 'parti': 1, 'exact': 1, 'done': 1, 'coma': 1, 'patient': 1, 'wake': 1, 'watch': 1, 'hour': 1, 'hospit': 1, 'bed': 1, 'would': 1, 'assum': 1, 'oppon': 1, 'circul': 1, 'current': 1, 'hit': 1, 'piec': 1, 'lambast': 1, 'target': 1, 'surpris': 1, 'start': 1, 'run': 1, 'ad': 1, 'entir': 1, 'left-w': 1, 'establish': 1, 'form': 1, 'lynch': 1, 'mob': 1, 'continu': 1, 'head': 1, 'result': 1, 'covert': 1, 'struggl': 1, 'explos': 1, 'compar': 1, 'j.': 1, 'edgar': 1, 'headlin': 1, 'role': 1, 'recal': 1, 'fair': 1, 'practic': 1, 'admit': 1, 'front': 1, 'spout': 1, 'nonsens': 1, 'boston': 1, 'globe': 1, 'publish': 1, 'column': 1, 'call': 1, 'resign': 1, 'outdon': 1, 'editori': 1, 'women': 1, 'carvill': 1, 'msnbc': 1, 'remind': 1, 'aliv': 1, 'insan': 1, 'coordin': 1, 'thought': 1, 'vast': 1, 'wing': 1, 'stori': 1, 'charg': 1, 'classifi': 1, 'inform': 1, 'store': 1, 'bathroom': 1, 'server': 1, 'senat': 1, 'harri': 1, 'reid': 1, 'sent': 1, 'nice': 1, 'idea': 1, 'relev': 1, 'age': 1, 'tenth': 1, 'amend': 1, 'cabl': 1, 'news': 1, 'spectrum': 1, 'quick': 1, 'fill': 1, 'hack': 1, 'glanc': 1, 'wikipedia': 1, 'articl': 1, 'tabl': 1, 'hurt': 1, 'hell': 1, 'strang': 1, 'long': 1, 'ago': 1, 'breath': 1, 'sigh': 1, 'relief': 1, 'gave': 1, 'pass': 1, 'promin': 1, 'statement': 1, 'keep': 1, 'trash': 1, 'payrol': 1, 'back': 1, 'play': 1, 'coy': 1, 'develop': 1, 'vladimir': 1, 'putin': 1, 'paul': 1, 'ryan': 1, 'talk': 1, 'take': 1, 'look': 1, 'anthoni': 1, 'weiner': 1, 'comput': 1, 'either': 1, 'cun': 1, 'live': 1, 'navig': 1, 'mess': 1, 'trap': 1, 'futur': 1, 'tie': 1, 'bureau': 1, 'apolit': 1, 'allow': 1, 'job': 1, 'truli': 1, 'mysteri': 1, 'thing': 1, 'respect': 1, 'feder': 1, 'agenc': 1, 'american': 1, 'enjoy': 1, '60': 1, 'unfavor': 1, 'rate': 1, 'interest': 1, 'deni': 1, 'even': 1, 'crimin': 1, 'underway': 1, 'instead': 1, 'insist': 1, 'secur': 1, 'review': 1, 'correct': 1, 'shrug': 1, 'breezi': 1, 'denial': 1, 'approach': 1, 'given': 1, 'savag': 1, 'pretend': 1, 'better': 1, 'lunat': 1, 'two': 1, 'possibl': 1, 'arrog': 1, 'enough': 1, 'lash': 1, 'kind': 1, 'led': 1, 'plan': 1, 'firework': 1, 'display': 1, 'lead': 1, 'declar': 1, 'irrit': 1, 'mile': 1, 'smart': 1, 'candid': 1, 'option': 1, 'destroy': 1, 'reveal': 1, 'origin': 1, 'confid': 1, 'ride': 1, 'good': 1, 'place': 1, 'paranoid': 1, 'wreck': 1, 'within': 1, 'short': 1, 'space': 1, 'posit': 1, 'promis': 1, 'unit': 1, 'countri': 1, 'replac': 1, 'flail': 1, 'oper': 1, 'energi': 1, 'latest': 1, 'batch': 1, 'pose': 1, 'threat': 1, 'surviv': 1, 'step': 1, 'born': 1, 'hard': 1, 'whether': 1, 'justifi': 1, 'exist': 1, 'whole': 1, 'lot': 1, 'loyalist': 1, 'rig': 1, 'outcom': 1, 'ahead': 1, 'well': 1, 'debat': 1, 'longer': 1, 'control': 1, 'smell': 1, 'wiretap': 1, 'find': 1, 'spinmeist': 1, 'improprieti': 1, 'substanc': 1, 'react': 1, 'respond': 1, 'misguid': 1, 'revel': 1, 'fundament': 1, 'belief': 1, 'crime': 1, 'meant': 1, 'risk': 1, 'expos': 1, 'weather': 1, 'protect': 1, 'usual': 1, 'corrupt': 1, 'briberi': 1, 'sexual': 1, 'abus': 1, 'power': 1, 'follow': 1, 'throughout': 1, 'damag': 1, 'alleg': 1, 'come': 1, 'anywher': 1, 'pure': 1, 'intimid': 1, 'senior': 1, 'valu': 1, 'career': 1, 'stay': 1, 'away': 1, 'close': 1, 'rank': 1, 'ugli': 1, 'scene': 1, 'may': 1, 'last': 1, 'stand': 1, 'wound': 1, 'numer': 1, 'cycl': 1, 'never': 1, 'shown': 1, 'chang': 1, 'buri': 1, 'huma': 1, 'abedin': 1, 'bring': 1, 'els': 1})\n"
     ]
    }
   ],
   "source": [
    "# Counnt words' frequency\n",
    "\n",
    "countlist = []\n",
    "for i in range(len(text_cleaned)):\n",
    "    count = Counter(text_cleaned[i])\n",
    "    countlist.append(count)\n",
    "print(countlist[0])"
   ]
  },
  {
   "cell_type": "code",
   "execution_count": 33,
   "metadata": {
    "collapsed": true
   },
   "outputs": [],
   "source": [
    "# word可以通过count得到，count可以通过countlist得到\n",
    "# count[word]可以得到每个单词的词频， sum(count.values())得到整个句子的单词总数\n",
    "def tf(word, count):\n",
    "    return count[word] / sum(count.values())\n",
    "\n",
    "# 统计的是含有该单词的句子数\n",
    "def n_containing(word, count_list):\n",
    "    return sum(1 for count in count_list if word in count)\n",
    "\n",
    "# len(count_list)是指句子的总数，n_containing(word, count_list)是指含有该单词的句子的总数，加1是为了防止分母为0\n",
    "def idf(word, count_list):\n",
    "    return math.log(len(count_list) / (1 + n_containing(word, count_list)))\n",
    "\n",
    "# 将tf和idf相乘\n",
    "def tfidf(word, count, count_list):\n",
    "    return tf(word, count) * idf(word, count_list)"
   ]
  },
  {
   "cell_type": "code",
   "execution_count": 37,
   "metadata": {},
   "outputs": [
    {
     "name": "stdout",
     "output_type": "stream",
     "text": [
      "Top words in document 1\n",
      "\tWord: fbi, TF-IDF: 0.10067\n",
      "\tWord: comey, TF-IDF: 0.04956\n",
      "\tWord: kgb, TF-IDF: 0.02723\n",
      "\tWord: hillari, TF-IDF: 0.02633\n",
      "\tWord: clinton, TF-IDF: 0.02455\n",
      "\tWord: setup, TF-IDF: 0.0239\n",
      "\tWord: panick, TF-IDF: 0.02219\n",
      "\tWord: investig, TF-IDF: 0.02075\n",
      "\tWord: scandal, TF-IDF: 0.01998\n",
      "\tWord: clintonworld, TF-IDF: 0.01916\n",
      "\tWord: email, TF-IDF: 0.0188\n",
      "\tWord: ’, TF-IDF: 0.01866\n",
      "\tWord: awkward, TF-IDF: 0.0185\n",
      "\tWord: fear, TF-IDF: 0.01842\n",
      "\tWord: unpreced, TF-IDF: 0.01822\n",
      "\tWord: hatch, TF-IDF: 0.01809\n",
      "\tWord: hubri, TF-IDF: 0.01666\n",
      "\tWord: preemptiv, TF-IDF: 0.01594\n",
      "\tWord: afraid, TF-IDF: 0.01521\n",
      "\tWord: gone, TF-IDF: 0.01499\n",
      "\tWord: hoover, TF-IDF: 0.01479\n",
      "\tWord: jame, TF-IDF: 0.01456\n",
      "\tWord: desper, TF-IDF: 0.01328\n",
      "\tWord: bigger, TF-IDF: 0.01322\n",
      "\tWord: doj, TF-IDF: 0.0122\n",
      "\tWord: countless, TF-IDF: 0.01179\n",
      "\tWord: assault, TF-IDF: 0.01156\n",
      "\tWord: bizarr, TF-IDF: 0.01153\n",
      "\tWord: spinmeist, TF-IDF: 0.01135\n",
      "\tWord: violat, TF-IDF: 0.01115\n",
      "\tWord: whatev, TF-IDF: 0.01113\n",
      "\tWord: war, TF-IDF: 0.01059\n",
      "\tWord: procedur, TF-IDF: 0.01036\n",
      "\tWord: smoke, TF-IDF: 0.01033\n",
      "\tWord: stretch, TF-IDF: 0.01023\n",
      "\tWord: breezi, TF-IDF: 0.01005\n",
      "\tWord: attack, TF-IDF: 0.00987\n",
      "\tWord: old, TF-IDF: 0.0098\n",
      "\tWord: shillman, TF-IDF: 0.0098\n",
      "\tWord: outdon, TF-IDF: 0.0098\n",
      "\tWord: explan, TF-IDF: 0.00966\n",
      "\tWord: carvill, TF-IDF: 0.00958\n",
      "\tWord: conspiraci, TF-IDF: 0.00941\n",
      "\tWord: coma, TF-IDF: 0.00939\n",
      "\tWord: victori, TF-IDF: 0.00928\n",
      "\tWord: act, TF-IDF: 0.00925\n",
      "\tWord: credibl, TF-IDF: 0.00916\n",
      "\tWord: accus, TF-IDF: 0.00915\n",
      "\tWord: warn, TF-IDF: 0.00899\n",
      "\tWord: sudden, TF-IDF: 0.00895\n",
      "\tWord: improprieti, TF-IDF: 0.00894\n",
      "\tWord: apolit, TF-IDF: 0.00871\n",
      "\tWord: realli, TF-IDF: 0.00866\n",
      "\tWord: coy, TF-IDF: 0.0086\n",
      "\tWord: cun, TF-IDF: 0.0086\n",
      "\tWord: greenfield, TF-IDF: 0.00851\n",
      "\tWord: behavior, TF-IDF: 0.00844\n",
      "\tWord: edgar, TF-IDF: 0.00842\n",
      "\tWord: briberi, TF-IDF: 0.00842\n",
      "\tWord: director, TF-IDF: 0.00838\n",
      "\tWord: spout, TF-IDF: 0.00833\n",
      "\tWord: flail, TF-IDF: 0.00833\n",
      "\tWord: associ, TF-IDF: 0.00831\n",
      "\tWord: agent, TF-IDF: 0.0082\n",
      "\tWord: campaign, TF-IDF: 0.00815\n",
      "\tWord: wiretap, TF-IDF: 0.00803\n",
      "\tWord: tenth, TF-IDF: 0.00791\n",
      "\tWord: firework, TF-IDF: 0.00791\n",
      "\tWord: decid, TF-IDF: 0.00788\n",
      "\tWord: knew, TF-IDF: 0.00788\n",
      "\tWord: letter, TF-IDF: 0.00782\n",
      "\tWord: around, TF-IDF: 0.00778\n",
      "\tWord: media, TF-IDF: 0.00773\n",
      "\tWord: lunat, TF-IDF: 0.00768\n",
      "\tWord: focus, TF-IDF: 0.00767\n",
      "\tWord: sigh, TF-IDF: 0.00744\n",
      "\tWord: paranoid, TF-IDF: 0.0074\n",
      "\tWord: misguid, TF-IDF: 0.0074\n",
      "\tWord: glanc, TF-IDF: 0.00727\n",
      "\tWord: wikipedia, TF-IDF: 0.00727\n",
      "\tWord: lambast, TF-IDF: 0.00724\n",
      "\tWord: payrol, TF-IDF: 0.00724\n",
      "\tWord: irrit, TF-IDF: 0.00716\n",
      "\tWord: leadership, TF-IDF: 0.00704\n",
      "\tWord: smell, TF-IDF: 0.00702\n",
      "\tWord: pick, TF-IDF: 0.007\n",
      "\tWord: elect, TF-IDF: 0.00696\n",
      "\tWord: illeg, TF-IDF: 0.00695\n",
      "\tWord: fight, TF-IDF: 0.00691\n",
      "\tWord: foundat, TF-IDF: 0.00688\n",
      "\tWord: loyalist, TF-IDF: 0.00687\n",
      "\tWord: wreck, TF-IDF: 0.00684\n",
      "\tWord: batch, TF-IDF: 0.00681\n",
      "\tWord: strategi, TF-IDF: 0.00664\n",
      "\tWord: mob, TF-IDF: 0.0066\n",
      "\tWord: savag, TF-IDF: 0.00655\n",
      "\tWord: shrug, TF-IDF: 0.00649\n",
      "\tWord: lie, TF-IDF: 0.00645\n",
      "\tWord: cover, TF-IDF: 0.0064\n",
      "\tWord: left-w, TF-IDF: 0.00638\n",
      "\tWord: lash, TF-IDF: 0.00638\n",
      "\tWord: alli, TF-IDF: 0.00637\n",
      "\tWord: bathroom, TF-IDF: 0.00632\n",
      "\tWord: arrog, TF-IDF: 0.00632\n",
      "\tWord: wrong, TF-IDF: 0.0063\n",
      "\tWord: covert, TF-IDF: 0.00628\n",
      "\tWord: claim, TF-IDF: 0.00626\n",
      "\tWord: trash, TF-IDF: 0.00626\n",
      "\tWord: denial, TF-IDF: 0.00611\n",
      "\tWord: insan, TF-IDF: 0.00608\n",
      "\tWord: fire, TF-IDF: 0.00605\n",
      "\tWord: whose, TF-IDF: 0.00603\n",
      "\tWord: everyon, TF-IDF: 0.00595\n",
      "\tWord: daniel, TF-IDF: 0.00592\n",
      "\tWord: nonsens, TF-IDF: 0.00592\n",
      "\tWord: underway, TF-IDF: 0.00592\n",
      "\tWord: unfavor, TF-IDF: 0.00591\n",
      "\tWord: rodham, TF-IDF: 0.00589\n",
      "\tWord: cnn, TF-IDF: 0.00585\n",
      "\tWord: bed, TF-IDF: 0.00582\n",
      "\tWord: trap, TF-IDF: 0.00577\n",
      "\tWord: buri, TF-IDF: 0.00574\n",
      "\tWord: reid, TF-IDF: 0.00573\n",
      "\tWord: spectrum, TF-IDF: 0.00573\n",
      "\tWord: weather, TF-IDF: 0.00573\n",
      "\tWord: intimid, TF-IDF: 0.00573\n",
      "\tWord: bad, TF-IDF: 0.00569\n",
      "\tWord: circul, TF-IDF: 0.00561\n",
      "\tWord: cabl, TF-IDF: 0.00561\n",
      "\tWord: substanc, TF-IDF: 0.00557\n",
      "\tWord: ugli, TF-IDF: 0.00554\n",
      "\tWord: thrown, TF-IDF: 0.00553\n",
      "\tWord: navig, TF-IDF: 0.00551\n",
      "\tWord: boston, TF-IDF: 0.00545\n",
      "\tWord: strang, TF-IDF: 0.00541\n",
      "\tWord: mess, TF-IDF: 0.00541\n",
      "\tWord: abedin, TF-IDF: 0.00539\n",
      "\tWord: ought, TF-IDF: 0.00538\n",
      "\tWord: huma, TF-IDF: 0.00538\n",
      "\tWord: go, TF-IDF: 0.00534\n",
      "\tWord: globe, TF-IDF: 0.00533\n",
      "\tWord: weiner, TF-IDF: 0.00531\n",
      "\tWord: lynch, TF-IDF: 0.00529\n",
      "\tWord: editori, TF-IDF: 0.00529\n",
      "\tWord: breath, TF-IDF: 0.00524\n",
      "\tWord: msnbc, TF-IDF: 0.00521\n",
      "\tWord: pure, TF-IDF: 0.00521\n",
      "\tWord: patient, TF-IDF: 0.0052\n",
      "\tWord: react, TF-IDF: 0.0052\n",
      "\tWord: nomine, TF-IDF: 0.00519\n",
      "\tWord: pretend, TF-IDF: 0.00519\n",
      "\tWord: aliv, TF-IDF: 0.00518\n",
      "\tWord: mysteri, TF-IDF: 0.00518\n",
      "\tWord: ride, TF-IDF: 0.00512\n",
      "\tWord: relief, TF-IDF: 0.00507\n",
      "\tWord: noth, TF-IDF: 0.00504\n",
      "\tWord: tri, TF-IDF: 0.00503\n",
      "\tWord: anywher, TF-IDF: 0.005\n",
      "\tWord: final, TF-IDF: 0.00498\n",
      "\tWord: harri, TF-IDF: 0.00497\n",
      "\tWord: column, TF-IDF: 0.00496\n",
      "\tWord: relev, TF-IDF: 0.00495\n",
      "\tWord: j., TF-IDF: 0.00487\n",
      "\tWord: smart, TF-IDF: 0.00487\n",
      "\tWord: ever, TF-IDF: 0.00486\n",
      "\tWord: bureau, TF-IDF: 0.00484\n",
      "\tWord: vladimir, TF-IDF: 0.00482\n",
      "\tWord: justifi, TF-IDF: 0.00482\n",
      "\tWord: nice, TF-IDF: 0.00479\n",
      "\tWord: time, TF-IDF: 0.00479\n",
      "\tWord: display, TF-IDF: 0.00478\n",
      "\tWord: anthoni, TF-IDF: 0.00477\n",
      "\tWord: obama, TF-IDF: 0.00473\n",
      "\tWord: tell, TF-IDF: 0.00473\n",
      "\tWord: york, TF-IDF: 0.00472\n",
      "\tWord: hell, TF-IDF: 0.00471\n",
      "\tWord: wing, TF-IDF: 0.00469\n",
      "\tWord: hospit, TF-IDF: 0.00467\n",
      "\tWord: explos, TF-IDF: 0.00467\n",
      "\tWord: comput, TF-IDF: 0.00464\n",
      "\tWord: coordin, TF-IDF: 0.00463\n",
      "\tWord: hack, TF-IDF: 0.00463\n",
      "\tWord: numer, TF-IDF: 0.00463\n",
      "\tWord: classifi, TF-IDF: 0.00462\n",
      "\tWord: resign, TF-IDF: 0.0046\n",
      "\tWord: tabl, TF-IDF: 0.00454\n",
      "\tWord: revel, TF-IDF: 0.00454\n",
      "\tWord: writer, TF-IDF: 0.00453\n",
      "\tWord: headlin, TF-IDF: 0.0045\n",
      "\tWord: store, TF-IDF: 0.00447\n",
      "\tWord: rank, TF-IDF: 0.00445\n",
      "\tWord: wound, TF-IDF: 0.00444\n",
      "\tWord: recal, TF-IDF: 0.00442\n",
      "\tWord: reason, TF-IDF: 0.0044\n",
      "\tWord: promin, TF-IDF: 0.0044\n",
      "\tWord: democrat, TF-IDF: 0.00439\n",
      "\tWord: mile, TF-IDF: 0.00438\n",
      "\tWord: near, TF-IDF: 0.00437\n",
      "\tWord: abus, TF-IDF: 0.00437\n",
      "\tWord: rig, TF-IDF: 0.00431\n",
      "\tWord: space, TF-IDF: 0.00431\n",
      "\tWord: ryan, TF-IDF: 0.0043\n",
      "\tWord: enjoy, TF-IDF: 0.00429\n",
      "\tWord: born, TF-IDF: 0.00429\n",
      "\tWord: alreadi, TF-IDF: 0.00428\n",
      "\tWord: truli, TF-IDF: 0.00427\n",
      "\tWord: putin, TF-IDF: 0.00425\n",
      "\tWord: fundament, TF-IDF: 0.00425\n",
      "\tWord: peopl, TF-IDF: 0.00424\n",
      "\tWord: hurt, TF-IDF: 0.00422\n",
      "\tWord: career, TF-IDF: 0.00422\n",
      "\tWord: might, TF-IDF: 0.0042\n",
      "\tWord: surviv, TF-IDF: 0.00419\n",
      "\tWord: cycl, TF-IDF: 0.00419\n",
      "\tWord: belief, TF-IDF: 0.00419\n",
      "\tWord: sexual, TF-IDF: 0.00419\n",
      "\tWord: without, TF-IDF: 0.00418\n",
      "\tWord: meant, TF-IDF: 0.00417\n",
      "\tWord: wake, TF-IDF: 0.00416\n",
      "\tWord: pose, TF-IDF: 0.00416\n",
      "\tWord: assum, TF-IDF: 0.00415\n",
      "\tWord: scene, TF-IDF: 0.00415\n",
      "\tWord: amend, TF-IDF: 0.00414\n",
      "\tWord: 60, TF-IDF: 0.00413\n",
      "\tWord: fill, TF-IDF: 0.00412\n",
      "\tWord: retir, TF-IDF: 0.00407\n",
      "\tWord: radic, TF-IDF: 0.00404\n",
      "\tWord: shown, TF-IDF: 0.00403\n",
      "\tWord: remind, TF-IDF: 0.00403\n",
      "\tWord: replac, TF-IDF: 0.00403\n",
      "\tWord: option, TF-IDF: 0.00401\n",
      "\tWord: polit, TF-IDF: 0.00398\n",
      "\tWord: vast, TF-IDF: 0.00397\n",
      "\tWord: appear, TF-IDF: 0.00397\n",
      "\tWord: outcom, TF-IDF: 0.00391\n",
      "\tWord: way, TF-IDF: 0.00391\n",
      "\tWord: expos, TF-IDF: 0.0039\n",
      "\tWord: piec, TF-IDF: 0.00385\n",
      "\tWord: fellow, TF-IDF: 0.00384\n",
      "\tWord: server, TF-IDF: 0.00383\n",
      "\tWord: confid, TF-IDF: 0.00382\n",
      "\tWord: journal, TF-IDF: 0.00379\n",
      "\tWord: correct, TF-IDF: 0.00378\n",
      "\tWord: energi, TF-IDF: 0.00376\n",
      "\tWord: usual, TF-IDF: 0.00371\n",
      "\tWord: question, TF-IDF: 0.00368\n",
      "\tWord: throughout, TF-IDF: 0.00364\n",
      "\tWord: corrupt, TF-IDF: 0.00363\n",
      "\tWord: admit, TF-IDF: 0.0036\n",
      "\tWord: insist, TF-IDF: 0.00359\n",
      "\tWord: damag, TF-IDF: 0.00358\n",
      "\tWord: struggl, TF-IDF: 0.00357\n",
      "\tWord: age, TF-IDF: 0.00357\n",
      "\tWord: oppon, TF-IDF: 0.00354\n",
      "\tWord: fair, TF-IDF: 0.00351\n",
      "\tWord: review, TF-IDF: 0.00349\n",
      "\tWord: compar, TF-IDF: 0.00348\n",
      "\tWord: believ, TF-IDF: 0.00348\n",
      "\tWord: valu, TF-IDF: 0.00348\n",
      "\tWord: tie, TF-IDF: 0.00347\n",
      "\tWord: freedom, TF-IDF: 0.00344\n",
      "\tWord: crime, TF-IDF: 0.0034\n",
      "\tWord: destroy, TF-IDF: 0.00339\n",
      "\tWord: islam, TF-IDF: 0.00337\n",
      "\tWord: origin, TF-IDF: 0.00334\n",
      "\tWord: deni, TF-IDF: 0.00334\n",
      "\tWord: ahead, TF-IDF: 0.00334\n",
      "\tWord: front, TF-IDF: 0.00333\n",
      "\tWord: still, TF-IDF: 0.00332\n",
      "\tWord: alleg, TF-IDF: 0.00332\n",
      "\tWord: risk, TF-IDF: 0.00331\n",
      "\tWord: practic, TF-IDF: 0.00331\n",
      "\tWord: public, TF-IDF: 0.0033\n",
      "\tWord: crimin, TF-IDF: 0.0033\n",
      "\tWord: longer, TF-IDF: 0.0033\n",
      "\tWord: surpris, TF-IDF: 0.00325\n",
      "\tWord: approach, TF-IDF: 0.00325\n",
      "\tWord: gave, TF-IDF: 0.00324\n",
      "\tWord: hous, TF-IDF: 0.00323\n",
      "\tWord: exact, TF-IDF: 0.00323\n",
      "\tWord: sent, TF-IDF: 0.00322\n",
      "\tWord: latest, TF-IDF: 0.00321\n",
      "\tWord: els, TF-IDF: 0.0032\n",
      "\tWord: agenc, TF-IDF: 0.0032\n",
      "\tWord: senior, TF-IDF: 0.00319\n",
      "\tWord: ”, TF-IDF: 0.00319\n",
      "\tWord: hit, TF-IDF: 0.00319\n",
      "\tWord: stay, TF-IDF: 0.00318\n",
      "\tWord: exist, TF-IDF: 0.00318\n",
      "\tWord: declar, TF-IDF: 0.00316\n",
      "\tWord: “, TF-IDF: 0.00316\n",
      "\tWord: respect, TF-IDF: 0.00316\n",
      "\tWord: presidenti, TF-IDF: 0.00316\n",
      "\tWord: quick, TF-IDF: 0.00315\n",
      "\tWord: rate, TF-IDF: 0.00315\n",
      "\tWord: whole, TF-IDF: 0.00313\n",
      "\tWord: paul, TF-IDF: 0.00312\n",
      "\tWord: form, TF-IDF: 0.00311\n",
      "\tWord: reveal, TF-IDF: 0.00311\n",
      "\tWord: publish, TF-IDF: 0.00307\n",
      "\tWord: promis, TF-IDF: 0.00303\n",
      "\tWord: led, TF-IDF: 0.00303\n",
      "\tWord: much, TF-IDF: 0.003\n",
      "\tWord: short, TF-IDF: 0.00298\n",
      "\tWord: target, TF-IDF: 0.00297\n",
      "\tWord: articl, TF-IDF: 0.00295\n",
      "\tWord: respond, TF-IDF: 0.00295\n",
      "\tWord: charg, TF-IDF: 0.00293\n",
      "\tWord: know, TF-IDF: 0.00291\n",
      "\tWord: develop, TF-IDF: 0.0029\n",
      "\tWord: step, TF-IDF: 0.00289\n",
      "\tWord: role, TF-IDF: 0.00289\n",
      "\tWord: threat, TF-IDF: 0.00288\n",
      "\tWord: trump, TF-IDF: 0.00284\n",
      "\tWord: pass, TF-IDF: 0.00281\n",
      "\tWord: hour, TF-IDF: 0.00281\n",
      "\tWord: futur, TF-IDF: 0.00279\n",
      "\tWord: republican, TF-IDF: 0.00279\n",
      "\tWord: often, TF-IDF: 0.00277\n",
      "\tWord: right, TF-IDF: 0.00275\n",
      "\tWord: us, TF-IDF: 0.00275\n",
      "\tWord: within, TF-IDF: 0.00275\n",
      "\tWord: entir, TF-IDF: 0.00273\n",
      "\tWord: either, TF-IDF: 0.00272\n",
      "\tWord: women, TF-IDF: 0.00271\n",
      "\tWord: thought, TF-IDF: 0.0027\n",
      "\tWord: new, TF-IDF: 0.00268\n",
      "\tWord: want, TF-IDF: 0.00268\n",
      "\tWord: watch, TF-IDF: 0.00268\n",
      "\tWord: center, TF-IDF: 0.00268\n",
      "\tWord: one, TF-IDF: 0.00265\n",
      "\tWord: bring, TF-IDF: 0.00265\n",
      "\tWord: establish, TF-IDF: 0.00264\n",
      "\tWord: protect, TF-IDF: 0.00263\n",
      "\tWord: kind, TF-IDF: 0.0026\n",
      "\tWord: done, TF-IDF: 0.0026\n",
      "\tWord: oper, TF-IDF: 0.00257\n",
      "\tWord: instead, TF-IDF: 0.00256\n",
      "\tWord: hard, TF-IDF: 0.00255\n",
      "\tWord: head, TF-IDF: 0.00254\n",
      "\tWord: idea, TF-IDF: 0.00253\n",
      "\tWord: word, TF-IDF: 0.00252\n",
      "\tWord: stori, TF-IDF: 0.0025\n",
      "\tWord: debat, TF-IDF: 0.00248\n",
      "\tWord: job, TF-IDF: 0.00247\n",
      "\tWord: given, TF-IDF: 0.00246\n",
      "\tWord: current, TF-IDF: 0.00244\n",
      "\tWord: play, TF-IDF: 0.00244\n",
      "\tWord: statement, TF-IDF: 0.00242\n",
      "\tWord: stand, TF-IDF: 0.00242\n",
      "\tWord: ago, TF-IDF: 0.00241\n",
      "\tWord: feder, TF-IDF: 0.00241\n",
      "\tWord: control, TF-IDF: 0.0024\n",
      "\tWord: enough, TF-IDF: 0.00237\n",
      "\tWord: inform, TF-IDF: 0.00236\n",
      "\tWord: lot, TF-IDF: 0.00232\n",
      "\tWord: away, TF-IDF: 0.00232\n",
      "\tWord: better, TF-IDF: 0.00226\n",
      "\tWord: result, TF-IDF: 0.00225\n",
      "\tWord: interest, TF-IDF: 0.00224\n",
      "\tWord: allow, TF-IDF: 0.00223\n",
      "\tWord: posit, TF-IDF: 0.00222\n",
      "\tWord: senat, TF-IDF: 0.00219\n",
      "\tWord: could, TF-IDF: 0.00218\n",
      "\tWord: find, TF-IDF: 0.00215\n",
      "\tWord: close, TF-IDF: 0.00211\n",
      "\tWord: keep, TF-IDF: 0.0021\n",
      "\tWord: secur, TF-IDF: 0.00209\n",
      "\tWord: possibl, TF-IDF: 0.00207\n",
      "\tWord: ad, TF-IDF: 0.00203\n",
      "\tWord: whether, TF-IDF: 0.00203\n",
      "\tWord: start, TF-IDF: 0.002\n",
      "\tWord: long, TF-IDF: 0.002\n",
      "\tWord: lead, TF-IDF: 0.00199\n",
      "\tWord: never, TF-IDF: 0.00199\n",
      "\tWord: talk, TF-IDF: 0.00198\n",
      "\tWord: place, TF-IDF: 0.00197\n",
      "\tWord: plan, TF-IDF: 0.00194\n",
      "\tWord: good, TF-IDF: 0.00194\n",
      "\tWord: power, TF-IDF: 0.00193\n",
      "\tWord: live, TF-IDF: 0.00192\n",
      "\tWord: year, TF-IDF: 0.00186\n",
      "\tWord: run, TF-IDF: 0.00185\n",
      "\tWord: major, TF-IDF: 0.00179\n",
      "\tWord: continu, TF-IDF: 0.00177\n",
      "\tWord: chang, TF-IDF: 0.00177\n",
      "\tWord: follow, TF-IDF: 0.00174\n",
      "\tWord: unit, TF-IDF: 0.00173\n",
      "\tWord: thing, TF-IDF: 0.00169\n",
      "\tWord: parti, TF-IDF: 0.00169\n",
      "\tWord: like, TF-IDF: 0.00164\n",
      "\tWord: candid, TF-IDF: 0.00163\n",
      "\tWord: also, TF-IDF: 0.00163\n",
      "\tWord: look, TF-IDF: 0.00157\n",
      "\tWord: news, TF-IDF: 0.00155\n",
      "\tWord: well, TF-IDF: 0.00154\n",
      "\tWord: may, TF-IDF: 0.00146\n",
      "\tWord: countri, TF-IDF: 0.00143\n",
      "\tWord: back, TF-IDF: 0.00136\n",
      "\tWord: last, TF-IDF: 0.0013\n",
      "\tWord: american, TF-IDF: 0.00127\n",
      "\tWord: come, TF-IDF: 0.00126\n",
      "\tWord: call, TF-IDF: 0.00124\n",
      "\tWord: two, TF-IDF: 0.00122\n",
      "\tWord: take, TF-IDF: 0.00117\n",
      "\tWord: even, TF-IDF: 0.00103\n",
      "\tWord: would, TF-IDF: 0.00074\n"
     ]
    }
   ],
   "source": [
    "import math\n",
    "\n",
    "tf_idf = []\n",
    "\n",
    "for i, count in enumerate(countlist[0:10]):\n",
    "    scores = {word: tfidf(word, count, countlist) for word in count}\n",
    "    tf_idf.append(scores)\n",
    "    \n",
    "print(\"Top words in document 1\")\n",
    "sorted_words = sorted(tf_idf[0].items(), key=lambda x: x[1], reverse=True)\n",
    "for word, score in sorted_words[:]:\n",
    "    print(\"\\tWord: {}, TF-IDF: {}\".format(word, round(score, 5)))"
   ]
  },
  {
   "cell_type": "code",
   "execution_count": null,
   "metadata": {
    "collapsed": true
   },
   "outputs": [],
   "source": []
  },
  {
   "cell_type": "code",
   "execution_count": null,
   "metadata": {
    "collapsed": true
   },
   "outputs": [],
   "source": []
  },
  {
   "cell_type": "code",
   "execution_count": null,
   "metadata": {
    "collapsed": true
   },
   "outputs": [],
   "source": []
  },
  {
   "cell_type": "code",
   "execution_count": 22,
   "metadata": {},
   "outputs": [
    {
     "name": "stderr",
     "output_type": "stream",
     "text": [
      "D:\\Anaconda3\\lib\\site-packages\\sklearn\\feature_extraction\\text.py:1089: FutureWarning: Conversion of the second argument of issubdtype from `float` to `np.floating` is deprecated. In future, it will be treated as `np.float64 == np.dtype(float).type`.\n",
      "  if hasattr(X, 'dtype') and np.issubdtype(X.dtype, np.float):\n"
     ]
    },
    {
     "name": "stdout",
     "output_type": "stream",
     "text": [
      "476855\n"
     ]
    }
   ],
   "source": [
    "\"\"\"\n",
    "我想做的是把句子里所有的单词用word2vec模型训练得到词向量，然后把这些向量乘以我们之前得到的tfidf值，\n",
    "再把它们加起来除以单词数，就可以得到句子向量。也就是结合tfidf给单词加上一个权重，评判一个单词的重要程度。\n",
    "\"\"\"\n",
    "\n",
    "from sklearn.feature_extraction.text import TfidfVectorizer\n",
    "\n",
    "tfidf_vec= TfidfVectorizer(ngram_range=(1, 3), max_df=0.8, min_df=2,stop_words='english')\n",
    "tfidf_vec.fit_transform(texts)\n",
    "vocabulary = tfidf_vec.get_feature_names()\n",
    "print(len(vocabulary))"
   ]
  },
  {
   "cell_type": "markdown",
   "metadata": {},
   "source": [
    "# Word2Vec Feature Generater"
   ]
  },
  {
   "cell_type": "code",
   "execution_count": 38,
   "metadata": {
    "collapsed": true
   },
   "outputs": [],
   "source": [
    "import gensim\n",
    "\n",
    "model = gensim.models.KeyedVectors.load_word2vec_format('GoogleNews-vectors-negative300.bin', binary=True)"
   ]
  },
  {
   "cell_type": "code",
   "execution_count": 10,
   "metadata": {},
   "outputs": [
    {
     "name": "stderr",
     "output_type": "stream",
     "text": [
      "D:\\Anaconda3\\lib\\site-packages\\gensim\\utils.py:1209: UserWarning: detected Windows; aliasing chunkize to chunkize_serial\n",
      "  warnings.warn(\"detected Windows; aliasing chunkize to chunkize_serial\")\n"
     ]
    }
   ],
   "source": [
    "from gensim import models\n",
    "\n",
    "# Training word2vec model on already cleaned text. This may take a few minutes.\n",
    "word2vec = models.Word2Vec(text_cleaned,\n",
    "                        size = 300,\n",
    "                        window = 5,\n",
    "                        min_count = 1,                      # set \"min_count\" = 1 to make sure every word corresponds to a vector, in case something go wrong in the Naive Doc2Vec process\n",
    "                        sg = 0,\n",
    "                        alpha = 0.025,                      # if I set alpha = 0.01, performance will be much worse\n",
    "                        iter=10,\n",
    "                        batch_words = 10000)\n",
    "\n"
   ]
  },
  {
   "cell_type": "code",
   "execution_count": null,
   "metadata": {
    "collapsed": true
   },
   "outputs": [],
   "source": [
    "import numpy as np\n",
    "# loads 300x1 word vectors from file.\n",
    "def load_bin_vec(fname, vocab):\n",
    "    word_vecs = {}\n",
    "    with open(fname, \"rb\") as f:\n",
    "        header = f.readline()\n",
    "        vocab_size, layer1_size = map(int, header.split()) # 3000000 300\n",
    "        binary_len = np.dtype('float32').itemsize * layer1_size # 1200\n",
    "        for line in range(vocab_size):\n",
    "            word = []\n",
    "            while True:\n",
    "                ch = f.read(1)\n",
    "                if ch == ' ':\n",
    "                    word = ''.join(word)\n",
    "                    break\n",
    "                if ch != '\\n':\n",
    "                    word.append(ch)\n",
    "            if word in vocab:\n",
    "                word_vecs[word] = np.fromstring(f.read(binary_len), dtype='float32')\n",
    "            else:\n",
    "                f.read(binary_len)\n",
    "    return word_vecs\n",
    "\n",
    "# add random vectors of unknown words which are not in pre-trained vector file.\n",
    "# if pre-trained vectors are not used, then initialize all words in vocab with random value.\n",
    "def add_unknown_words(word_vecs, vocab, min_df=1, k=300):\n",
    "    for word in vocab:\n",
    "        if word not in word_vecs and vocab[word] >= min_df:\n",
    "            word_vecs[word] = np.random.uniform(-0.25, 0.25, k)\n",
    "\n",
    "text_cleaned_corpus = []\n",
    "for i in range(len(text_cleaned)):\n",
    "    text_cleaned_corpus.extend(text_cleaned[i])\n",
    "    \n",
    "vectors_file =  './GoogleNews-vectors-negative300.bin'\n",
    "vocab= text_cleaned_corpus\n",
    "\n",
    "word2vec = load_bin_vec(vectors_file, vocab)  # pre-trained vectors\n",
    "add_unknown_words(word2vec, vocab)\n"
   ]
  },
  {
   "cell_type": "markdown",
   "metadata": {},
   "source": [
    "# Sentiment Feature Generator"
   ]
  },
  {
   "cell_type": "code",
   "execution_count": null,
   "metadata": {
    "collapsed": true
   },
   "outputs": [],
   "source": [
    "from nltk.sentiment.vader import SentimentIntensityAnalyzer\n",
    "import numpy as np\n",
    "\n",
    "sid = SentimentIntensityAnalyzer()\n",
    "def compute_sentiment(sentences):\n",
    "    result = []\n",
    "    for sentence in sentences:\n",
    "        vs = sid.polarity_scores(sentence)\n",
    "        score = vs[]\n",
    "        result.append(vs)\n",
    "    \n",
    "    result_np = np.array(result).mean(axis=0)\n",
    "    result = result_np.tolist()\n",
    "    return result\n",
    "\n",
    "df = pd.concat([df, df['headline_sents'].apply(lambda x: compute_sentiment(x))], axis=1)\n",
    "\n",
    "\n",
    "\n"
   ]
  },
  {
   "cell_type": "markdown",
   "metadata": {
    "collapsed": true
   },
   "source": [
    "# Doc2Vec Feature Generater"
   ]
  },
  {
   "cell_type": "code",
   "execution_count": 10,
   "metadata": {},
   "outputs": [
    {
     "name": "stderr",
     "output_type": "stream",
     "text": [
      "D:\\Anaconda3\\lib\\site-packages\\gensim\\utils.py:1209: UserWarning: detected Windows; aliasing chunkize to chunkize_serial\n",
      "  warnings.warn(\"detected Windows; aliasing chunkize to chunkize_serial\")\n"
     ]
    },
    {
     "name": "stdout",
     "output_type": "stream",
     "text": [
      "tokenized_docs:\n",
      " ['daniel', 'greenfield', 'shillman', 'journal', 'fellow', 'freedom', 'center', 'new', 'york', 'writer', 'focus', 'radic', 'islam', 'final', 'stretch', 'elect', 'hillari', 'rodham', 'clinton', 'gone', 'war', 'fbi', 'word', '“', 'unpreced', '”', 'thrown', 'around', 'often', 'elect', 'ought', 'retir', '’', 'still', 'unpreced', 'nomine', 'major', 'polit', 'parti', 'go', 'war', 'fbi', '’', 'exact', 'hillari', 'peopl', 'done', 'coma', 'patient', 'wake', 'watch', 'hour', 'cnn', 'hospit', 'bed', 'would', 'assum', 'fbi', 'director', 'jame', 'comey', 'hillari', '’', 'oppon', 'elect', 'fbi', 'attack', 'everyon', 'obama', 'cnn', 'hillari', '’', 'peopl', 'circul', 'letter', 'attack', 'comey', 'current', 'medium', 'hit', 'piec', 'lambast', 'target', 'trump', '’', 'surpris', 'clinton', 'alli', 'start', 'run', 'attack', 'ad', 'fbi', 'fbi', '’', 'leadership', 'warn', 'entir', 'left-w', 'establish', 'form', 'lynch', 'mob', 'continu', 'go', 'hillari', 'fbi', '’', 'credibl', 'attack', 'medium', 'democrat', 'preemptiv', 'head', 'result', 'investig', 'clinton', 'foundat', 'hillari', 'clinton', 'covert', 'struggl', 'fbi', 'agent', 'obama', '’', 'doj', 'peopl', 'gone', 'explos', 'public', 'new', 'york', 'time', 'compar', 'comey', 'j.', 'edgar', 'hoover', 'bizarr', 'headlin', '“', 'jame', 'comey', 'role', 'recal', 'hoover', '’', 'fbi', 'fair', '”', 'practic', 'admit', 'front', '’', 'spout', 'nonsens', 'boston', 'globe', 'publish', 'column', 'call', 'comey', '’', 'resign', 'outdon', 'time', 'editori', 'claim', 'scandal', 'realli', 'attack', 'woman', 'jame', 'carvill', 'appear', 'msnbc', 'remind', 'everyon', 'still', 'aliv', 'insan', 'accus', 'comey', 'coordin', 'hous', 'republican', 'kgb', 'thought', '“', 'vast', 'right', 'wing', 'conspiraci', '”', 'stretch', 'countless', 'medium', 'stori', 'charg', 'comey', 'violat', 'procedur', 'know', '’', 'procedur', 'violat', 'email', 'classifi', 'inform', 'store', 'bathroom', 'server', 'senat', 'harri', 'reid', 'sent', 'comey', 'letter', 'accus', 'violat', 'hatch', 'act', 'hatch', 'act', 'nice', 'idea', 'much', 'relev', 'age', 'obama', 'tenth', 'amend', 'cabl', 'news', 'spectrum', 'quick', 'fill', 'medium', 'hack', 'glanc', 'wikipedia', 'articl', 'hatch', 'act', 'tabl', 'accus', 'fbi', 'director', 'one', 'awkward', 'conspiraci', 'hillari', 'ever', 'jame', 'comey', 'realli', 'hurt', 'hillari', 'pick', 'one', 'hell', 'strang', 'way', 'long', 'ago', 'democrat', 'breath', 'sigh', 'relief', 'gave', 'hillari', 'clinton', 'pas', 'promin', 'public', 'statement', 'realli', 'elect', 'trump', 'keep', 'email', 'scandal', 'go', 'trash', 'investig', 'payrol', 'hous', 'republican', 'kgb', 'back', 'play', 'coy', 'sudden', 'develop', 'vladimir', 'putin', 'paul', 'ryan', 'talk', 'take', 'look', 'anthoni', 'weiner', '’', 'comput', 'either', 'comey', 'cun', 'fbi', 'director', 'ever', 'live', '’', 'awkward', 'tri', 'navig', 'polit', 'mess', 'trap', 'doj', 'leadership', 'whose', 'polit', 'futur', 'tie', 'hillari', '’', 'victori', 'bureau', 'whose', 'apolit', 'agent', 'want', 'allow', 'job', 'truli', 'mysteri', 'thing', 'hillari', 'associ', 'decid', 'go', 'war', 'respect', 'feder', 'agenc', 'american', 'like', 'fbi', 'hillari', 'clinton', 'enjoy', '60', 'unfavor', 'rate', '’', 'interest', 'question', 'hillari', '’', 'old', 'strategi', 'lie', 'deni', 'fbi', 'even', 'crimin', 'investig', 'underway', 'instead', 'associ', 'insist', 'secur', 'review', 'fbi', 'correct', 'shrug', 'old', 'breezi', 'denial', 'approach', 'given', 'way', 'savag', 'assault', 'fbi', 'pretend', 'noth', 'wrong', 'bad', 'strategi', 'better', 'one', 'pick', 'fight', 'fbi', 'lunat', 'clinton', 'associ', 'tri', 'claim', 'fbi', 'realli', 'kgb', 'two', 'possibl', 'explan', 'hillari', 'clinton', 'might', 'arrog', 'enough', 'lash', 'fbi', 'belief', 'victori', 'near', 'kind', 'hubri', 'led', 'plan', 'victori', 'firework', 'display', 'could', 'lead', 'declar', 'war', 'fbi', 'irrit', 'final', 'mile', 'campaign', 'explan', 'peopl', 'panick', 'go', 'war', 'fbi', 'behavior', 'smart', 'focus', 'presidenti', 'campaign', '’', 'act', 'desper', 'presidenti', 'candid', 'decid', 'option', 'tri', 'destroy', 'credibl', 'fbi', '’', 'hubri', '’', 'fear', 'fbi', 'might', 'reveal', 'origin', 'fbi', 'investig', 'hillari', 'clinton', 'confid', 'could', 'ride', 'good', 'reason', 'believ', 'hillari', 'clinton', 'gone', 'place', 'paranoid', 'wreck', 'within', 'short', 'space', 'time', '“', 'posit', '”', 'clinton', 'campaign', 'promis', 'unit', 'countri', 'replac', 'desper', 'flail', 'oper', 'focus', 'energi', 'fight', 'fbi', '’', 'one', 'reason', 'bizarr', 'behavior', 'clinton', 'campaign', 'decid', 'fbi', 'investig', 'latest', 'batch', 'email', 'pose', 'threat', 'surviv', '’', 'gone', 'fight', 'fbi', '’', 'unpreced', 'step', 'born', 'fear', '’', 'hard', 'know', 'whether', 'fear', 'justifi', 'exist', 'fear', 'alreadi', 'tell', 'u', 'whole', 'lot', 'clinton', 'loyalist', 'rig', 'old', 'investig', 'knew', 'outcom', 'ahead', 'time', 'well', 'knew', 'debat', 'question', 'sudden', 'longer', 'control', 'afraid', 'smell', 'fear', 'fbi', 'wiretap', 'investig', 'clinton', 'foundat', '’', 'find', 'new', 'email', 'time', 'clintonworld', 'panick', 'spinmeist', 'clintonworld', 'claim', 'email', 'scandal', 'much', 'smoke', 'without', 'fire', '’', 'appear', 'improprieti', 'without', 'substanc', '’', 'react', 'smoke', '’', 'respond', 'fire', 'misguid', 'assault', 'fbi', 'tell', 'u', 'hillari', 'clinton', 'alli', 'afraid', 'revel', 'bigger', 'fundament', 'illeg', 'email', 'setup', 'email', 'setup', 'preemptiv', 'cover', 'clinton', 'campaign', 'panick', 'bad', 'belief', 'right', 'wrong', 'whatev', 'crime', 'illeg', 'setup', 'meant', 'cover', 'risk', 'expos', 'clinton', 'weather', 'countless', 'scandal', 'year', 'whatev', 'protect', 'time', 'around', 'bigger', 'usual', 'corrupt', 'briberi', 'sexual', 'assault', 'abus', 'power', 'follow', 'around', 'throughout', 'year', 'bigger', 'damag', 'alleg', 'alreadi', 'come', '’', 'want', 'fbi', 'investig', 'anywher', 'near', 'campaign', 'comey', 'pure', 'intimid', '’', 'also', 'warn', 'senior', 'fbi', 'peopl', 'valu', 'career', 'warn', 'stay', 'away', 'democrat', 'close', 'rank', 'around', 'nomine', 'fbi', '’', 'ugli', 'unpreced', 'scene', 'may', 'also', 'last', 'stand', 'hillari', 'clinton', 'awkward', 'wound', 'way', 'numer', 'scandal', 'elect', 'cycl', '’', 'never', 'shown', 'fear', 'desper', 'chang', 'whatev', 'afraid', 'lie', 'buri', 'email', 'huma', 'abedin', 'bring', 'like', 'noth', 'els']\n",
      "tagged_docs:\n",
      " TaggedDocument(['daniel', 'greenfield', 'shillman', 'journal', 'fellow', 'freedom', 'center', 'new', 'york', 'writer', 'focus', 'radic', 'islam', 'final', 'stretch', 'elect', 'hillari', 'rodham', 'clinton', 'gone', 'war', 'fbi', 'word', '“', 'unpreced', '”', 'thrown', 'around', 'often', 'elect', 'ought', 'retir', '’', 'still', 'unpreced', 'nomine', 'major', 'polit', 'parti', 'go', 'war', 'fbi', '’', 'exact', 'hillari', 'peopl', 'done', 'coma', 'patient', 'wake', 'watch', 'hour', 'cnn', 'hospit', 'bed', 'would', 'assum', 'fbi', 'director', 'jame', 'comey', 'hillari', '’', 'oppon', 'elect', 'fbi', 'attack', 'everyon', 'obama', 'cnn', 'hillari', '’', 'peopl', 'circul', 'letter', 'attack', 'comey', 'current', 'medium', 'hit', 'piec', 'lambast', 'target', 'trump', '’', 'surpris', 'clinton', 'alli', 'start', 'run', 'attack', 'ad', 'fbi', 'fbi', '’', 'leadership', 'warn', 'entir', 'left-w', 'establish', 'form', 'lynch', 'mob', 'continu', 'go', 'hillari', 'fbi', '’', 'credibl', 'attack', 'medium', 'democrat', 'preemptiv', 'head', 'result', 'investig', 'clinton', 'foundat', 'hillari', 'clinton', 'covert', 'struggl', 'fbi', 'agent', 'obama', '’', 'doj', 'peopl', 'gone', 'explos', 'public', 'new', 'york', 'time', 'compar', 'comey', 'j.', 'edgar', 'hoover', 'bizarr', 'headlin', '“', 'jame', 'comey', 'role', 'recal', 'hoover', '’', 'fbi', 'fair', '”', 'practic', 'admit', 'front', '’', 'spout', 'nonsens', 'boston', 'globe', 'publish', 'column', 'call', 'comey', '’', 'resign', 'outdon', 'time', 'editori', 'claim', 'scandal', 'realli', 'attack', 'woman', 'jame', 'carvill', 'appear', 'msnbc', 'remind', 'everyon', 'still', 'aliv', 'insan', 'accus', 'comey', 'coordin', 'hous', 'republican', 'kgb', 'thought', '“', 'vast', 'right', 'wing', 'conspiraci', '”', 'stretch', 'countless', 'medium', 'stori', 'charg', 'comey', 'violat', 'procedur', 'know', '’', 'procedur', 'violat', 'email', 'classifi', 'inform', 'store', 'bathroom', 'server', 'senat', 'harri', 'reid', 'sent', 'comey', 'letter', 'accus', 'violat', 'hatch', 'act', 'hatch', 'act', 'nice', 'idea', 'much', 'relev', 'age', 'obama', 'tenth', 'amend', 'cabl', 'news', 'spectrum', 'quick', 'fill', 'medium', 'hack', 'glanc', 'wikipedia', 'articl', 'hatch', 'act', 'tabl', 'accus', 'fbi', 'director', 'one', 'awkward', 'conspiraci', 'hillari', 'ever', 'jame', 'comey', 'realli', 'hurt', 'hillari', 'pick', 'one', 'hell', 'strang', 'way', 'long', 'ago', 'democrat', 'breath', 'sigh', 'relief', 'gave', 'hillari', 'clinton', 'pas', 'promin', 'public', 'statement', 'realli', 'elect', 'trump', 'keep', 'email', 'scandal', 'go', 'trash', 'investig', 'payrol', 'hous', 'republican', 'kgb', 'back', 'play', 'coy', 'sudden', 'develop', 'vladimir', 'putin', 'paul', 'ryan', 'talk', 'take', 'look', 'anthoni', 'weiner', '’', 'comput', 'either', 'comey', 'cun', 'fbi', 'director', 'ever', 'live', '’', 'awkward', 'tri', 'navig', 'polit', 'mess', 'trap', 'doj', 'leadership', 'whose', 'polit', 'futur', 'tie', 'hillari', '’', 'victori', 'bureau', 'whose', 'apolit', 'agent', 'want', 'allow', 'job', 'truli', 'mysteri', 'thing', 'hillari', 'associ', 'decid', 'go', 'war', 'respect', 'feder', 'agenc', 'american', 'like', 'fbi', 'hillari', 'clinton', 'enjoy', '60', 'unfavor', 'rate', '’', 'interest', 'question', 'hillari', '’', 'old', 'strategi', 'lie', 'deni', 'fbi', 'even', 'crimin', 'investig', 'underway', 'instead', 'associ', 'insist', 'secur', 'review', 'fbi', 'correct', 'shrug', 'old', 'breezi', 'denial', 'approach', 'given', 'way', 'savag', 'assault', 'fbi', 'pretend', 'noth', 'wrong', 'bad', 'strategi', 'better', 'one', 'pick', 'fight', 'fbi', 'lunat', 'clinton', 'associ', 'tri', 'claim', 'fbi', 'realli', 'kgb', 'two', 'possibl', 'explan', 'hillari', 'clinton', 'might', 'arrog', 'enough', 'lash', 'fbi', 'belief', 'victori', 'near', 'kind', 'hubri', 'led', 'plan', 'victori', 'firework', 'display', 'could', 'lead', 'declar', 'war', 'fbi', 'irrit', 'final', 'mile', 'campaign', 'explan', 'peopl', 'panick', 'go', 'war', 'fbi', 'behavior', 'smart', 'focus', 'presidenti', 'campaign', '’', 'act', 'desper', 'presidenti', 'candid', 'decid', 'option', 'tri', 'destroy', 'credibl', 'fbi', '’', 'hubri', '’', 'fear', 'fbi', 'might', 'reveal', 'origin', 'fbi', 'investig', 'hillari', 'clinton', 'confid', 'could', 'ride', 'good', 'reason', 'believ', 'hillari', 'clinton', 'gone', 'place', 'paranoid', 'wreck', 'within', 'short', 'space', 'time', '“', 'posit', '”', 'clinton', 'campaign', 'promis', 'unit', 'countri', 'replac', 'desper', 'flail', 'oper', 'focus', 'energi', 'fight', 'fbi', '’', 'one', 'reason', 'bizarr', 'behavior', 'clinton', 'campaign', 'decid', 'fbi', 'investig', 'latest', 'batch', 'email', 'pose', 'threat', 'surviv', '’', 'gone', 'fight', 'fbi', '’', 'unpreced', 'step', 'born', 'fear', '’', 'hard', 'know', 'whether', 'fear', 'justifi', 'exist', 'fear', 'alreadi', 'tell', 'u', 'whole', 'lot', 'clinton', 'loyalist', 'rig', 'old', 'investig', 'knew', 'outcom', 'ahead', 'time', 'well', 'knew', 'debat', 'question', 'sudden', 'longer', 'control', 'afraid', 'smell', 'fear', 'fbi', 'wiretap', 'investig', 'clinton', 'foundat', '’', 'find', 'new', 'email', 'time', 'clintonworld', 'panick', 'spinmeist', 'clintonworld', 'claim', 'email', 'scandal', 'much', 'smoke', 'without', 'fire', '’', 'appear', 'improprieti', 'without', 'substanc', '’', 'react', 'smoke', '’', 'respond', 'fire', 'misguid', 'assault', 'fbi', 'tell', 'u', 'hillari', 'clinton', 'alli', 'afraid', 'revel', 'bigger', 'fundament', 'illeg', 'email', 'setup', 'email', 'setup', 'preemptiv', 'cover', 'clinton', 'campaign', 'panick', 'bad', 'belief', 'right', 'wrong', 'whatev', 'crime', 'illeg', 'setup', 'meant', 'cover', 'risk', 'expos', 'clinton', 'weather', 'countless', 'scandal', 'year', 'whatev', 'protect', 'time', 'around', 'bigger', 'usual', 'corrupt', 'briberi', 'sexual', 'assault', 'abus', 'power', 'follow', 'around', 'throughout', 'year', 'bigger', 'damag', 'alleg', 'alreadi', 'come', '’', 'want', 'fbi', 'investig', 'anywher', 'near', 'campaign', 'comey', 'pure', 'intimid', '’', 'also', 'warn', 'senior', 'fbi', 'peopl', 'valu', 'career', 'warn', 'stay', 'away', 'democrat', 'close', 'rank', 'around', 'nomine', 'fbi', '’', 'ugli', 'unpreced', 'scene', 'may', 'also', 'last', 'stand', 'hillari', 'clinton', 'awkward', 'wound', 'way', 'numer', 'scandal', 'elect', 'cycl', '’', 'never', 'shown', 'fear', 'desper', 'chang', 'whatev', 'afraid', 'lie', 'buri', 'email', 'huma', 'abedin', 'bring', 'like', 'noth', 'els'], [0])\n"
     ]
    }
   ],
   "source": [
    "from gensim.models import Doc2Vec\n",
    "from gensim.models.doc2vec import TaggedDocument\n",
    "from nltk.corpus import reuters\n",
    "\n",
    "tokenized_docs = text_cleaned\n",
    "\n",
    "print('tokenized_docs:\\n',tokenized_docs[0])\n",
    "\n",
    "# Convert tokenized documents to TaggedDocuments\n",
    "tagged_docs = [TaggedDocument(doc, tags=[idx]) for idx, doc in enumerate(tokenized_docs)]\n",
    "\n",
    "print('tagged_docs:\\n',tagged_docs[0])\n",
    "\n",
    "# Create and train the doc2vec model and fortify it with pre-trained Word2Vec models\n",
    "pretrained_emb = 'GoogleNews-vectors-negative300.bin' \n",
    "doc2vec = Doc2Vec(vector_size=300, window=5, min_count=5, dm = 1, epochs=10, pretrained_emb=pretrained_emb)\n",
    "\n",
    "# Build the word2vec model from the corpus and  \n",
    "doc2vec.build_vocab(tagged_docs) \n",
    "\n",
    "# Train the models\n",
    "doc2vec.train(tagged_docs, epochs=10, total_examples=doc2vec.corpus_count)"
   ]
  },
  {
   "cell_type": "code",
   "execution_count": 16,
   "metadata": {},
   "outputs": [
    {
     "data": {
      "text/plain": [
       "array([ 0.07077232, -0.31755018,  0.2779891 , -0.03377091, -0.36201048,\n",
       "        0.00343469, -0.20409313,  0.10761351, -0.02697085, -0.3241465 ,\n",
       "        0.5139417 , -0.02823218, -0.38517526, -0.315487  ,  0.01282835,\n",
       "       -0.13524926, -0.04464984,  0.11075468,  0.16916813, -0.00628345,\n",
       "        0.20759624,  0.0963446 ,  0.4673685 , -0.54110324, -0.1448787 ,\n",
       "       -0.15828173,  0.31879193, -0.04130795, -0.31499118,  0.00587979,\n",
       "        0.3361764 ,  0.34574395, -0.02981369,  0.5409379 , -0.3622694 ,\n",
       "        0.58672017, -0.47682056,  0.04214418, -0.2911609 ,  0.675423  ,\n",
       "        0.7465637 ,  0.12917386, -0.05853115,  0.58302987, -0.06304032,\n",
       "       -0.346226  ,  0.3399946 ,  0.18615772, -0.7023198 , -0.25676477,\n",
       "        0.38956323,  0.12842172,  0.13831459, -0.11237689,  0.02982863,\n",
       "       -0.43031287,  0.16103123, -0.1236412 , -0.37977496,  0.17551635,\n",
       "       -0.5227135 ,  0.28007472,  0.1081889 , -0.17923374, -0.0622146 ,\n",
       "       -0.2669949 , -0.30767444, -0.06587666, -0.48056823,  0.60406864,\n",
       "       -0.02413225,  0.04297143,  0.29375616,  0.34054828, -0.13655281,\n",
       "       -0.6833375 ,  0.19047056, -0.5484975 , -0.55511713, -0.22540665,\n",
       "        0.46698743, -0.16294442, -0.13514008, -0.15432607,  0.33156115,\n",
       "        0.4637426 , -0.1760841 ,  0.0388102 , -0.10002771,  0.13302547,\n",
       "       -0.49122718, -0.10310179, -0.17854984,  0.39960837,  0.37427408,\n",
       "       -0.64955336, -0.15776135, -0.21949239, -0.03892024, -0.61030674,\n",
       "        0.1793752 ,  0.11358801,  0.2985929 ,  0.21028632,  0.08948027,\n",
       "       -0.32116878,  0.30821177, -0.15960845, -0.05720643, -0.19511238,\n",
       "        0.8296192 , -0.34405974,  0.89127964, -0.28582114, -0.1763812 ,\n",
       "       -0.32188228, -0.09082221,  0.28522745, -0.28491488, -0.24609196,\n",
       "       -0.26705602,  0.05337947,  0.5084423 ,  0.44205606,  0.1656092 ,\n",
       "        0.59756035, -0.15920979, -0.05194572,  0.25838155, -0.160613  ,\n",
       "       -0.23532979, -0.17610896,  0.03448628,  0.19459796,  0.00881482,\n",
       "       -0.07636282, -0.2196408 , -0.15520772,  0.7488138 , -0.13902573,\n",
       "       -0.04811234,  0.255644  ,  0.34163496, -0.36290297,  0.12377545,\n",
       "        0.66686857,  0.1050202 , -0.24174866, -0.32940817,  0.05261087,\n",
       "       -0.25102568, -0.18071108,  0.35910425,  0.8414178 , -0.14506562,\n",
       "       -0.55558074, -0.4069606 , -0.101756  , -0.6678982 ,  0.13121995,\n",
       "        0.18107374, -0.04190496, -0.39341924, -0.34185094,  0.7224589 ,\n",
       "       -0.26684764,  0.17567651,  0.02206688,  0.43354762, -0.0294644 ,\n",
       "        0.01951446, -0.18738073, -0.503584  ,  0.00832986, -0.3064116 ,\n",
       "        0.07818353,  0.23179346, -0.36751416,  0.23873396, -0.09656823,\n",
       "       -0.19670556, -0.28221986,  0.26459998, -0.13027582, -0.22169678,\n",
       "       -0.4328571 ,  0.58945805,  0.01993924,  0.05115235,  0.2497255 ,\n",
       "        0.14758006,  0.06693362,  0.13363568, -0.32441875, -0.17144845,\n",
       "       -0.2430406 , -0.17390053,  0.30134985,  0.44033393, -0.06103537,\n",
       "       -0.35617006, -0.51837057, -0.01694024, -0.16393398, -0.59746784,\n",
       "        0.4045444 ,  0.4500608 , -0.05934687,  0.07689766,  0.09941605,\n",
       "       -0.23079865, -0.33645198,  0.00721519,  0.36016002,  0.10896721,\n",
       "       -0.13858223, -0.0942799 , -0.0629284 , -0.5048479 ,  0.0879641 ,\n",
       "        0.57120425, -0.3037192 ,  0.01157382, -0.0541158 ,  0.2317721 ,\n",
       "        0.0203947 , -0.13365808, -0.13833301, -0.05040048,  0.34341654,\n",
       "       -0.26820192,  0.0177976 ,  0.47942525,  0.14736065,  0.36429206,\n",
       "       -0.45878908, -0.11104937, -0.31998187,  0.4052896 ,  0.25908828,\n",
       "        0.2350725 , -0.19833867, -0.17535299,  0.12293269,  0.0709653 ,\n",
       "       -0.01046885, -0.68641   ,  0.25901178,  0.07244514, -0.01538628,\n",
       "       -0.15069203, -0.43838173, -0.39429325,  0.2040716 ,  0.09637345,\n",
       "       -0.22822051,  0.10709279,  0.7611505 ,  0.07631259, -0.20580246,\n",
       "        0.36750942,  0.14106704, -0.3814001 ,  0.26417163,  0.26580444,\n",
       "        0.05472536, -0.07634373,  0.08610905,  0.16410968, -0.09233426,\n",
       "        0.38965657,  0.277138  ,  0.06997513,  0.23605764, -0.531241  ,\n",
       "        0.00687181, -0.32521212, -0.12355221, -0.39636075, -0.12726866,\n",
       "       -0.3665492 ,  0.3757551 ,  0.03147282, -0.09446508,  0.08408229,\n",
       "        0.26284578, -0.01207916,  0.38238332, -0.2410774 ,  0.22342522,\n",
       "        0.23957798,  0.17199008,  0.851681  ,  0.38114762,  0.04256954,\n",
       "        0.13852423, -0.2725058 , -0.13698834,  0.1318513 ,  1.0637493 ],\n",
       "      dtype=float32)"
      ]
     },
     "execution_count": 16,
     "metadata": {},
     "output_type": "execute_result"
    }
   ],
   "source": [
    "doc2vec.infer_vector(text_cleaned[1])"
   ]
  },
  {
   "cell_type": "markdown",
   "metadata": {},
   "source": [
    "# Classification"
   ]
  },
  {
   "cell_type": "markdown",
   "metadata": {},
   "source": [
    "## Naive Doc2Vec"
   ]
  },
  {
   "cell_type": "code",
   "execution_count": 13,
   "metadata": {},
   "outputs": [
    {
     "name": "stderr",
     "output_type": "stream",
     "text": [
      "D:\\Anaconda3\\lib\\site-packages\\ipykernel_launcher.py:9: DeprecationWarning: Call to deprecated `__getitem__` (Method will be removed in 4.0.0, use self.wv.__getitem__() instead).\n",
      "  if __name__ == '__main__':\n"
     ]
    }
   ],
   "source": [
    "import numpy as np\n",
    "\n",
    "naive_doc2vec = np.zeros((len(text_cleaned),300))\n",
    "idx = -1\n",
    "for text in text_cleaned:\n",
    "    idx = idx + 1\n",
    "    num_words = len(text)\n",
    "    for word in text:\n",
    "        word_vector = word2vec[word]\n",
    "        naive_doc2vec[idx,:] = naive_doc2vec[idx,:] + word_vector\n",
    "    naive_doc2vec[idx,:] = naive_doc2vec[idx,:] / num_words"
   ]
  },
  {
   "cell_type": "markdown",
   "metadata": {},
   "source": [
    "## Doc2Vec"
   ]
  },
  {
   "cell_type": "code",
   "execution_count": 12,
   "metadata": {},
   "outputs": [
    {
     "name": "stdout",
     "output_type": "stream",
     "text": [
      "[ 0.51819539 -0.12092809 -0.20348667  0.76816881  0.0138858   0.4003658\n",
      "  0.89415216 -0.30314958  0.25177854 -0.34885514  0.35436589 -0.48367032\n",
      "  0.21342364 -0.90782326 -0.48038501 -0.53868455 -0.4379901   1.04964387\n",
      "  0.41214576 -0.0806098  -0.12632394  0.20721331  0.95239371  0.17302765\n",
      "  1.18847191 -0.35850468  0.91666836 -0.29147929  0.53213376 -0.36548105\n",
      " -0.08059768  0.27350482  0.40128538  1.11018956 -0.66491938  0.88129199\n",
      " -0.67434478 -0.01406762  1.11803782  0.70735598  0.11120999  0.11006031\n",
      " -0.43761513 -0.76334983 -1.0623982  -0.10690411  0.61261582  0.05220818\n",
      " -0.15658911 -0.97246623  0.24973607  0.52804804  0.90718174  0.71839482\n",
      "  0.04299706 -0.57961375 -0.1190193  -0.29958636  0.10201645  1.33187795\n",
      " -0.31167826  0.31917936  0.45413998  0.44677228 -0.90603638  0.15214166\n",
      " -0.22412725 -0.89174181  0.4214083   0.64495748 -0.07403875  0.11315721\n",
      "  0.41004667  0.24274172  0.13460805 -1.23426855 -1.20298696 -0.5195514\n",
      " -0.22273576 -0.79252225  0.29600745 -1.32290065 -0.13970263 -0.06022808\n",
      " -0.10377572 -0.17964272 -0.15874979 -0.22794069 -0.47106856 -0.5221625\n",
      "  0.03159209  0.05329897 -0.05273491 -0.02289655  0.40465286 -0.69000381\n",
      " -0.89716488  0.42953545 -0.39688891 -0.34251767 -0.0021332  -0.8858946\n",
      "  0.38712522 -0.3747153   0.19920917 -0.06847098  0.17222223 -0.18934128\n",
      "  0.53087223 -0.78694624  0.22646728 -0.68135113  0.56426758  0.28210318\n",
      " -0.21907674 -0.08510638  0.10995285  0.32596004 -0.35586089 -0.17153564\n",
      "  0.35319239  0.41071829  0.56598896  0.90412706  1.33126211  1.22558749\n",
      "  0.12265107  0.50809211  0.42194417 -0.09552462  0.19741637 -0.06427778\n",
      "  0.77539295 -0.36002865 -0.28411865 -0.57756436  0.20725526  0.23186326\n",
      "  0.29109615  0.10947875 -0.33124739 -0.74546301  0.44441068 -0.26130226\n",
      "  0.22680122  0.28761086 -1.2767694  -1.0178057  -0.17111829  0.0206301\n",
      " -0.00842518  0.02620521  0.01852739  0.05431668 -0.60435569 -0.54053271\n",
      "  0.15077208  0.3698253   0.5504142  -0.20237881 -0.92680818 -0.65787661\n",
      " -0.70658302 -0.17762461  0.11151275  0.09954516  0.09127975 -0.04620973\n",
      "  1.12648654 -0.46360704  0.5488829  -0.76874554 -0.96254158 -0.15788704\n",
      " -0.80921036 -0.14847885  0.04976831 -0.95874816  1.14366138  0.16005655\n",
      " -0.18878584 -0.05450243 -0.15828976 -0.75424415 -0.65225196  0.47062761\n",
      "  0.71258789 -0.31928509 -0.79692745  0.46443629  0.37511498 -0.12351113\n",
      " -0.5822295   0.16001521 -0.51246327 -1.16392827  0.22760914  0.03908122\n",
      "  0.2203695   0.29761437 -0.21016385  0.47347161 -0.15150838 -0.73320967\n",
      "  0.1609246   0.23386982  0.2689245   0.42345646  0.29865152  1.05099392\n",
      "  0.47100955 -0.89952534  0.27730098  0.35379884  0.4843542  -0.34243321\n",
      "  0.4360556   0.20841263 -1.24257541 -0.38112637  0.00635492 -0.42768681\n",
      " -0.71441489  0.30071208  0.02553122  1.36213267  0.63511497  0.21554397\n",
      "  0.10747036  0.09785356  0.21187007  0.13054354  0.3493318  -0.13100921\n",
      "  0.72961676 -0.075991   -0.33868277 -0.16444121  1.08251393 -0.69876087\n",
      "  0.14858197 -0.29089341  0.39138067  0.11248051  0.0551348   0.06100479\n",
      " -0.49313098 -0.82859343 -0.56809688  0.14515491  0.45993635 -0.53568494\n",
      " -0.64523125 -0.30784041 -0.59408128  0.05671624  0.27717367  0.63553709\n",
      "  0.49557963 -0.2873469  -0.67392564  0.35048309 -0.34414124  0.25730652\n",
      "  0.3553786  -0.17975813 -0.09232801  0.6767115  -0.01546322  0.39983392\n",
      "  0.64556789  0.11861254  0.46617767  0.12899572  0.07071906  0.50897098\n",
      " -0.41332683  0.14091466  0.09990989  0.26698703 -0.16096717  0.43565062\n",
      "  0.26529902 -0.8904624   1.27460837  1.1731379  -0.38064957 -0.2470399\n",
      "  0.78282779 -0.65688592  0.58527422  0.0780876   0.73539901  0.17079769\n",
      " -0.22828899 -0.30180886  0.55332911 -0.35379997 -0.06580958  0.37282401]\n"
     ]
    }
   ],
   "source": [
    "doc2vec_data = np.zeros((len(text_cleaned),300))\n",
    "for i in range (len(text_cleaned)):\n",
    "    doc2vec_data[i] = doc2vec.infer_vector(text_cleaned[i])\n",
    "\n",
    "print(doc2vec_data[0])"
   ]
  },
  {
   "cell_type": "markdown",
   "metadata": {},
   "source": [
    "## Merge Features"
   ]
  },
  {
   "cell_type": "code",
   "execution_count": 13,
   "metadata": {},
   "outputs": [
    {
     "name": "stdout",
     "output_type": "stream",
     "text": [
      "6299\n"
     ]
    }
   ],
   "source": [
    "data = doc2vec_data \n",
    "print(len(data))"
   ]
  },
  {
   "cell_type": "code",
   "execution_count": 14,
   "metadata": {},
   "outputs": [
    {
     "name": "stdout",
     "output_type": "stream",
     "text": [
      "(2079, 300)\n"
     ]
    }
   ],
   "source": [
    "from sklearn.model_selection import train_test_split\n",
    "\n",
    "# split data into train and test sets\n",
    "seed = 42\n",
    "test_size = 0.33\n",
    "X_train, X_test, y_train, y_test = train_test_split(data, labels, test_size=test_size, random_state=seed)\n",
    "print(X_test.shape)"
   ]
  },
  {
   "cell_type": "code",
   "execution_count": 15,
   "metadata": {},
   "outputs": [
    {
     "name": "stdout",
     "output_type": "stream",
     "text": [
      "[0 1 0 1 0 0 0 1 0 1]\n",
      "[[500 517]\n",
      " [518 544]]\n",
      "accuracy: 0.5021645021645021\n",
      "precision: 0.5127238454288408\n",
      "recall: 0.512241054613936\n",
      "f1score: 0.5124823363165333\n"
     ]
    }
   ],
   "source": [
    "# instantiate a SVM regression model, and fit with X and y\n",
    "from sklearn.linear_model import LogisticRegression\n",
    "from sklearn.metrics import confusion_matrix\n",
    "from sklearn.metrics import precision_score, recall_score, f1_score\n",
    "\n",
    "\n",
    "model = LogisticRegression()\n",
    "model = model.fit(X_train, y_train)\n",
    "\n",
    "y_pred = model.predict(X_test)\n",
    "\n",
    "print(y_pred[0:10])\n",
    "# check the accuracy on the training set\n",
    "print(confusion_matrix(y_true=y_test, y_pred=y_pred))\n",
    "score = model.score(X_test, y_test)\n",
    "\n",
    "p = precision_score(y_test, y_pred, average='binary')\n",
    "r = recall_score(y_test, y_pred, average='binary')\n",
    "f1score = f1_score(y_test, y_pred, average='binary')\n",
    "print('accuracy:',score)\n",
    "print('precision:',p)\n",
    "print('recall:',r)\n",
    "print('f1score:',f1score)"
   ]
  },
  {
   "cell_type": "code",
   "execution_count": null,
   "metadata": {
    "collapsed": true
   },
   "outputs": [],
   "source": []
  }
 ],
 "metadata": {
  "kernelspec": {
   "display_name": "Python 3",
   "language": "python",
   "name": "python3"
  },
  "language_info": {
   "codemirror_mode": {
    "name": "ipython",
    "version": 3
   },
   "file_extension": ".py",
   "mimetype": "text/x-python",
   "name": "python",
   "nbconvert_exporter": "python",
   "pygments_lexer": "ipython3",
   "version": "3.6.2"
  }
 },
 "nbformat": 4,
 "nbformat_minor": 1
}
