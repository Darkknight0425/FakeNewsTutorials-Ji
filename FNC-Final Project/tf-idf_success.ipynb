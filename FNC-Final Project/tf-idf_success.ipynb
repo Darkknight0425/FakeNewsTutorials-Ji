{
 "cells": [
  {
   "cell_type": "code",
   "execution_count": 30,
   "metadata": {},
   "outputs": [
    {
     "data": {
      "text/html": [
       "<div>\n",
       "<style>\n",
       "    .dataframe thead tr:only-child th {\n",
       "        text-align: right;\n",
       "    }\n",
       "\n",
       "    .dataframe thead th {\n",
       "        text-align: left;\n",
       "    }\n",
       "\n",
       "    .dataframe tbody tr th {\n",
       "        vertical-align: top;\n",
       "    }\n",
       "</style>\n",
       "<table border=\"1\" class=\"dataframe\">\n",
       "  <thead>\n",
       "    <tr style=\"text-align: right;\">\n",
       "      <th></th>\n",
       "      <th>Unnamed: 0</th>\n",
       "      <th>title</th>\n",
       "      <th>text</th>\n",
       "      <th>label</th>\n",
       "      <th>title_vectors</th>\n",
       "    </tr>\n",
       "  </thead>\n",
       "  <tbody>\n",
       "    <tr>\n",
       "      <th>0</th>\n",
       "      <td>8476</td>\n",
       "      <td>You Can Smell Hillary’s Fear</td>\n",
       "      <td>Daniel Greenfield, a Shillman Journalism Fello...</td>\n",
       "      <td>FAKE</td>\n",
       "      <td>[ 1.1533764e-02  4.2144405e-03  1.9692603e-02 ...</td>\n",
       "    </tr>\n",
       "    <tr>\n",
       "      <th>1</th>\n",
       "      <td>10294</td>\n",
       "      <td>Watch The Exact Moment Paul Ryan Committed Pol...</td>\n",
       "      <td>Google Pinterest Digg Linkedin Reddit Stumbleu...</td>\n",
       "      <td>FAKE</td>\n",
       "      <td>[ 0.11267698  0.02518966 -0.00212591  0.021095...</td>\n",
       "    </tr>\n",
       "    <tr>\n",
       "      <th>2</th>\n",
       "      <td>3608</td>\n",
       "      <td>Kerry to go to Paris in gesture of sympathy</td>\n",
       "      <td>U.S. Secretary of State John F. Kerry said Mon...</td>\n",
       "      <td>REAL</td>\n",
       "      <td>[ 0.04253004  0.04300297  0.01848392  0.048672...</td>\n",
       "    </tr>\n",
       "    <tr>\n",
       "      <th>3</th>\n",
       "      <td>10142</td>\n",
       "      <td>Bernie supporters on Twitter erupt in anger ag...</td>\n",
       "      <td>— Kaydee King (@KaydeeKing) November 9, 2016 T...</td>\n",
       "      <td>FAKE</td>\n",
       "      <td>[ 0.10801624  0.11583211  0.02874823  0.061732...</td>\n",
       "    </tr>\n",
       "    <tr>\n",
       "      <th>4</th>\n",
       "      <td>875</td>\n",
       "      <td>The Battle of New York: Why This Primary Matters</td>\n",
       "      <td>It's primary day in New York and front-runners...</td>\n",
       "      <td>REAL</td>\n",
       "      <td>[ 1.69016439e-02  7.13498285e-03 -7.81233795e-...</td>\n",
       "    </tr>\n",
       "  </tbody>\n",
       "</table>\n",
       "</div>"
      ],
      "text/plain": [
       "   Unnamed: 0                                              title  \\\n",
       "0        8476                       You Can Smell Hillary’s Fear   \n",
       "1       10294  Watch The Exact Moment Paul Ryan Committed Pol...   \n",
       "2        3608        Kerry to go to Paris in gesture of sympathy   \n",
       "3       10142  Bernie supporters on Twitter erupt in anger ag...   \n",
       "4         875   The Battle of New York: Why This Primary Matters   \n",
       "\n",
       "                                                text label  \\\n",
       "0  Daniel Greenfield, a Shillman Journalism Fello...  FAKE   \n",
       "1  Google Pinterest Digg Linkedin Reddit Stumbleu...  FAKE   \n",
       "2  U.S. Secretary of State John F. Kerry said Mon...  REAL   \n",
       "3  — Kaydee King (@KaydeeKing) November 9, 2016 T...  FAKE   \n",
       "4  It's primary day in New York and front-runners...  REAL   \n",
       "\n",
       "                                       title_vectors  \n",
       "0  [ 1.1533764e-02  4.2144405e-03  1.9692603e-02 ...  \n",
       "1  [ 0.11267698  0.02518966 -0.00212591  0.021095...  \n",
       "2  [ 0.04253004  0.04300297  0.01848392  0.048672...  \n",
       "3  [ 0.10801624  0.11583211  0.02874823  0.061732...  \n",
       "4  [ 1.69016439e-02  7.13498285e-03 -7.81233795e-...  "
      ]
     },
     "execution_count": 30,
     "metadata": {},
     "output_type": "execute_result"
    }
   ],
   "source": [
    "# MengZe Zhang 2018-9-23\n",
    "# import all the data and split all strings to words in it\n",
    "import warnings\n",
    "warnings.filterwarnings(action='ignore', category=UserWarning, module='gensim')\n",
    "import numpy as np\n",
    "import pandas as pd\n",
    "import copy\n",
    "from nltk.stem import WordNetLemmatizer\n",
    "from nltk.corpus import stopwords\n",
    "from string import punctuation\n",
    "from itertools import chain\n",
    "from gensim.models import Word2Vec\n",
    "from gensim.models import Doc2Vec\n",
    "from gensim.models.doc2vec import TaggedDocument\n",
    "import nltk\n",
    "from sklearn.model_selection import train_test_split as tts\n",
    "from sklearn.linear_model import LogisticRegression\n",
    "from sklearn.metrics import classification_report as cr\n",
    "from sklearn.ensemble import RandomForestClassifier\n",
    "from xgboost import XGBClassifier\n",
    "from sklearn.svm import SVC\n",
    "from sklearn import cross_validation\n",
    "from sklearn.model_selection import RandomizedSearchCV\n",
    "from numpy import linspace\n",
    "from scipy.sparse import csr_matrix\n",
    "from itertools import chain\n",
    "from gensim import corpora, models\n",
    "from collections import  defaultdict\n",
    "from sklearn.metrics import pairwise\n",
    "from sklearn.manifold import MDS\n",
    "\n",
    "df=pd.read_csv('data/fake_or_real_news.csv')\n",
    "title=np.asarray(df.title)\n",
    "text=np.asarray(df.text)\n",
    "y=np.asarray(df.label)\n",
    "title=[titles.lower().split() for titles in title]\n",
    "text=[texts.lower().split() for texts in text]\n",
    "# Haorui Ji 2018-9-24\n",
    "# Combine title and text in every review into one list \n",
    "titleandtext = copy.deepcopy(title)\n",
    "for i in range(len(titleandtext)):\n",
    "    titleandtext[i].extend(text[i])\n",
    "df.head()"
   ]
  },
  {
   "cell_type": "code",
   "execution_count": 31,
   "metadata": {
    "collapsed": true
   },
   "outputs": [],
   "source": [
    "-"
   ]
  },
  {
   "cell_type": "code",
   "execution_count": 32,
   "metadata": {
    "collapsed": true
   },
   "outputs": [],
   "source": [
    "clean_titleandtext=clean_text(titleandtext,True,True)\n",
    "clean_title=clean_text(title,True,True)\n",
    "clean_text=clean_text(text,True,True)"
   ]
  },
  {
   "cell_type": "code",
   "execution_count": 33,
   "metadata": {
    "collapsed": true
   },
   "outputs": [],
   "source": [
    "# MengZe Zhang 2018-9-23\n",
    "# train two w2v models, one trained on text corpus, the other trained on title corpus\n",
    "\n",
    "\n",
    "model1 = Word2Vec(clean_title,\n",
    "                       size = 300,\n",
    "                       window = 5,\n",
    "                       min_count = 0,\n",
    "                       sg = 0,\n",
    "                       alpha = 0.025,\n",
    "                       iter=10,\n",
    "                       batch_words = 10000)\n",
    "model2 = Word2Vec(clean_text,\n",
    "                        size = 300,\n",
    "                        window = 5,\n",
    "                        min_count = 1,\n",
    "                        sg = 0,\n",
    "                        alpha = 0.025,\n",
    "                        iter=10,\n",
    "                        batch_words = 10000)\n"
   ]
  },
  {
   "cell_type": "code",
   "execution_count": 34,
   "metadata": {},
   "outputs": [
    {
     "name": "stderr",
     "output_type": "stream",
     "text": [
      "F:\\Anaconda3\\lib\\site-packages\\ipykernel_launcher.py:21: RuntimeWarning: invalid value encountered in true_divide\n"
     ]
    }
   ],
   "source": [
    "# Haorui Ji 2018-9-24\n",
    "# Develope doc vectors from word vectors by taking average of word vectors(Naive Doc2Vec)\n",
    "# Remove those with no text\n",
    "\n",
    "title_list = []\n",
    "text_list = []\n",
    "deleteindex = []\n",
    "idx = -1\n",
    "for title,text in zip(clean_title,clean_text):\n",
    "    idx += 1\n",
    "    init_vec_title = np.zeros([300,])\n",
    "    init_vec_text = np.zeros([300,])\n",
    "    num_words_title = len(title)\n",
    "    num_words_text = len(text)\n",
    "        \n",
    "    if num_words_text == 0:\n",
    "        deleteindex.append(idx)\n",
    "    else:\n",
    "        for tiword in title:\n",
    "            init_vec_title += model1.wv[tiword]    \n",
    "        init_vec_title /= num_words_title\n",
    "        title_list.append(init_vec_title)\n",
    "        for teword in text:\n",
    "            init_vec_text += model2.wv[teword]\n",
    "        init_vec_text /= num_words_text\n",
    "        text_list.append(init_vec_text)"
   ]
  },
  {
   "cell_type": "code",
   "execution_count": 35,
   "metadata": {},
   "outputs": [
    {
     "name": "stdout",
     "output_type": "stream",
     "text": [
      "(6299, 300)\n"
     ]
    }
   ],
   "source": [
    "# This time, we combine title and text information by adding them together but not concatenating\n",
    "\n",
    "titleandtext_list=[]\n",
    "for title,text in zip(title_list,text_list):\n",
    "    titleandtext_list.append(title+text)\n",
    "w_titleandtext_array=np.asarray(titleandtext_list)\n",
    "print(w_titleandtext_array.shape)"
   ]
  },
  {
   "cell_type": "code",
   "execution_count": 36,
   "metadata": {},
   "outputs": [
    {
     "name": "stdout",
     "output_type": "stream",
     "text": [
      "True\n",
      "False\n"
     ]
    }
   ],
   "source": [
    "print(np.isnan(w_titleandtext_array).any())\n",
    "w_titleandtext_array[np.isnan(w_titleandtext_array)] = np.mean(w_titleandtext_array[~np.isnan(w_titleandtext_array)])\n",
    "print(np.isnan(w_titleandtext_array).any())"
   ]
  },
  {
   "cell_type": "code",
   "execution_count": 37,
   "metadata": {
    "collapsed": true
   },
   "outputs": [],
   "source": [
    "# Haorui Ji 2018-9-24\n",
    "# take doc vectors by using d2v method trained on titleandtext corpus\n",
    "\n",
    "tagged_docs = [TaggedDocument(doc, tags=[idx]) for idx, doc in enumerate(clean_titleandtext)]\n",
    "doc2vec = Doc2Vec(tagged_docs,size=300, window=5, min_count=5, dm = 0.5, iter=10)\n",
    "doc2vec.train(tagged_docs, epochs=50, total_examples=doc2vec.corpus_count)\n",
    "new_list2=[]\n",
    "for i in range(doc2vec.docvecs.count):\n",
    "    new_list2.append(doc2vec.docvecs[i])\n",
    "d_titleandtext_array=np.asarray(new_list2)"
   ]
  },
  {
   "cell_type": "code",
   "execution_count": 38,
   "metadata": {},
   "outputs": [
    {
     "name": "stdout",
     "output_type": "stream",
     "text": [
      "Dictionary(17950 unique tokens: ['60%', 'abedin.', 'abus', 'accus', 'act']...)\n"
     ]
    }
   ],
   "source": [
    "dictionary = corpora.Dictionary(clean_titleandtext)\n",
    "\n",
    "small_freq_ids = [tokenid for tokenid, docfreq in dictionary.dfs.items() if docfreq < 10]\n",
    "dictionary.filter_tokens(small_freq_ids)\n",
    "dictionary.compactify()\n",
    "print(dictionary)\n",
    "\n",
    "corpus = [dictionary.doc2bow(text) for text in clean_titleandtext]\n",
    "tfidf_model = models.TfidfModel(corpus=corpus,\n",
    "                                dictionary=dictionary)\n",
    "corpus_tfidf = [tfidf_model[doc] for doc in corpus]\n",
    "lsi_model = models.LsiModel(corpus = corpus_tfidf, \n",
    "                            id2word = dictionary, \n",
    "                            num_topics=300)\n",
    "corpus_lsi = [lsi_model[doc] for doc in corpus]\n",
    "#print(corpus_lsi[0])\n",
    "\n",
    "data = []\n",
    "rows = []\n",
    "cols = []\n",
    "line_count = 0\n",
    "for line in corpus_lsi:  # lsi_corpus_total 是之前由gensim生成的lsi向量\n",
    "    for elem in line:\n",
    "        rows.append(line_count)\n",
    "        cols.append(elem[0])\n",
    "        data.append(elem[1])\n",
    "    line_count += 1\n",
    "lsi_sparse_matrix = csr_matrix((data,(rows,cols))) # 稀疏向量\n",
    "lsi_matrix = lsi_sparse_matrix.toarray()  # 密集向量\n",
    "#print(lsi_matrix[0])\n",
    "tf_titleandtext_array=np.asarray(lsi_matrix)"
   ]
  },
  {
   "cell_type": "code",
   "execution_count": 39,
   "metadata": {},
   "outputs": [
    {
     "name": "stdout",
     "output_type": "stream",
     "text": [
      "d_vec (6299, 300)\n",
      "tf_vec (6299, 300)\n",
      "(6299, 900)\n",
      "False\n",
      "False\n"
     ]
    }
   ],
   "source": [
    "# MengZe Zhang 2018-9-23\n",
    "# process the lael array and doc array made from d2v, so that all three arrays can have the same shape.\n",
    "\n",
    "final_y=np.delete(y,deleteindex)\n",
    "d_titleandtext_array=np.delete(d_titleandtext_array,deleteindex,axis=0)\n",
    "tf_titleandtext_array=np.delete(tf_titleandtext_array,deleteindex,axis=0)\n",
    "print(\"d_vec\", d_titleandtext_array.shape)\n",
    "print(\"tf_vec\", tf_titleandtext_array.shape)\n",
    "wordanddoc_list=[]\n",
    "for word,doc,tf in zip(w_titleandtext_array,d_titleandtext_array, tf_titleandtext_array):\n",
    "    wordanddoc_list.append([*list(word),*list(doc), *list(tf)])\n",
    "    \n",
    "wordanddoc_array=np.asarray(wordanddoc_list)\n",
    "print(wordanddoc_array.shape)\n",
    "\n",
    "print(np.isnan(wordanddoc_array).any())\n",
    "wordanddoc_array[np.isnan(wordanddoc_array)] = np.mean(wordanddoc_array[~np.isnan(wordanddoc_array)])\n",
    "print(np.isnan(wordanddoc_array).any())\n",
    "\n",
    "realnumber_y=[1]*6299\n",
    "count=0\n",
    "for word in final_y:\n",
    "    if(word=='FAKE'):\n",
    "        realnumber_y[count]=0\n",
    "    else:\n",
    "        realnumber_y[count]=1\n",
    "    count+=1\n",
    "realnumber_y = np.array(realnumber_y).astype(int)"
   ]
  },
  {
   "cell_type": "code",
   "execution_count": 40,
   "metadata": {},
   "outputs": [
    {
     "name": "stdout",
     "output_type": "stream",
     "text": [
      "text_f1_score: 0.93 (+/- 0.00) [LR]\n",
      "text_f1_score: 0.87 (+/- 0.00) [RF]\n"
     ]
    },
    {
     "name": "stderr",
     "output_type": "stream",
     "text": [
      "F:\\Anaconda3\\lib\\site-packages\\sklearn\\preprocessing\\label.py:171: DeprecationWarning: The truth value of an empty array is ambiguous. Returning False, but in future this will result in an error. Use `array.size > 0` to check that an array is not empty.\n",
      "  if diff:\n",
      "F:\\Anaconda3\\lib\\site-packages\\sklearn\\preprocessing\\label.py:171: DeprecationWarning: The truth value of an empty array is ambiguous. Returning False, but in future this will result in an error. Use `array.size > 0` to check that an array is not empty.\n",
      "  if diff:\n",
      "F:\\Anaconda3\\lib\\site-packages\\sklearn\\preprocessing\\label.py:171: DeprecationWarning: The truth value of an empty array is ambiguous. Returning False, but in future this will result in an error. Use `array.size > 0` to check that an array is not empty.\n",
      "  if diff:\n"
     ]
    },
    {
     "name": "stdout",
     "output_type": "stream",
     "text": [
      "text_f1_score: 0.91 (+/- 0.00) [XGB]\n",
      "text_f1_score: 0.94 (+/- 0.00) [SVM]\n"
     ]
    }
   ],
   "source": [
    "# MengZe Zhang 2018-9-23\n",
    "# test the concatenate vectors on four classifiers.\n",
    "\n",
    "clf1=LogisticRegression()\n",
    "clf2=RandomForestClassifier()\n",
    "clf3=XGBClassifier()\n",
    "clf4=SVC(probability=True)\n",
    "\n",
    "for clf,label in zip([clf1,clf2,clf3,clf4],['LR','RF','XGB','SVM']):\n",
    "    scores=cross_validation.cross_val_score(clf,wordanddoc_array,realnumber_y,scoring='f1')\n",
    "    print(\"text_f1_score: %0.2f (+/- %0.2f) [%s]\" % (scores.mean(), scores.std(), label))"
   ]
  },
  {
   "cell_type": "code",
   "execution_count": 41,
   "metadata": {},
   "outputs": [
    {
     "name": "stdout",
     "output_type": "stream",
     "text": [
      "text_f1_score: 0.93331 (+/- 0.00231) [LR]\n",
      "text_f1_score: 0.86979 (+/- 0.00925) [RF]\n"
     ]
    },
    {
     "name": "stderr",
     "output_type": "stream",
     "text": [
      "F:\\Anaconda3\\lib\\site-packages\\sklearn\\preprocessing\\label.py:171: DeprecationWarning: The truth value of an empty array is ambiguous. Returning False, but in future this will result in an error. Use `array.size > 0` to check that an array is not empty.\n",
      "  if diff:\n",
      "F:\\Anaconda3\\lib\\site-packages\\sklearn\\preprocessing\\label.py:171: DeprecationWarning: The truth value of an empty array is ambiguous. Returning False, but in future this will result in an error. Use `array.size > 0` to check that an array is not empty.\n",
      "  if diff:\n",
      "F:\\Anaconda3\\lib\\site-packages\\sklearn\\preprocessing\\label.py:171: DeprecationWarning: The truth value of an empty array is ambiguous. Returning False, but in future this will result in an error. Use `array.size > 0` to check that an array is not empty.\n",
      "  if diff:\n"
     ]
    },
    {
     "name": "stdout",
     "output_type": "stream",
     "text": [
      "text_f1_score: 0.91198 (+/- 0.00069) [XGB]\n",
      "text_f1_score: 0.93817 (+/- 0.00154) [SVM]\n"
     ]
    }
   ],
   "source": [
    "for clf,label in zip([clf1,clf2,clf3,clf4],['LR','RF','XGB','SVM']):\n",
    "    scores=cross_validation.cross_val_score(clf,wordanddoc_array,realnumber_y,scoring='f1')\n",
    "    print(\"text_f1_score: %0.5f (+/- %0.5f) [%s]\" % (scores.mean(), scores.std(), label))"
   ]
  },
  {
   "cell_type": "code",
   "execution_count": 42,
   "metadata": {
    "collapsed": true
   },
   "outputs": [],
   "source": [
    "# MengZe Zhang 2018-9-23\n",
    "# setting three sets of parameters for random grid search\n",
    "# random_grid1 for clf1,random_grid3 for clf3,random_grid4 for clf4\n",
    "\n",
    "c=np.linspace(1,50,200)\n",
    "random_grid1={'C':c}\n",
    "\n",
    "\n",
    "random_grid3 = {\n",
    "        'min_child_weight': [1, 5, 10],\n",
    "        'gamma': np.linspace(0.1,5,100),\n",
    "        'max_depth': list(range(1,9,1)),\n",
    "        'n_estimators': list(range(200,2000,10))\n",
    "        }\n",
    "\n",
    "\n",
    "random_grid4= {'C':linspace(1,50,200),'gamma':linspace(0.001,1,200), 'kernel':['linear','rbf']}\n",
    "n_iter_search=100\n",
    "random_search1=RandomizedSearchCV(clf1,cv=5,param_distributions=random_grid1,n_iter=n_iter_search,return_train_score=True,n_jobs=6)\n",
    "random_search3=RandomizedSearchCV(clf3,cv=5,param_distributions=random_grid3,n_iter=n_iter_search,return_train_score=True,n_jobs=6)\n",
    "random_search4=RandomizedSearchCV(clf4,cv=5,param_distributions=random_grid4,n_iter=n_iter_search,return_train_score=True,n_jobs=6)"
   ]
  },
  {
   "cell_type": "code",
   "execution_count": 43,
   "metadata": {
    "collapsed": true
   },
   "outputs": [],
   "source": [
    "# MengZe Zhang 2018-9-23\n",
    "# divide the whole corpus into three parts: validation set(25%), test set(25%) and training set(25%)\n",
    "test_size=0.25\n",
    "validation_size=0.25\n",
    "test_validation_size=test_size+validation_size\n",
    "test_size1=test_size/test_validation_size\n",
    "x_train,x_testandvalid,y_train,y_testandvalid=tts(wordanddoc_array,final_y,test_size=test_validation_size,random_state=22)\n",
    "x_valid,x_test,y_valid,y_test=tts(x_testandvalid,y_testandvalid,test_size=test_size1,random_state=22)"
   ]
  },
  {
   "cell_type": "code",
   "execution_count": 44,
   "metadata": {},
   "outputs": [
    {
     "data": {
      "text/plain": [
       "RandomizedSearchCV(cv=5, error_score='raise',\n",
       "          estimator=LogisticRegression(C=1.0, class_weight=None, dual=False, fit_intercept=True,\n",
       "          intercept_scaling=1, max_iter=100, multi_class='ovr', n_jobs=1,\n",
       "          penalty='l2', random_state=None, solver='liblinear', tol=0.0001,\n",
       "          verbose=0, warm_start=False),\n",
       "          fit_params={}, iid=True, n_iter=100, n_jobs=6,\n",
       "          param_distributions={'C': array([ 1.     ,  1.24623, ..., 49.75377, 50.     ])},\n",
       "          pre_dispatch='2*n_jobs', random_state=None, refit=True,\n",
       "          return_train_score=True, scoring=None, verbose=0)"
      ]
     },
     "execution_count": 44,
     "metadata": {},
     "output_type": "execute_result"
    }
   ],
   "source": [
    "random_search1.fit(x_valid,y_valid)"
   ]
  },
  {
   "cell_type": "code",
   "execution_count": 45,
   "metadata": {},
   "outputs": [
    {
     "data": {
      "text/plain": [
       "RandomizedSearchCV(cv=5, error_score='raise',\n",
       "          estimator=XGBClassifier(base_score=0.5, booster='gbtree', colsample_bylevel=1,\n",
       "       colsample_bytree=1, gamma=0, learning_rate=0.1, max_delta_step=0,\n",
       "       max_depth=3, min_child_weight=1, missing=None, n_estimators=100,\n",
       "       n_jobs=1, nthread=None, objective='binary:logistic', random_state=0,\n",
       "       reg_alpha=0, reg_lambda=1, scale_pos_weight=1, seed=None,\n",
       "       silent=True, subsample=1),\n",
       "          fit_params={}, iid=True, n_iter=100, n_jobs=6,\n",
       "          param_distributions={'min_child_weight': [1, 5, 10], 'gamma': array([0.1    , 0.14949, ..., 4.95051, 5.     ]), 'max_depth': [1, 2, 3, 4, 5, 6, 7, 8], 'n_estimators': [200, 210, 220, 230, 240, 250, 260, 270, 280, 290, 300, 310, 320, 330, 340, 350, 360, 370, 380, 390, 400, 410, 420, 430, 440, 450, 46...30, 1840, 1850, 1860, 1870, 1880, 1890, 1900, 1910, 1920, 1930, 1940, 1950, 1960, 1970, 1980, 1990]},\n",
       "          pre_dispatch='2*n_jobs', random_state=None, refit=True,\n",
       "          return_train_score=True, scoring=None, verbose=0)"
      ]
     },
     "execution_count": 45,
     "metadata": {},
     "output_type": "execute_result"
    }
   ],
   "source": [
    "random_search3.fit(x_valid,y_valid)"
   ]
  },
  {
   "cell_type": "code",
   "execution_count": 46,
   "metadata": {},
   "outputs": [
    {
     "data": {
      "text/plain": [
       "RandomizedSearchCV(cv=5, error_score='raise',\n",
       "          estimator=SVC(C=1.0, cache_size=200, class_weight=None, coef0=0.0,\n",
       "  decision_function_shape=None, degree=3, gamma='auto', kernel='rbf',\n",
       "  max_iter=-1, probability=True, random_state=None, shrinking=True,\n",
       "  tol=0.001, verbose=False),\n",
       "          fit_params={}, iid=True, n_iter=100, n_jobs=6,\n",
       "          param_distributions={'C': array([ 1.     ,  1.24623, ..., 49.75377, 50.     ]), 'gamma': array([0.001  , 0.00602, ..., 0.99498, 1.     ]), 'kernel': ['linear', 'rbf']},\n",
       "          pre_dispatch='2*n_jobs', random_state=None, refit=True,\n",
       "          return_train_score=True, scoring=None, verbose=0)"
      ]
     },
     "execution_count": 46,
     "metadata": {},
     "output_type": "execute_result"
    }
   ],
   "source": [
    "random_search4.fit(x_valid,y_valid)"
   ]
  },
  {
   "cell_type": "code",
   "execution_count": 48,
   "metadata": {
    "collapsed": true
   },
   "outputs": [],
   "source": [
    "# MengZe Zhang 2018-9-23\n",
    "# Define the EnsembleClassifier class\n",
    "\n",
    "class EnsembleClassifier():\n",
    "    \n",
    "    def __init__(self,textclfs,titleclfs,weights):\n",
    "        self.textclfs=textclfs\n",
    "        self.titleclfs=titleclfs\n",
    "        self.weights=weights\n",
    "\n",
    "    def fit(self,doc_vec,title_vec, y):\n",
    "        for text_clf in self.textclfs:\n",
    "            text_clf.fit(doc_vec,y)\n",
    "        for title_clf in self.titleclfs:\n",
    "            title_clf.fit(title_vec,y)\n",
    "        #print(\"fitting process is over\")\n",
    "    def predict(self, title_vec,doc_vec):\n",
    "        \n",
    "        print(\"predict process begins\")\n",
    "        avg=self.predict_proba(doc_vec,title_vec)\n",
    "        results=[]\n",
    "        for item in avg:\n",
    "          if(item[0]>item[1]):\n",
    "              results.append('FAKE')\n",
    "          else:\n",
    "              results.append('REAL')\n",
    "        print(\"predict process is over\")\n",
    "        return np.asarray(results)\n",
    "\n",
    "    def predict_proba(self, doc_vec, title_vec):\n",
    "        self.probas_ = [np.array(text_clf.predict_proba(doc_vec),dtype='float') for text_clf in self.textclfs]\n",
    "        for title_clf in self.titleclfs:\n",
    "            self.probas_.append(title_clf.predict_proba(title_vec))\n",
    "        avg = np.average(self.probas_, axis=0, weights=self.weights)\n",
    "#        for result,weight in zip(self.probas_,self.weights):\n",
    "#            sumresult+=result*weight\n",
    "#            sumweight+=weight\n",
    "#        avg=sumresult/sumweight\n",
    "        print(avg)\n",
    "        return avg  "
   ]
  },
  {
   "cell_type": "code",
   "execution_count": 54,
   "metadata": {},
   "outputs": [
    {
     "name": "stdout",
     "output_type": "stream",
     "text": [
      "predict process begins\n",
      "[[0.61607842 0.38392158]\n",
      " [0.9072944  0.0927056 ]\n",
      " [0.03573857 0.96426143]\n",
      " ...\n",
      " [0.05228418 0.94771582]\n",
      " [0.01295698 0.98704302]\n",
      " [0.02231902 0.97768098]]\n",
      "predict process is over\n",
      "             precision    recall  f1-score   support\n",
      "\n",
      "       FAKE     0.9255    0.9551    0.9401       780\n",
      "       REAL     0.9545    0.9245    0.9393       795\n",
      "\n",
      "avg / total     0.9401    0.9397    0.9397      1575\n",
      "\n"
     ]
    }
   ],
   "source": [
    "# MengZe Zhang 2018-9-23\n",
    "# assign all three best estimators of three random gridsearch to clf1, clf3 and clf4\n",
    "# use the ensemble classifier to train and test on the training set and test set.\n",
    "# evaluate its performance.\n",
    "\n",
    "clf1=random_search1.best_estimator_\n",
    "clf3=random_search3.best_estimator_\n",
    "#clf4=random_search4.best_estimator_\n",
    "ultraclf=EnsembleClassifier(textclfs=[clf1,clf3,clf4],titleclfs=[],weights=[1,1,1])\n",
    "ultraclf.fit(x_train,x_train,y_train)\n",
    "prediction=ultraclf.predict(x_test,x_test)\n",
    "target_names=['FAKE','REAL']\n",
    "print(cr(y_test,prediction,target_names=target_names,digits=4))"
   ]
  },
  {
   "cell_type": "code",
   "execution_count": 50,
   "metadata": {
    "collapsed": true
   },
   "outputs": [],
   "source": [
    "# MengZe Zhang 2018-9-23\n",
    "# make a function that can plot cofusion matrix\n",
    "#This is a compact version of the orginal function(The original function is here:http://scikit-learn.org/stable/auto_examples/model_selection/plot_confusion_matrix.html)\n",
    "\n",
    "import matplotlib.pyplot as plt\n",
    "from sklearn import metrics\n",
    "import itertools\n",
    "def plot_confusion_matrix(cm,classes,title='Confusion Matrix',cmap=plt.cm.Blues):\n",
    "    plt.imshow(cm,interpolation='nearest',cmap=cmap)\n",
    "    plt.title(title)\n",
    "    plt.colorbar()\n",
    "    tick_marks = np.arange(len(classes))\n",
    "    plt.xticks(tick_marks, classes, rotation=45)\n",
    "    plt.yticks(tick_marks, classes)\n",
    "    thresh = cm.max() / 2.\n",
    "    for i, j in itertools.product(range(cm.shape[0]),range(cm.shape[1])):\n",
    "        plt.text(j, i, cm[i, j],\n",
    "                 horizontalalignment=\"center\",\n",
    "                 color=\"white\" if cm[i, j] > thresh else \"black\")\n",
    "    plt.tight_layout()\n",
    "    plt.ylabel('True label')\n",
    "    plt.xlabel('Predicted label')"
   ]
  },
  {
   "cell_type": "code",
   "execution_count": 51,
   "metadata": {},
   "outputs": [
    {
     "data": {
      "image/png": "[encoded data removed]",
      "text/plain": [
       "<Figure size 432x288 with 2 Axes>"
      ]
     },
     "metadata": {},
     "output_type": "display_data"
    }
   ],
   "source": [
    "# MengZe Zhang 2018-9-23\n",
    "# plot the confusion matrix\n",
    "\n",
    "%matplotlib inline\n",
    "cm=metrics.confusion_matrix(y_test,prediction,target_names)\n",
    "plot_confusion_matrix(cm,classes=target_names)"
   ]
  }
 ],
 "metadata": {
  "kernelspec": {
   "display_name": "Python 3",
   "language": "python",
   "name": "python3"
  },
  "language_info": {
   "codemirror_mode": {
    "name": "ipython",
    "version": 3
   },
   "file_extension": ".py",
   "mimetype": "text/x-python",
   "name": "python",
   "nbconvert_exporter": "python",
   "pygments_lexer": "ipython3",
   "version": "3.6.2"
  }
 },
 "nbformat": 4,
 "nbformat_minor": 2
}
